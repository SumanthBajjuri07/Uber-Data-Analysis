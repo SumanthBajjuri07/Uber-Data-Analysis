{
 "cells": [
  {
   "cell_type": "markdown",
   "metadata": {},
   "source": [
    "## 1. Collecting and Loading the Uber dataset"
   ]
  },
  {
   "cell_type": "code",
   "execution_count": 1,
   "metadata": {},
   "outputs": [],
   "source": [
    "import pandas as pd\n",
    "\n",
    "uber_data = pd.read_csv(r\"Documents\\rideshare_kaggle.csv\")"
   ]
  },
  {
   "cell_type": "code",
   "execution_count": 2,
   "metadata": {},
   "outputs": [
    {
     "data": {
      "text/plain": [
       "(693071, 57)"
      ]
     },
     "execution_count": 2,
     "metadata": {},
     "output_type": "execute_result"
    }
   ],
   "source": [
    "uber_data.shape"
   ]
  },
  {
   "cell_type": "code",
   "execution_count": 3,
   "metadata": {},
   "outputs": [
    {
     "data": {
      "text/html": [
       "<div>\n",
       "<style scoped>\n",
       "    .dataframe tbody tr th:only-of-type {\n",
       "        vertical-align: middle;\n",
       "    }\n",
       "\n",
       "    .dataframe tbody tr th {\n",
       "        vertical-align: top;\n",
       "    }\n",
       "\n",
       "    .dataframe thead th {\n",
       "        text-align: right;\n",
       "    }\n",
       "</style>\n",
       "<table border=\"1\" class=\"dataframe\">\n",
       "  <thead>\n",
       "    <tr style=\"text-align: right;\">\n",
       "      <th></th>\n",
       "      <th>id</th>\n",
       "      <th>timestamp</th>\n",
       "      <th>hour</th>\n",
       "      <th>day</th>\n",
       "      <th>month</th>\n",
       "      <th>datetime</th>\n",
       "      <th>timezone</th>\n",
       "      <th>source</th>\n",
       "      <th>destination</th>\n",
       "      <th>cab_type</th>\n",
       "      <th>...</th>\n",
       "      <th>precipIntensityMax</th>\n",
       "      <th>uvIndexTime</th>\n",
       "      <th>temperatureMin</th>\n",
       "      <th>temperatureMinTime</th>\n",
       "      <th>temperatureMax</th>\n",
       "      <th>temperatureMaxTime</th>\n",
       "      <th>apparentTemperatureMin</th>\n",
       "      <th>apparentTemperatureMinTime</th>\n",
       "      <th>apparentTemperatureMax</th>\n",
       "      <th>apparentTemperatureMaxTime</th>\n",
       "    </tr>\n",
       "  </thead>\n",
       "  <tbody>\n",
       "    <tr>\n",
       "      <th>0</th>\n",
       "      <td>424553bb-7174-41ea-aeb4-fe06d4f4b9d7</td>\n",
       "      <td>1.544953e+09</td>\n",
       "      <td>9</td>\n",
       "      <td>16</td>\n",
       "      <td>12</td>\n",
       "      <td>2018-12-16 09:30:07</td>\n",
       "      <td>America/New_York</td>\n",
       "      <td>Haymarket Square</td>\n",
       "      <td>North Station</td>\n",
       "      <td>Lyft</td>\n",
       "      <td>...</td>\n",
       "      <td>0.1276</td>\n",
       "      <td>1544979600</td>\n",
       "      <td>39.89</td>\n",
       "      <td>1545012000</td>\n",
       "      <td>43.68</td>\n",
       "      <td>1544968800</td>\n",
       "      <td>33.73</td>\n",
       "      <td>1545012000</td>\n",
       "      <td>38.07</td>\n",
       "      <td>1544958000</td>\n",
       "    </tr>\n",
       "    <tr>\n",
       "      <th>1</th>\n",
       "      <td>4bd23055-6827-41c6-b23b-3c491f24e74d</td>\n",
       "      <td>1.543284e+09</td>\n",
       "      <td>2</td>\n",
       "      <td>27</td>\n",
       "      <td>11</td>\n",
       "      <td>2018-11-27 02:00:23</td>\n",
       "      <td>America/New_York</td>\n",
       "      <td>Haymarket Square</td>\n",
       "      <td>North Station</td>\n",
       "      <td>Lyft</td>\n",
       "      <td>...</td>\n",
       "      <td>0.1300</td>\n",
       "      <td>1543251600</td>\n",
       "      <td>40.49</td>\n",
       "      <td>1543233600</td>\n",
       "      <td>47.30</td>\n",
       "      <td>1543251600</td>\n",
       "      <td>36.20</td>\n",
       "      <td>1543291200</td>\n",
       "      <td>43.92</td>\n",
       "      <td>1543251600</td>\n",
       "    </tr>\n",
       "    <tr>\n",
       "      <th>2</th>\n",
       "      <td>981a3613-77af-4620-a42a-0c0866077d1e</td>\n",
       "      <td>1.543367e+09</td>\n",
       "      <td>1</td>\n",
       "      <td>28</td>\n",
       "      <td>11</td>\n",
       "      <td>2018-11-28 01:00:22</td>\n",
       "      <td>America/New_York</td>\n",
       "      <td>Haymarket Square</td>\n",
       "      <td>North Station</td>\n",
       "      <td>Lyft</td>\n",
       "      <td>...</td>\n",
       "      <td>0.1064</td>\n",
       "      <td>1543338000</td>\n",
       "      <td>35.36</td>\n",
       "      <td>1543377600</td>\n",
       "      <td>47.55</td>\n",
       "      <td>1543320000</td>\n",
       "      <td>31.04</td>\n",
       "      <td>1543377600</td>\n",
       "      <td>44.12</td>\n",
       "      <td>1543320000</td>\n",
       "    </tr>\n",
       "    <tr>\n",
       "      <th>3</th>\n",
       "      <td>c2d88af2-d278-4bfd-a8d0-29ca77cc5512</td>\n",
       "      <td>1.543554e+09</td>\n",
       "      <td>4</td>\n",
       "      <td>30</td>\n",
       "      <td>11</td>\n",
       "      <td>2018-11-30 04:53:02</td>\n",
       "      <td>America/New_York</td>\n",
       "      <td>Haymarket Square</td>\n",
       "      <td>North Station</td>\n",
       "      <td>Lyft</td>\n",
       "      <td>...</td>\n",
       "      <td>0.0000</td>\n",
       "      <td>1543507200</td>\n",
       "      <td>34.67</td>\n",
       "      <td>1543550400</td>\n",
       "      <td>45.03</td>\n",
       "      <td>1543510800</td>\n",
       "      <td>30.30</td>\n",
       "      <td>1543550400</td>\n",
       "      <td>38.53</td>\n",
       "      <td>1543510800</td>\n",
       "    </tr>\n",
       "    <tr>\n",
       "      <th>4</th>\n",
       "      <td>e0126e1f-8ca9-4f2e-82b3-50505a09db9a</td>\n",
       "      <td>1.543463e+09</td>\n",
       "      <td>3</td>\n",
       "      <td>29</td>\n",
       "      <td>11</td>\n",
       "      <td>2018-11-29 03:49:20</td>\n",
       "      <td>America/New_York</td>\n",
       "      <td>Haymarket Square</td>\n",
       "      <td>North Station</td>\n",
       "      <td>Lyft</td>\n",
       "      <td>...</td>\n",
       "      <td>0.0001</td>\n",
       "      <td>1543420800</td>\n",
       "      <td>33.10</td>\n",
       "      <td>1543402800</td>\n",
       "      <td>42.18</td>\n",
       "      <td>1543420800</td>\n",
       "      <td>29.11</td>\n",
       "      <td>1543392000</td>\n",
       "      <td>35.75</td>\n",
       "      <td>1543420800</td>\n",
       "    </tr>\n",
       "  </tbody>\n",
       "</table>\n",
       "<p>5 rows × 57 columns</p>\n",
       "</div>"
      ],
      "text/plain": [
       "                                     id     timestamp  hour  day  month  \\\n",
       "0  424553bb-7174-41ea-aeb4-fe06d4f4b9d7  1.544953e+09     9   16     12   \n",
       "1  4bd23055-6827-41c6-b23b-3c491f24e74d  1.543284e+09     2   27     11   \n",
       "2  981a3613-77af-4620-a42a-0c0866077d1e  1.543367e+09     1   28     11   \n",
       "3  c2d88af2-d278-4bfd-a8d0-29ca77cc5512  1.543554e+09     4   30     11   \n",
       "4  e0126e1f-8ca9-4f2e-82b3-50505a09db9a  1.543463e+09     3   29     11   \n",
       "\n",
       "              datetime          timezone            source    destination  \\\n",
       "0  2018-12-16 09:30:07  America/New_York  Haymarket Square  North Station   \n",
       "1  2018-11-27 02:00:23  America/New_York  Haymarket Square  North Station   \n",
       "2  2018-11-28 01:00:22  America/New_York  Haymarket Square  North Station   \n",
       "3  2018-11-30 04:53:02  America/New_York  Haymarket Square  North Station   \n",
       "4  2018-11-29 03:49:20  America/New_York  Haymarket Square  North Station   \n",
       "\n",
       "  cab_type  ... precipIntensityMax uvIndexTime  temperatureMin  \\\n",
       "0     Lyft  ...             0.1276  1544979600           39.89   \n",
       "1     Lyft  ...             0.1300  1543251600           40.49   \n",
       "2     Lyft  ...             0.1064  1543338000           35.36   \n",
       "3     Lyft  ...             0.0000  1543507200           34.67   \n",
       "4     Lyft  ...             0.0001  1543420800           33.10   \n",
       "\n",
       "   temperatureMinTime  temperatureMax  temperatureMaxTime  \\\n",
       "0          1545012000           43.68          1544968800   \n",
       "1          1543233600           47.30          1543251600   \n",
       "2          1543377600           47.55          1543320000   \n",
       "3          1543550400           45.03          1543510800   \n",
       "4          1543402800           42.18          1543420800   \n",
       "\n",
       "   apparentTemperatureMin  apparentTemperatureMinTime  apparentTemperatureMax  \\\n",
       "0                   33.73                  1545012000                   38.07   \n",
       "1                   36.20                  1543291200                   43.92   \n",
       "2                   31.04                  1543377600                   44.12   \n",
       "3                   30.30                  1543550400                   38.53   \n",
       "4                   29.11                  1543392000                   35.75   \n",
       "\n",
       "  apparentTemperatureMaxTime  \n",
       "0                 1544958000  \n",
       "1                 1543251600  \n",
       "2                 1543320000  \n",
       "3                 1543510800  \n",
       "4                 1543420800  \n",
       "\n",
       "[5 rows x 57 columns]"
      ]
     },
     "execution_count": 3,
     "metadata": {},
     "output_type": "execute_result"
    }
   ],
   "source": [
    "uber_data.head()"
   ]
  },
  {
   "cell_type": "code",
   "execution_count": 4,
   "metadata": {},
   "outputs": [
    {
     "data": {
      "text/html": [
       "<div>\n",
       "<style scoped>\n",
       "    .dataframe tbody tr th:only-of-type {\n",
       "        vertical-align: middle;\n",
       "    }\n",
       "\n",
       "    .dataframe tbody tr th {\n",
       "        vertical-align: top;\n",
       "    }\n",
       "\n",
       "    .dataframe thead th {\n",
       "        text-align: right;\n",
       "    }\n",
       "</style>\n",
       "<table border=\"1\" class=\"dataframe\">\n",
       "  <thead>\n",
       "    <tr style=\"text-align: right;\">\n",
       "      <th></th>\n",
       "      <th>id</th>\n",
       "      <th>timestamp</th>\n",
       "      <th>hour</th>\n",
       "      <th>day</th>\n",
       "      <th>month</th>\n",
       "      <th>datetime</th>\n",
       "      <th>timezone</th>\n",
       "      <th>source</th>\n",
       "      <th>destination</th>\n",
       "      <th>cab_type</th>\n",
       "      <th>...</th>\n",
       "      <th>precipIntensityMax</th>\n",
       "      <th>uvIndexTime</th>\n",
       "      <th>temperatureMin</th>\n",
       "      <th>temperatureMinTime</th>\n",
       "      <th>temperatureMax</th>\n",
       "      <th>temperatureMaxTime</th>\n",
       "      <th>apparentTemperatureMin</th>\n",
       "      <th>apparentTemperatureMinTime</th>\n",
       "      <th>apparentTemperatureMax</th>\n",
       "      <th>apparentTemperatureMaxTime</th>\n",
       "    </tr>\n",
       "  </thead>\n",
       "  <tbody>\n",
       "    <tr>\n",
       "      <th>693066</th>\n",
       "      <td>616d3611-1820-450a-9845-a9ff304a4842</td>\n",
       "      <td>1.543708e+09</td>\n",
       "      <td>23</td>\n",
       "      <td>1</td>\n",
       "      <td>12</td>\n",
       "      <td>2018-12-01 23:53:05</td>\n",
       "      <td>America/New_York</td>\n",
       "      <td>West End</td>\n",
       "      <td>North End</td>\n",
       "      <td>Uber</td>\n",
       "      <td>...</td>\n",
       "      <td>0.0</td>\n",
       "      <td>1543683600</td>\n",
       "      <td>31.42</td>\n",
       "      <td>1543658400</td>\n",
       "      <td>44.76</td>\n",
       "      <td>1543690800</td>\n",
       "      <td>27.77</td>\n",
       "      <td>1543658400</td>\n",
       "      <td>44.09</td>\n",
       "      <td>1543690800</td>\n",
       "    </tr>\n",
       "    <tr>\n",
       "      <th>693067</th>\n",
       "      <td>633a3fc3-1f86-4b9e-9d48-2b7132112341</td>\n",
       "      <td>1.543708e+09</td>\n",
       "      <td>23</td>\n",
       "      <td>1</td>\n",
       "      <td>12</td>\n",
       "      <td>2018-12-01 23:53:05</td>\n",
       "      <td>America/New_York</td>\n",
       "      <td>West End</td>\n",
       "      <td>North End</td>\n",
       "      <td>Uber</td>\n",
       "      <td>...</td>\n",
       "      <td>0.0</td>\n",
       "      <td>1543683600</td>\n",
       "      <td>31.42</td>\n",
       "      <td>1543658400</td>\n",
       "      <td>44.76</td>\n",
       "      <td>1543690800</td>\n",
       "      <td>27.77</td>\n",
       "      <td>1543658400</td>\n",
       "      <td>44.09</td>\n",
       "      <td>1543690800</td>\n",
       "    </tr>\n",
       "    <tr>\n",
       "      <th>693068</th>\n",
       "      <td>64d451d0-639f-47a4-9b7c-6fd92fbd264f</td>\n",
       "      <td>1.543708e+09</td>\n",
       "      <td>23</td>\n",
       "      <td>1</td>\n",
       "      <td>12</td>\n",
       "      <td>2018-12-01 23:53:05</td>\n",
       "      <td>America/New_York</td>\n",
       "      <td>West End</td>\n",
       "      <td>North End</td>\n",
       "      <td>Uber</td>\n",
       "      <td>...</td>\n",
       "      <td>0.0</td>\n",
       "      <td>1543683600</td>\n",
       "      <td>31.42</td>\n",
       "      <td>1543658400</td>\n",
       "      <td>44.76</td>\n",
       "      <td>1543690800</td>\n",
       "      <td>27.77</td>\n",
       "      <td>1543658400</td>\n",
       "      <td>44.09</td>\n",
       "      <td>1543690800</td>\n",
       "    </tr>\n",
       "    <tr>\n",
       "      <th>693069</th>\n",
       "      <td>727e5f07-a96b-4ad1-a2c7-9abc3ad55b4e</td>\n",
       "      <td>1.543708e+09</td>\n",
       "      <td>23</td>\n",
       "      <td>1</td>\n",
       "      <td>12</td>\n",
       "      <td>2018-12-01 23:53:05</td>\n",
       "      <td>America/New_York</td>\n",
       "      <td>West End</td>\n",
       "      <td>North End</td>\n",
       "      <td>Uber</td>\n",
       "      <td>...</td>\n",
       "      <td>0.0</td>\n",
       "      <td>1543683600</td>\n",
       "      <td>31.42</td>\n",
       "      <td>1543658400</td>\n",
       "      <td>44.76</td>\n",
       "      <td>1543690800</td>\n",
       "      <td>27.77</td>\n",
       "      <td>1543658400</td>\n",
       "      <td>44.09</td>\n",
       "      <td>1543690800</td>\n",
       "    </tr>\n",
       "    <tr>\n",
       "      <th>693070</th>\n",
       "      <td>e7fdc087-fe86-40a5-a3c3-3b2a8badcbda</td>\n",
       "      <td>1.543708e+09</td>\n",
       "      <td>23</td>\n",
       "      <td>1</td>\n",
       "      <td>12</td>\n",
       "      <td>2018-12-01 23:53:05</td>\n",
       "      <td>America/New_York</td>\n",
       "      <td>West End</td>\n",
       "      <td>North End</td>\n",
       "      <td>Uber</td>\n",
       "      <td>...</td>\n",
       "      <td>0.0</td>\n",
       "      <td>1543683600</td>\n",
       "      <td>31.42</td>\n",
       "      <td>1543658400</td>\n",
       "      <td>44.76</td>\n",
       "      <td>1543690800</td>\n",
       "      <td>27.77</td>\n",
       "      <td>1543658400</td>\n",
       "      <td>44.09</td>\n",
       "      <td>1543690800</td>\n",
       "    </tr>\n",
       "  </tbody>\n",
       "</table>\n",
       "<p>5 rows × 57 columns</p>\n",
       "</div>"
      ],
      "text/plain": [
       "                                          id     timestamp  hour  day  month  \\\n",
       "693066  616d3611-1820-450a-9845-a9ff304a4842  1.543708e+09    23    1     12   \n",
       "693067  633a3fc3-1f86-4b9e-9d48-2b7132112341  1.543708e+09    23    1     12   \n",
       "693068  64d451d0-639f-47a4-9b7c-6fd92fbd264f  1.543708e+09    23    1     12   \n",
       "693069  727e5f07-a96b-4ad1-a2c7-9abc3ad55b4e  1.543708e+09    23    1     12   \n",
       "693070  e7fdc087-fe86-40a5-a3c3-3b2a8badcbda  1.543708e+09    23    1     12   \n",
       "\n",
       "                   datetime          timezone    source destination cab_type  \\\n",
       "693066  2018-12-01 23:53:05  America/New_York  West End   North End     Uber   \n",
       "693067  2018-12-01 23:53:05  America/New_York  West End   North End     Uber   \n",
       "693068  2018-12-01 23:53:05  America/New_York  West End   North End     Uber   \n",
       "693069  2018-12-01 23:53:05  America/New_York  West End   North End     Uber   \n",
       "693070  2018-12-01 23:53:05  America/New_York  West End   North End     Uber   \n",
       "\n",
       "        ... precipIntensityMax uvIndexTime  temperatureMin  \\\n",
       "693066  ...                0.0  1543683600           31.42   \n",
       "693067  ...                0.0  1543683600           31.42   \n",
       "693068  ...                0.0  1543683600           31.42   \n",
       "693069  ...                0.0  1543683600           31.42   \n",
       "693070  ...                0.0  1543683600           31.42   \n",
       "\n",
       "        temperatureMinTime  temperatureMax  temperatureMaxTime  \\\n",
       "693066          1543658400           44.76          1543690800   \n",
       "693067          1543658400           44.76          1543690800   \n",
       "693068          1543658400           44.76          1543690800   \n",
       "693069          1543658400           44.76          1543690800   \n",
       "693070          1543658400           44.76          1543690800   \n",
       "\n",
       "        apparentTemperatureMin  apparentTemperatureMinTime  \\\n",
       "693066                   27.77                  1543658400   \n",
       "693067                   27.77                  1543658400   \n",
       "693068                   27.77                  1543658400   \n",
       "693069                   27.77                  1543658400   \n",
       "693070                   27.77                  1543658400   \n",
       "\n",
       "        apparentTemperatureMax apparentTemperatureMaxTime  \n",
       "693066                   44.09                 1543690800  \n",
       "693067                   44.09                 1543690800  \n",
       "693068                   44.09                 1543690800  \n",
       "693069                   44.09                 1543690800  \n",
       "693070                   44.09                 1543690800  \n",
       "\n",
       "[5 rows x 57 columns]"
      ]
     },
     "execution_count": 4,
     "metadata": {},
     "output_type": "execute_result"
    }
   ],
   "source": [
    "uber_data.tail()"
   ]
  },
  {
   "cell_type": "code",
   "execution_count": 5,
   "metadata": {},
   "outputs": [
    {
     "data": {
      "text/html": [
       "<div>\n",
       "<style scoped>\n",
       "    .dataframe tbody tr th:only-of-type {\n",
       "        vertical-align: middle;\n",
       "    }\n",
       "\n",
       "    .dataframe tbody tr th {\n",
       "        vertical-align: top;\n",
       "    }\n",
       "\n",
       "    .dataframe thead th {\n",
       "        text-align: right;\n",
       "    }\n",
       "</style>\n",
       "<table border=\"1\" class=\"dataframe\">\n",
       "  <thead>\n",
       "    <tr style=\"text-align: right;\">\n",
       "      <th></th>\n",
       "      <th>timestamp</th>\n",
       "      <th>hour</th>\n",
       "      <th>day</th>\n",
       "      <th>month</th>\n",
       "      <th>price</th>\n",
       "      <th>distance</th>\n",
       "      <th>surge_multiplier</th>\n",
       "      <th>latitude</th>\n",
       "      <th>longitude</th>\n",
       "      <th>temperature</th>\n",
       "      <th>...</th>\n",
       "      <th>precipIntensityMax</th>\n",
       "      <th>uvIndexTime</th>\n",
       "      <th>temperatureMin</th>\n",
       "      <th>temperatureMinTime</th>\n",
       "      <th>temperatureMax</th>\n",
       "      <th>temperatureMaxTime</th>\n",
       "      <th>apparentTemperatureMin</th>\n",
       "      <th>apparentTemperatureMinTime</th>\n",
       "      <th>apparentTemperatureMax</th>\n",
       "      <th>apparentTemperatureMaxTime</th>\n",
       "    </tr>\n",
       "  </thead>\n",
       "  <tbody>\n",
       "    <tr>\n",
       "      <th>count</th>\n",
       "      <td>6.930710e+05</td>\n",
       "      <td>693071.000000</td>\n",
       "      <td>693071.000000</td>\n",
       "      <td>693071.000000</td>\n",
       "      <td>637976.000000</td>\n",
       "      <td>693071.000000</td>\n",
       "      <td>693071.000000</td>\n",
       "      <td>693071.000000</td>\n",
       "      <td>693071.000000</td>\n",
       "      <td>693071.000000</td>\n",
       "      <td>...</td>\n",
       "      <td>693071.000000</td>\n",
       "      <td>6.930710e+05</td>\n",
       "      <td>693071.000000</td>\n",
       "      <td>6.930710e+05</td>\n",
       "      <td>693071.000000</td>\n",
       "      <td>6.930710e+05</td>\n",
       "      <td>693071.000000</td>\n",
       "      <td>6.930710e+05</td>\n",
       "      <td>693071.000000</td>\n",
       "      <td>6.930710e+05</td>\n",
       "    </tr>\n",
       "    <tr>\n",
       "      <th>mean</th>\n",
       "      <td>1.544046e+09</td>\n",
       "      <td>11.619137</td>\n",
       "      <td>17.794365</td>\n",
       "      <td>11.586684</td>\n",
       "      <td>16.545125</td>\n",
       "      <td>2.189430</td>\n",
       "      <td>1.013870</td>\n",
       "      <td>42.338172</td>\n",
       "      <td>-71.066151</td>\n",
       "      <td>39.584388</td>\n",
       "      <td>...</td>\n",
       "      <td>0.037374</td>\n",
       "      <td>1.544044e+09</td>\n",
       "      <td>33.457774</td>\n",
       "      <td>1.544042e+09</td>\n",
       "      <td>45.261313</td>\n",
       "      <td>1.544047e+09</td>\n",
       "      <td>29.731002</td>\n",
       "      <td>1.544048e+09</td>\n",
       "      <td>41.997343</td>\n",
       "      <td>1.544048e+09</td>\n",
       "    </tr>\n",
       "    <tr>\n",
       "      <th>std</th>\n",
       "      <td>6.891925e+05</td>\n",
       "      <td>6.948114</td>\n",
       "      <td>9.982286</td>\n",
       "      <td>0.492429</td>\n",
       "      <td>9.324359</td>\n",
       "      <td>1.138937</td>\n",
       "      <td>0.091641</td>\n",
       "      <td>0.047840</td>\n",
       "      <td>0.020302</td>\n",
       "      <td>6.726084</td>\n",
       "      <td>...</td>\n",
       "      <td>0.055214</td>\n",
       "      <td>6.912028e+05</td>\n",
       "      <td>6.467224</td>\n",
       "      <td>6.901954e+05</td>\n",
       "      <td>5.645046</td>\n",
       "      <td>6.901353e+05</td>\n",
       "      <td>7.110494</td>\n",
       "      <td>6.871862e+05</td>\n",
       "      <td>6.936841</td>\n",
       "      <td>6.910777e+05</td>\n",
       "    </tr>\n",
       "    <tr>\n",
       "      <th>min</th>\n",
       "      <td>1.543204e+09</td>\n",
       "      <td>0.000000</td>\n",
       "      <td>1.000000</td>\n",
       "      <td>11.000000</td>\n",
       "      <td>2.500000</td>\n",
       "      <td>0.020000</td>\n",
       "      <td>1.000000</td>\n",
       "      <td>42.214800</td>\n",
       "      <td>-71.105400</td>\n",
       "      <td>18.910000</td>\n",
       "      <td>...</td>\n",
       "      <td>0.000000</td>\n",
       "      <td>1.543162e+09</td>\n",
       "      <td>15.630000</td>\n",
       "      <td>1.543122e+09</td>\n",
       "      <td>33.510000</td>\n",
       "      <td>1.543154e+09</td>\n",
       "      <td>11.810000</td>\n",
       "      <td>1.543136e+09</td>\n",
       "      <td>28.950000</td>\n",
       "      <td>1.543187e+09</td>\n",
       "    </tr>\n",
       "    <tr>\n",
       "      <th>25%</th>\n",
       "      <td>1.543444e+09</td>\n",
       "      <td>6.000000</td>\n",
       "      <td>13.000000</td>\n",
       "      <td>11.000000</td>\n",
       "      <td>9.000000</td>\n",
       "      <td>1.280000</td>\n",
       "      <td>1.000000</td>\n",
       "      <td>42.350300</td>\n",
       "      <td>-71.081000</td>\n",
       "      <td>36.450000</td>\n",
       "      <td>...</td>\n",
       "      <td>0.000000</td>\n",
       "      <td>1.543421e+09</td>\n",
       "      <td>30.170000</td>\n",
       "      <td>1.543399e+09</td>\n",
       "      <td>42.570000</td>\n",
       "      <td>1.543439e+09</td>\n",
       "      <td>27.760000</td>\n",
       "      <td>1.543399e+09</td>\n",
       "      <td>36.570000</td>\n",
       "      <td>1.543439e+09</td>\n",
       "    </tr>\n",
       "    <tr>\n",
       "      <th>50%</th>\n",
       "      <td>1.543737e+09</td>\n",
       "      <td>12.000000</td>\n",
       "      <td>17.000000</td>\n",
       "      <td>12.000000</td>\n",
       "      <td>13.500000</td>\n",
       "      <td>2.160000</td>\n",
       "      <td>1.000000</td>\n",
       "      <td>42.351900</td>\n",
       "      <td>-71.063100</td>\n",
       "      <td>40.490000</td>\n",
       "      <td>...</td>\n",
       "      <td>0.000400</td>\n",
       "      <td>1.543770e+09</td>\n",
       "      <td>34.240000</td>\n",
       "      <td>1.543727e+09</td>\n",
       "      <td>44.680000</td>\n",
       "      <td>1.543788e+09</td>\n",
       "      <td>30.130000</td>\n",
       "      <td>1.543745e+09</td>\n",
       "      <td>40.950000</td>\n",
       "      <td>1.543788e+09</td>\n",
       "    </tr>\n",
       "    <tr>\n",
       "      <th>75%</th>\n",
       "      <td>1.544828e+09</td>\n",
       "      <td>18.000000</td>\n",
       "      <td>28.000000</td>\n",
       "      <td>12.000000</td>\n",
       "      <td>22.500000</td>\n",
       "      <td>2.920000</td>\n",
       "      <td>1.000000</td>\n",
       "      <td>42.364700</td>\n",
       "      <td>-71.054200</td>\n",
       "      <td>43.580000</td>\n",
       "      <td>...</td>\n",
       "      <td>0.091600</td>\n",
       "      <td>1.544807e+09</td>\n",
       "      <td>38.880000</td>\n",
       "      <td>1.544789e+09</td>\n",
       "      <td>46.910000</td>\n",
       "      <td>1.544814e+09</td>\n",
       "      <td>35.710000</td>\n",
       "      <td>1.544789e+09</td>\n",
       "      <td>44.120000</td>\n",
       "      <td>1.544818e+09</td>\n",
       "    </tr>\n",
       "    <tr>\n",
       "      <th>max</th>\n",
       "      <td>1.545161e+09</td>\n",
       "      <td>23.000000</td>\n",
       "      <td>30.000000</td>\n",
       "      <td>12.000000</td>\n",
       "      <td>97.500000</td>\n",
       "      <td>7.860000</td>\n",
       "      <td>3.000000</td>\n",
       "      <td>42.366100</td>\n",
       "      <td>-71.033000</td>\n",
       "      <td>57.220000</td>\n",
       "      <td>...</td>\n",
       "      <td>0.145900</td>\n",
       "      <td>1.545152e+09</td>\n",
       "      <td>43.100000</td>\n",
       "      <td>1.545192e+09</td>\n",
       "      <td>57.870000</td>\n",
       "      <td>1.545109e+09</td>\n",
       "      <td>40.050000</td>\n",
       "      <td>1.545134e+09</td>\n",
       "      <td>57.200000</td>\n",
       "      <td>1.545109e+09</td>\n",
       "    </tr>\n",
       "  </tbody>\n",
       "</table>\n",
       "<p>8 rows × 46 columns</p>\n",
       "</div>"
      ],
      "text/plain": [
       "          timestamp           hour            day          month  \\\n",
       "count  6.930710e+05  693071.000000  693071.000000  693071.000000   \n",
       "mean   1.544046e+09      11.619137      17.794365      11.586684   \n",
       "std    6.891925e+05       6.948114       9.982286       0.492429   \n",
       "min    1.543204e+09       0.000000       1.000000      11.000000   \n",
       "25%    1.543444e+09       6.000000      13.000000      11.000000   \n",
       "50%    1.543737e+09      12.000000      17.000000      12.000000   \n",
       "75%    1.544828e+09      18.000000      28.000000      12.000000   \n",
       "max    1.545161e+09      23.000000      30.000000      12.000000   \n",
       "\n",
       "               price       distance  surge_multiplier       latitude  \\\n",
       "count  637976.000000  693071.000000     693071.000000  693071.000000   \n",
       "mean       16.545125       2.189430          1.013870      42.338172   \n",
       "std         9.324359       1.138937          0.091641       0.047840   \n",
       "min         2.500000       0.020000          1.000000      42.214800   \n",
       "25%         9.000000       1.280000          1.000000      42.350300   \n",
       "50%        13.500000       2.160000          1.000000      42.351900   \n",
       "75%        22.500000       2.920000          1.000000      42.364700   \n",
       "max        97.500000       7.860000          3.000000      42.366100   \n",
       "\n",
       "           longitude    temperature  ...  precipIntensityMax   uvIndexTime  \\\n",
       "count  693071.000000  693071.000000  ...       693071.000000  6.930710e+05   \n",
       "mean      -71.066151      39.584388  ...            0.037374  1.544044e+09   \n",
       "std         0.020302       6.726084  ...            0.055214  6.912028e+05   \n",
       "min       -71.105400      18.910000  ...            0.000000  1.543162e+09   \n",
       "25%       -71.081000      36.450000  ...            0.000000  1.543421e+09   \n",
       "50%       -71.063100      40.490000  ...            0.000400  1.543770e+09   \n",
       "75%       -71.054200      43.580000  ...            0.091600  1.544807e+09   \n",
       "max       -71.033000      57.220000  ...            0.145900  1.545152e+09   \n",
       "\n",
       "       temperatureMin  temperatureMinTime  temperatureMax  temperatureMaxTime  \\\n",
       "count   693071.000000        6.930710e+05   693071.000000        6.930710e+05   \n",
       "mean        33.457774        1.544042e+09       45.261313        1.544047e+09   \n",
       "std          6.467224        6.901954e+05        5.645046        6.901353e+05   \n",
       "min         15.630000        1.543122e+09       33.510000        1.543154e+09   \n",
       "25%         30.170000        1.543399e+09       42.570000        1.543439e+09   \n",
       "50%         34.240000        1.543727e+09       44.680000        1.543788e+09   \n",
       "75%         38.880000        1.544789e+09       46.910000        1.544814e+09   \n",
       "max         43.100000        1.545192e+09       57.870000        1.545109e+09   \n",
       "\n",
       "       apparentTemperatureMin  apparentTemperatureMinTime  \\\n",
       "count           693071.000000                6.930710e+05   \n",
       "mean                29.731002                1.544048e+09   \n",
       "std                  7.110494                6.871862e+05   \n",
       "min                 11.810000                1.543136e+09   \n",
       "25%                 27.760000                1.543399e+09   \n",
       "50%                 30.130000                1.543745e+09   \n",
       "75%                 35.710000                1.544789e+09   \n",
       "max                 40.050000                1.545134e+09   \n",
       "\n",
       "       apparentTemperatureMax  apparentTemperatureMaxTime  \n",
       "count           693071.000000                6.930710e+05  \n",
       "mean                41.997343                1.544048e+09  \n",
       "std                  6.936841                6.910777e+05  \n",
       "min                 28.950000                1.543187e+09  \n",
       "25%                 36.570000                1.543439e+09  \n",
       "50%                 40.950000                1.543788e+09  \n",
       "75%                 44.120000                1.544818e+09  \n",
       "max                 57.200000                1.545109e+09  \n",
       "\n",
       "[8 rows x 46 columns]"
      ]
     },
     "execution_count": 5,
     "metadata": {},
     "output_type": "execute_result"
    }
   ],
   "source": [
    "uber_data.describe()"
   ]
  },
  {
   "cell_type": "code",
   "execution_count": 6,
   "metadata": {},
   "outputs": [
    {
     "data": {
      "text/plain": [
       "WAV             55096\n",
       "UberXL          55096\n",
       "Black SUV       55096\n",
       "Black           55095\n",
       "Taxi            55095\n",
       "UberX           55094\n",
       "UberPool        55091\n",
       "Lux             51235\n",
       "Lux Black XL    51235\n",
       "Lux Black       51235\n",
       "Lyft XL         51235\n",
       "Lyft            51235\n",
       "Shared          51233\n",
       "Name: name, dtype: int64"
      ]
     },
     "execution_count": 6,
     "metadata": {},
     "output_type": "execute_result"
    }
   ],
   "source": [
    "uber_data['name'].value_counts()"
   ]
  },
  {
   "cell_type": "code",
   "execution_count": 9,
   "metadata": {},
   "outputs": [
    {
     "name": "stdout",
     "output_type": "stream",
     "text": [
      "<class 'pandas.core.frame.DataFrame'>\n",
      "RangeIndex: 693071 entries, 0 to 693070\n",
      "Data columns (total 57 columns):\n",
      " #   Column                       Non-Null Count   Dtype  \n",
      "---  ------                       --------------   -----  \n",
      " 0   id                           693071 non-null  object \n",
      " 1   timestamp                    693071 non-null  float64\n",
      " 2   hour                         693071 non-null  int64  \n",
      " 3   day                          693071 non-null  int64  \n",
      " 4   month                        693071 non-null  int64  \n",
      " 5   datetime                     693071 non-null  object \n",
      " 6   timezone                     693071 non-null  object \n",
      " 7   source                       693071 non-null  object \n",
      " 8   destination                  693071 non-null  object \n",
      " 9   cab_type                     693071 non-null  object \n",
      " 10  product_id                   693071 non-null  object \n",
      " 11  name                         693071 non-null  object \n",
      " 12  price                        637976 non-null  float64\n",
      " 13  distance                     693071 non-null  float64\n",
      " 14  surge_multiplier             693071 non-null  float64\n",
      " 15  latitude                     693071 non-null  float64\n",
      " 16  longitude                    693071 non-null  float64\n",
      " 17  temperature                  693071 non-null  float64\n",
      " 18  apparentTemperature          693071 non-null  float64\n",
      " 19  short_summary                693071 non-null  object \n",
      " 20  long_summary                 693071 non-null  object \n",
      " 21  precipIntensity              693071 non-null  float64\n",
      " 22  precipProbability            693071 non-null  float64\n",
      " 23  humidity                     693071 non-null  float64\n",
      " 24  windSpeed                    693071 non-null  float64\n",
      " 25  windGust                     693071 non-null  float64\n",
      " 26  windGustTime                 693071 non-null  int64  \n",
      " 27  visibility                   693071 non-null  float64\n",
      " 28  temperatureHigh              693071 non-null  float64\n",
      " 29  temperatureHighTime          693071 non-null  int64  \n",
      " 30  temperatureLow               693071 non-null  float64\n",
      " 31  temperatureLowTime           693071 non-null  int64  \n",
      " 32  apparentTemperatureHigh      693071 non-null  float64\n",
      " 33  apparentTemperatureHighTime  693071 non-null  int64  \n",
      " 34  apparentTemperatureLow       693071 non-null  float64\n",
      " 35  apparentTemperatureLowTime   693071 non-null  int64  \n",
      " 36  icon                         693071 non-null  object \n",
      " 37  dewPoint                     693071 non-null  float64\n",
      " 38  pressure                     693071 non-null  float64\n",
      " 39  windBearing                  693071 non-null  int64  \n",
      " 40  cloudCover                   693071 non-null  float64\n",
      " 41  uvIndex                      693071 non-null  int64  \n",
      " 42  visibility.1                 693071 non-null  float64\n",
      " 43  ozone                        693071 non-null  float64\n",
      " 44  sunriseTime                  693071 non-null  int64  \n",
      " 45  sunsetTime                   693071 non-null  int64  \n",
      " 46  moonPhase                    693071 non-null  float64\n",
      " 47  precipIntensityMax           693071 non-null  float64\n",
      " 48  uvIndexTime                  693071 non-null  int64  \n",
      " 49  temperatureMin               693071 non-null  float64\n",
      " 50  temperatureMinTime           693071 non-null  int64  \n",
      " 51  temperatureMax               693071 non-null  float64\n",
      " 52  temperatureMaxTime           693071 non-null  int64  \n",
      " 53  apparentTemperatureMin       693071 non-null  float64\n",
      " 54  apparentTemperatureMinTime   693071 non-null  int64  \n",
      " 55  apparentTemperatureMax       693071 non-null  float64\n",
      " 56  apparentTemperatureMaxTime   693071 non-null  int64  \n",
      "dtypes: float64(29), int64(17), object(11)\n",
      "memory usage: 301.4+ MB\n"
     ]
    }
   ],
   "source": [
    "uber_data.info()"
   ]
  },
  {
   "cell_type": "code",
   "execution_count": 10,
   "metadata": {},
   "outputs": [
    {
     "data": {
      "text/plain": [
       "WAV             55096\n",
       "UberXL          55096\n",
       "Black SUV       55096\n",
       "Black           55095\n",
       "Taxi            55095\n",
       "UberX           55094\n",
       "UberPool        55091\n",
       "Lux             51235\n",
       "Lux Black XL    51235\n",
       "Lux Black       51235\n",
       "Lyft XL         51235\n",
       "Lyft            51235\n",
       "Shared          51233\n",
       "Name: name, dtype: int64"
      ]
     },
     "execution_count": 10,
     "metadata": {},
     "output_type": "execute_result"
    }
   ],
   "source": [
    "uber_data['name'].value_counts()"
   ]
  },
  {
   "cell_type": "code",
   "execution_count": 12,
   "metadata": {},
   "outputs": [],
   "source": [
    "new_uber_data = uber_data[uber_data['name'].isin(['Shared', 'UberPool', 'Black SUV', 'UberX', 'Taxi', 'Lux', 'UberXL', 'Black', 'Lux Black', 'lux Black XL']) ]"
   ]
  },
  {
   "cell_type": "code",
   "execution_count": 13,
   "metadata": {},
   "outputs": [
    {
     "data": {
      "text/html": [
       "<div>\n",
       "<style scoped>\n",
       "    .dataframe tbody tr th:only-of-type {\n",
       "        vertical-align: middle;\n",
       "    }\n",
       "\n",
       "    .dataframe tbody tr th {\n",
       "        vertical-align: top;\n",
       "    }\n",
       "\n",
       "    .dataframe thead th {\n",
       "        text-align: right;\n",
       "    }\n",
       "</style>\n",
       "<table border=\"1\" class=\"dataframe\">\n",
       "  <thead>\n",
       "    <tr style=\"text-align: right;\">\n",
       "      <th></th>\n",
       "      <th>id</th>\n",
       "      <th>timestamp</th>\n",
       "      <th>hour</th>\n",
       "      <th>day</th>\n",
       "      <th>month</th>\n",
       "      <th>datetime</th>\n",
       "      <th>timezone</th>\n",
       "      <th>source</th>\n",
       "      <th>destination</th>\n",
       "      <th>cab_type</th>\n",
       "      <th>...</th>\n",
       "      <th>precipIntensityMax</th>\n",
       "      <th>uvIndexTime</th>\n",
       "      <th>temperatureMin</th>\n",
       "      <th>temperatureMinTime</th>\n",
       "      <th>temperatureMax</th>\n",
       "      <th>temperatureMaxTime</th>\n",
       "      <th>apparentTemperatureMin</th>\n",
       "      <th>apparentTemperatureMinTime</th>\n",
       "      <th>apparentTemperatureMax</th>\n",
       "      <th>apparentTemperatureMaxTime</th>\n",
       "    </tr>\n",
       "  </thead>\n",
       "  <tbody>\n",
       "    <tr>\n",
       "      <th>0</th>\n",
       "      <td>424553bb-7174-41ea-aeb4-fe06d4f4b9d7</td>\n",
       "      <td>1.544953e+09</td>\n",
       "      <td>9</td>\n",
       "      <td>16</td>\n",
       "      <td>12</td>\n",
       "      <td>2018-12-16 09:30:07</td>\n",
       "      <td>America/New_York</td>\n",
       "      <td>Haymarket Square</td>\n",
       "      <td>North Station</td>\n",
       "      <td>Lyft</td>\n",
       "      <td>...</td>\n",
       "      <td>0.1276</td>\n",
       "      <td>1544979600</td>\n",
       "      <td>39.89</td>\n",
       "      <td>1545012000</td>\n",
       "      <td>43.68</td>\n",
       "      <td>1544968800</td>\n",
       "      <td>33.73</td>\n",
       "      <td>1545012000</td>\n",
       "      <td>38.07</td>\n",
       "      <td>1544958000</td>\n",
       "    </tr>\n",
       "    <tr>\n",
       "      <th>1</th>\n",
       "      <td>4bd23055-6827-41c6-b23b-3c491f24e74d</td>\n",
       "      <td>1.543284e+09</td>\n",
       "      <td>2</td>\n",
       "      <td>27</td>\n",
       "      <td>11</td>\n",
       "      <td>2018-11-27 02:00:23</td>\n",
       "      <td>America/New_York</td>\n",
       "      <td>Haymarket Square</td>\n",
       "      <td>North Station</td>\n",
       "      <td>Lyft</td>\n",
       "      <td>...</td>\n",
       "      <td>0.1300</td>\n",
       "      <td>1543251600</td>\n",
       "      <td>40.49</td>\n",
       "      <td>1543233600</td>\n",
       "      <td>47.30</td>\n",
       "      <td>1543251600</td>\n",
       "      <td>36.20</td>\n",
       "      <td>1543291200</td>\n",
       "      <td>43.92</td>\n",
       "      <td>1543251600</td>\n",
       "    </tr>\n",
       "    <tr>\n",
       "      <th>5</th>\n",
       "      <td>f6f6d7e4-3e18-4922-a5f5-181cdd3fa6f2</td>\n",
       "      <td>1.545071e+09</td>\n",
       "      <td>18</td>\n",
       "      <td>17</td>\n",
       "      <td>12</td>\n",
       "      <td>2018-12-17 18:25:12</td>\n",
       "      <td>America/New_York</td>\n",
       "      <td>Haymarket Square</td>\n",
       "      <td>North Station</td>\n",
       "      <td>Lyft</td>\n",
       "      <td>...</td>\n",
       "      <td>0.0221</td>\n",
       "      <td>1545066000</td>\n",
       "      <td>34.19</td>\n",
       "      <td>1545048000</td>\n",
       "      <td>40.66</td>\n",
       "      <td>1545022800</td>\n",
       "      <td>27.39</td>\n",
       "      <td>1545044400</td>\n",
       "      <td>34.97</td>\n",
       "      <td>1545080400</td>\n",
       "    </tr>\n",
       "    <tr>\n",
       "      <th>7</th>\n",
       "      <td>474d6376-bc59-4ec9-bf57-4e6d6faeb165</td>\n",
       "      <td>1.543780e+09</td>\n",
       "      <td>19</td>\n",
       "      <td>2</td>\n",
       "      <td>12</td>\n",
       "      <td>2018-12-02 19:53:04</td>\n",
       "      <td>America/New_York</td>\n",
       "      <td>Back Bay</td>\n",
       "      <td>Northeastern University</td>\n",
       "      <td>Lyft</td>\n",
       "      <td>...</td>\n",
       "      <td>0.0916</td>\n",
       "      <td>1543770000</td>\n",
       "      <td>36.32</td>\n",
       "      <td>1543726800</td>\n",
       "      <td>50.80</td>\n",
       "      <td>1543788000</td>\n",
       "      <td>35.84</td>\n",
       "      <td>1543748400</td>\n",
       "      <td>50.13</td>\n",
       "      <td>1543788000</td>\n",
       "    </tr>\n",
       "    <tr>\n",
       "      <th>8</th>\n",
       "      <td>4f9fee41-fde3-4767-bbf1-a00e108701fb</td>\n",
       "      <td>1.543818e+09</td>\n",
       "      <td>6</td>\n",
       "      <td>3</td>\n",
       "      <td>12</td>\n",
       "      <td>2018-12-03 06:28:02</td>\n",
       "      <td>America/New_York</td>\n",
       "      <td>Back Bay</td>\n",
       "      <td>Northeastern University</td>\n",
       "      <td>Lyft</td>\n",
       "      <td>...</td>\n",
       "      <td>0.0004</td>\n",
       "      <td>1543852800</td>\n",
       "      <td>43.09</td>\n",
       "      <td>1543896000</td>\n",
       "      <td>57.02</td>\n",
       "      <td>1543852800</td>\n",
       "      <td>39.90</td>\n",
       "      <td>1543896000</td>\n",
       "      <td>56.35</td>\n",
       "      <td>1543852800</td>\n",
       "    </tr>\n",
       "  </tbody>\n",
       "</table>\n",
       "<p>5 rows × 57 columns</p>\n",
       "</div>"
      ],
      "text/plain": [
       "                                     id     timestamp  hour  day  month  \\\n",
       "0  424553bb-7174-41ea-aeb4-fe06d4f4b9d7  1.544953e+09     9   16     12   \n",
       "1  4bd23055-6827-41c6-b23b-3c491f24e74d  1.543284e+09     2   27     11   \n",
       "5  f6f6d7e4-3e18-4922-a5f5-181cdd3fa6f2  1.545071e+09    18   17     12   \n",
       "7  474d6376-bc59-4ec9-bf57-4e6d6faeb165  1.543780e+09    19    2     12   \n",
       "8  4f9fee41-fde3-4767-bbf1-a00e108701fb  1.543818e+09     6    3     12   \n",
       "\n",
       "              datetime          timezone            source  \\\n",
       "0  2018-12-16 09:30:07  America/New_York  Haymarket Square   \n",
       "1  2018-11-27 02:00:23  America/New_York  Haymarket Square   \n",
       "5  2018-12-17 18:25:12  America/New_York  Haymarket Square   \n",
       "7  2018-12-02 19:53:04  America/New_York          Back Bay   \n",
       "8  2018-12-03 06:28:02  America/New_York          Back Bay   \n",
       "\n",
       "               destination cab_type  ... precipIntensityMax uvIndexTime  \\\n",
       "0            North Station     Lyft  ...             0.1276  1544979600   \n",
       "1            North Station     Lyft  ...             0.1300  1543251600   \n",
       "5            North Station     Lyft  ...             0.0221  1545066000   \n",
       "7  Northeastern University     Lyft  ...             0.0916  1543770000   \n",
       "8  Northeastern University     Lyft  ...             0.0004  1543852800   \n",
       "\n",
       "   temperatureMin  temperatureMinTime  temperatureMax  temperatureMaxTime  \\\n",
       "0           39.89          1545012000           43.68          1544968800   \n",
       "1           40.49          1543233600           47.30          1543251600   \n",
       "5           34.19          1545048000           40.66          1545022800   \n",
       "7           36.32          1543726800           50.80          1543788000   \n",
       "8           43.09          1543896000           57.02          1543852800   \n",
       "\n",
       "   apparentTemperatureMin  apparentTemperatureMinTime  apparentTemperatureMax  \\\n",
       "0                   33.73                  1545012000                   38.07   \n",
       "1                   36.20                  1543291200                   43.92   \n",
       "5                   27.39                  1545044400                   34.97   \n",
       "7                   35.84                  1543748400                   50.13   \n",
       "8                   39.90                  1543896000                   56.35   \n",
       "\n",
       "  apparentTemperatureMaxTime  \n",
       "0                 1544958000  \n",
       "1                 1543251600  \n",
       "5                 1545080400  \n",
       "7                 1543788000  \n",
       "8                 1543852800  \n",
       "\n",
       "[5 rows x 57 columns]"
      ]
     },
     "execution_count": 13,
     "metadata": {},
     "output_type": "execute_result"
    }
   ],
   "source": [
    "new_uber_data.head()"
   ]
  },
  {
   "cell_type": "code",
   "execution_count": 14,
   "metadata": {},
   "outputs": [
    {
     "data": {
      "text/plain": [
       "(484270, 57)"
      ]
     },
     "execution_count": 14,
     "metadata": {},
     "output_type": "execute_result"
    }
   ],
   "source": [
    "new_uber_data.shape"
   ]
  },
  {
   "cell_type": "code",
   "execution_count": 15,
   "metadata": {},
   "outputs": [],
   "source": [
    "uber_dataset = new_uber_data"
   ]
  },
  {
   "cell_type": "markdown",
   "metadata": {},
   "source": [
    "## 2. Exploratory data analysis"
   ]
  },
  {
   "cell_type": "code",
   "execution_count": 16,
   "metadata": {},
   "outputs": [
    {
     "data": {
      "text/html": [
       "<div>\n",
       "<style scoped>\n",
       "    .dataframe tbody tr th:only-of-type {\n",
       "        vertical-align: middle;\n",
       "    }\n",
       "\n",
       "    .dataframe tbody tr th {\n",
       "        vertical-align: top;\n",
       "    }\n",
       "\n",
       "    .dataframe thead th {\n",
       "        text-align: right;\n",
       "    }\n",
       "</style>\n",
       "<table border=\"1\" class=\"dataframe\">\n",
       "  <thead>\n",
       "    <tr style=\"text-align: right;\">\n",
       "      <th></th>\n",
       "      <th>id</th>\n",
       "      <th>timestamp</th>\n",
       "      <th>hour</th>\n",
       "      <th>day</th>\n",
       "      <th>month</th>\n",
       "      <th>datetime</th>\n",
       "      <th>timezone</th>\n",
       "      <th>source</th>\n",
       "      <th>destination</th>\n",
       "      <th>cab_type</th>\n",
       "      <th>...</th>\n",
       "      <th>precipIntensityMax</th>\n",
       "      <th>uvIndexTime</th>\n",
       "      <th>temperatureMin</th>\n",
       "      <th>temperatureMinTime</th>\n",
       "      <th>temperatureMax</th>\n",
       "      <th>temperatureMaxTime</th>\n",
       "      <th>apparentTemperatureMin</th>\n",
       "      <th>apparentTemperatureMinTime</th>\n",
       "      <th>apparentTemperatureMax</th>\n",
       "      <th>apparentTemperatureMaxTime</th>\n",
       "    </tr>\n",
       "  </thead>\n",
       "  <tbody>\n",
       "    <tr>\n",
       "      <th>0</th>\n",
       "      <td>424553bb-7174-41ea-aeb4-fe06d4f4b9d7</td>\n",
       "      <td>1.544953e+09</td>\n",
       "      <td>9</td>\n",
       "      <td>16</td>\n",
       "      <td>12</td>\n",
       "      <td>2018-12-16 09:30:07</td>\n",
       "      <td>America/New_York</td>\n",
       "      <td>Haymarket Square</td>\n",
       "      <td>North Station</td>\n",
       "      <td>Lyft</td>\n",
       "      <td>...</td>\n",
       "      <td>0.1276</td>\n",
       "      <td>1544979600</td>\n",
       "      <td>39.89</td>\n",
       "      <td>1545012000</td>\n",
       "      <td>43.68</td>\n",
       "      <td>1544968800</td>\n",
       "      <td>33.73</td>\n",
       "      <td>1545012000</td>\n",
       "      <td>38.07</td>\n",
       "      <td>1544958000</td>\n",
       "    </tr>\n",
       "    <tr>\n",
       "      <th>1</th>\n",
       "      <td>4bd23055-6827-41c6-b23b-3c491f24e74d</td>\n",
       "      <td>1.543284e+09</td>\n",
       "      <td>2</td>\n",
       "      <td>27</td>\n",
       "      <td>11</td>\n",
       "      <td>2018-11-27 02:00:23</td>\n",
       "      <td>America/New_York</td>\n",
       "      <td>Haymarket Square</td>\n",
       "      <td>North Station</td>\n",
       "      <td>Lyft</td>\n",
       "      <td>...</td>\n",
       "      <td>0.1300</td>\n",
       "      <td>1543251600</td>\n",
       "      <td>40.49</td>\n",
       "      <td>1543233600</td>\n",
       "      <td>47.30</td>\n",
       "      <td>1543251600</td>\n",
       "      <td>36.20</td>\n",
       "      <td>1543291200</td>\n",
       "      <td>43.92</td>\n",
       "      <td>1543251600</td>\n",
       "    </tr>\n",
       "    <tr>\n",
       "      <th>5</th>\n",
       "      <td>f6f6d7e4-3e18-4922-a5f5-181cdd3fa6f2</td>\n",
       "      <td>1.545071e+09</td>\n",
       "      <td>18</td>\n",
       "      <td>17</td>\n",
       "      <td>12</td>\n",
       "      <td>2018-12-17 18:25:12</td>\n",
       "      <td>America/New_York</td>\n",
       "      <td>Haymarket Square</td>\n",
       "      <td>North Station</td>\n",
       "      <td>Lyft</td>\n",
       "      <td>...</td>\n",
       "      <td>0.0221</td>\n",
       "      <td>1545066000</td>\n",
       "      <td>34.19</td>\n",
       "      <td>1545048000</td>\n",
       "      <td>40.66</td>\n",
       "      <td>1545022800</td>\n",
       "      <td>27.39</td>\n",
       "      <td>1545044400</td>\n",
       "      <td>34.97</td>\n",
       "      <td>1545080400</td>\n",
       "    </tr>\n",
       "    <tr>\n",
       "      <th>7</th>\n",
       "      <td>474d6376-bc59-4ec9-bf57-4e6d6faeb165</td>\n",
       "      <td>1.543780e+09</td>\n",
       "      <td>19</td>\n",
       "      <td>2</td>\n",
       "      <td>12</td>\n",
       "      <td>2018-12-02 19:53:04</td>\n",
       "      <td>America/New_York</td>\n",
       "      <td>Back Bay</td>\n",
       "      <td>Northeastern University</td>\n",
       "      <td>Lyft</td>\n",
       "      <td>...</td>\n",
       "      <td>0.0916</td>\n",
       "      <td>1543770000</td>\n",
       "      <td>36.32</td>\n",
       "      <td>1543726800</td>\n",
       "      <td>50.80</td>\n",
       "      <td>1543788000</td>\n",
       "      <td>35.84</td>\n",
       "      <td>1543748400</td>\n",
       "      <td>50.13</td>\n",
       "      <td>1543788000</td>\n",
       "    </tr>\n",
       "    <tr>\n",
       "      <th>8</th>\n",
       "      <td>4f9fee41-fde3-4767-bbf1-a00e108701fb</td>\n",
       "      <td>1.543818e+09</td>\n",
       "      <td>6</td>\n",
       "      <td>3</td>\n",
       "      <td>12</td>\n",
       "      <td>2018-12-03 06:28:02</td>\n",
       "      <td>America/New_York</td>\n",
       "      <td>Back Bay</td>\n",
       "      <td>Northeastern University</td>\n",
       "      <td>Lyft</td>\n",
       "      <td>...</td>\n",
       "      <td>0.0004</td>\n",
       "      <td>1543852800</td>\n",
       "      <td>43.09</td>\n",
       "      <td>1543896000</td>\n",
       "      <td>57.02</td>\n",
       "      <td>1543852800</td>\n",
       "      <td>39.90</td>\n",
       "      <td>1543896000</td>\n",
       "      <td>56.35</td>\n",
       "      <td>1543852800</td>\n",
       "    </tr>\n",
       "    <tr>\n",
       "      <th>...</th>\n",
       "      <td>...</td>\n",
       "      <td>...</td>\n",
       "      <td>...</td>\n",
       "      <td>...</td>\n",
       "      <td>...</td>\n",
       "      <td>...</td>\n",
       "      <td>...</td>\n",
       "      <td>...</td>\n",
       "      <td>...</td>\n",
       "      <td>...</td>\n",
       "      <td>...</td>\n",
       "      <td>...</td>\n",
       "      <td>...</td>\n",
       "      <td>...</td>\n",
       "      <td>...</td>\n",
       "      <td>...</td>\n",
       "      <td>...</td>\n",
       "      <td>...</td>\n",
       "      <td>...</td>\n",
       "      <td>...</td>\n",
       "      <td>...</td>\n",
       "    </tr>\n",
       "    <tr>\n",
       "      <th>693066</th>\n",
       "      <td>616d3611-1820-450a-9845-a9ff304a4842</td>\n",
       "      <td>1.543708e+09</td>\n",
       "      <td>23</td>\n",
       "      <td>1</td>\n",
       "      <td>12</td>\n",
       "      <td>2018-12-01 23:53:05</td>\n",
       "      <td>America/New_York</td>\n",
       "      <td>West End</td>\n",
       "      <td>North End</td>\n",
       "      <td>Uber</td>\n",
       "      <td>...</td>\n",
       "      <td>0.0000</td>\n",
       "      <td>1543683600</td>\n",
       "      <td>31.42</td>\n",
       "      <td>1543658400</td>\n",
       "      <td>44.76</td>\n",
       "      <td>1543690800</td>\n",
       "      <td>27.77</td>\n",
       "      <td>1543658400</td>\n",
       "      <td>44.09</td>\n",
       "      <td>1543690800</td>\n",
       "    </tr>\n",
       "    <tr>\n",
       "      <th>693067</th>\n",
       "      <td>633a3fc3-1f86-4b9e-9d48-2b7132112341</td>\n",
       "      <td>1.543708e+09</td>\n",
       "      <td>23</td>\n",
       "      <td>1</td>\n",
       "      <td>12</td>\n",
       "      <td>2018-12-01 23:53:05</td>\n",
       "      <td>America/New_York</td>\n",
       "      <td>West End</td>\n",
       "      <td>North End</td>\n",
       "      <td>Uber</td>\n",
       "      <td>...</td>\n",
       "      <td>0.0000</td>\n",
       "      <td>1543683600</td>\n",
       "      <td>31.42</td>\n",
       "      <td>1543658400</td>\n",
       "      <td>44.76</td>\n",
       "      <td>1543690800</td>\n",
       "      <td>27.77</td>\n",
       "      <td>1543658400</td>\n",
       "      <td>44.09</td>\n",
       "      <td>1543690800</td>\n",
       "    </tr>\n",
       "    <tr>\n",
       "      <th>693068</th>\n",
       "      <td>64d451d0-639f-47a4-9b7c-6fd92fbd264f</td>\n",
       "      <td>1.543708e+09</td>\n",
       "      <td>23</td>\n",
       "      <td>1</td>\n",
       "      <td>12</td>\n",
       "      <td>2018-12-01 23:53:05</td>\n",
       "      <td>America/New_York</td>\n",
       "      <td>West End</td>\n",
       "      <td>North End</td>\n",
       "      <td>Uber</td>\n",
       "      <td>...</td>\n",
       "      <td>0.0000</td>\n",
       "      <td>1543683600</td>\n",
       "      <td>31.42</td>\n",
       "      <td>1543658400</td>\n",
       "      <td>44.76</td>\n",
       "      <td>1543690800</td>\n",
       "      <td>27.77</td>\n",
       "      <td>1543658400</td>\n",
       "      <td>44.09</td>\n",
       "      <td>1543690800</td>\n",
       "    </tr>\n",
       "    <tr>\n",
       "      <th>693069</th>\n",
       "      <td>727e5f07-a96b-4ad1-a2c7-9abc3ad55b4e</td>\n",
       "      <td>1.543708e+09</td>\n",
       "      <td>23</td>\n",
       "      <td>1</td>\n",
       "      <td>12</td>\n",
       "      <td>2018-12-01 23:53:05</td>\n",
       "      <td>America/New_York</td>\n",
       "      <td>West End</td>\n",
       "      <td>North End</td>\n",
       "      <td>Uber</td>\n",
       "      <td>...</td>\n",
       "      <td>0.0000</td>\n",
       "      <td>1543683600</td>\n",
       "      <td>31.42</td>\n",
       "      <td>1543658400</td>\n",
       "      <td>44.76</td>\n",
       "      <td>1543690800</td>\n",
       "      <td>27.77</td>\n",
       "      <td>1543658400</td>\n",
       "      <td>44.09</td>\n",
       "      <td>1543690800</td>\n",
       "    </tr>\n",
       "    <tr>\n",
       "      <th>693070</th>\n",
       "      <td>e7fdc087-fe86-40a5-a3c3-3b2a8badcbda</td>\n",
       "      <td>1.543708e+09</td>\n",
       "      <td>23</td>\n",
       "      <td>1</td>\n",
       "      <td>12</td>\n",
       "      <td>2018-12-01 23:53:05</td>\n",
       "      <td>America/New_York</td>\n",
       "      <td>West End</td>\n",
       "      <td>North End</td>\n",
       "      <td>Uber</td>\n",
       "      <td>...</td>\n",
       "      <td>0.0000</td>\n",
       "      <td>1543683600</td>\n",
       "      <td>31.42</td>\n",
       "      <td>1543658400</td>\n",
       "      <td>44.76</td>\n",
       "      <td>1543690800</td>\n",
       "      <td>27.77</td>\n",
       "      <td>1543658400</td>\n",
       "      <td>44.09</td>\n",
       "      <td>1543690800</td>\n",
       "    </tr>\n",
       "  </tbody>\n",
       "</table>\n",
       "<p>484270 rows × 57 columns</p>\n",
       "</div>"
      ],
      "text/plain": [
       "                                          id     timestamp  hour  day  month  \\\n",
       "0       424553bb-7174-41ea-aeb4-fe06d4f4b9d7  1.544953e+09     9   16     12   \n",
       "1       4bd23055-6827-41c6-b23b-3c491f24e74d  1.543284e+09     2   27     11   \n",
       "5       f6f6d7e4-3e18-4922-a5f5-181cdd3fa6f2  1.545071e+09    18   17     12   \n",
       "7       474d6376-bc59-4ec9-bf57-4e6d6faeb165  1.543780e+09    19    2     12   \n",
       "8       4f9fee41-fde3-4767-bbf1-a00e108701fb  1.543818e+09     6    3     12   \n",
       "...                                      ...           ...   ...  ...    ...   \n",
       "693066  616d3611-1820-450a-9845-a9ff304a4842  1.543708e+09    23    1     12   \n",
       "693067  633a3fc3-1f86-4b9e-9d48-2b7132112341  1.543708e+09    23    1     12   \n",
       "693068  64d451d0-639f-47a4-9b7c-6fd92fbd264f  1.543708e+09    23    1     12   \n",
       "693069  727e5f07-a96b-4ad1-a2c7-9abc3ad55b4e  1.543708e+09    23    1     12   \n",
       "693070  e7fdc087-fe86-40a5-a3c3-3b2a8badcbda  1.543708e+09    23    1     12   \n",
       "\n",
       "                   datetime          timezone            source  \\\n",
       "0       2018-12-16 09:30:07  America/New_York  Haymarket Square   \n",
       "1       2018-11-27 02:00:23  America/New_York  Haymarket Square   \n",
       "5       2018-12-17 18:25:12  America/New_York  Haymarket Square   \n",
       "7       2018-12-02 19:53:04  America/New_York          Back Bay   \n",
       "8       2018-12-03 06:28:02  America/New_York          Back Bay   \n",
       "...                     ...               ...               ...   \n",
       "693066  2018-12-01 23:53:05  America/New_York          West End   \n",
       "693067  2018-12-01 23:53:05  America/New_York          West End   \n",
       "693068  2018-12-01 23:53:05  America/New_York          West End   \n",
       "693069  2018-12-01 23:53:05  America/New_York          West End   \n",
       "693070  2018-12-01 23:53:05  America/New_York          West End   \n",
       "\n",
       "                    destination cab_type  ... precipIntensityMax uvIndexTime  \\\n",
       "0                 North Station     Lyft  ...             0.1276  1544979600   \n",
       "1                 North Station     Lyft  ...             0.1300  1543251600   \n",
       "5                 North Station     Lyft  ...             0.0221  1545066000   \n",
       "7       Northeastern University     Lyft  ...             0.0916  1543770000   \n",
       "8       Northeastern University     Lyft  ...             0.0004  1543852800   \n",
       "...                         ...      ...  ...                ...         ...   \n",
       "693066                North End     Uber  ...             0.0000  1543683600   \n",
       "693067                North End     Uber  ...             0.0000  1543683600   \n",
       "693068                North End     Uber  ...             0.0000  1543683600   \n",
       "693069                North End     Uber  ...             0.0000  1543683600   \n",
       "693070                North End     Uber  ...             0.0000  1543683600   \n",
       "\n",
       "        temperatureMin  temperatureMinTime  temperatureMax  \\\n",
       "0                39.89          1545012000           43.68   \n",
       "1                40.49          1543233600           47.30   \n",
       "5                34.19          1545048000           40.66   \n",
       "7                36.32          1543726800           50.80   \n",
       "8                43.09          1543896000           57.02   \n",
       "...                ...                 ...             ...   \n",
       "693066           31.42          1543658400           44.76   \n",
       "693067           31.42          1543658400           44.76   \n",
       "693068           31.42          1543658400           44.76   \n",
       "693069           31.42          1543658400           44.76   \n",
       "693070           31.42          1543658400           44.76   \n",
       "\n",
       "        temperatureMaxTime  apparentTemperatureMin  \\\n",
       "0               1544968800                   33.73   \n",
       "1               1543251600                   36.20   \n",
       "5               1545022800                   27.39   \n",
       "7               1543788000                   35.84   \n",
       "8               1543852800                   39.90   \n",
       "...                    ...                     ...   \n",
       "693066          1543690800                   27.77   \n",
       "693067          1543690800                   27.77   \n",
       "693068          1543690800                   27.77   \n",
       "693069          1543690800                   27.77   \n",
       "693070          1543690800                   27.77   \n",
       "\n",
       "        apparentTemperatureMinTime  apparentTemperatureMax  \\\n",
       "0                       1545012000                   38.07   \n",
       "1                       1543291200                   43.92   \n",
       "5                       1545044400                   34.97   \n",
       "7                       1543748400                   50.13   \n",
       "8                       1543896000                   56.35   \n",
       "...                            ...                     ...   \n",
       "693066                  1543658400                   44.09   \n",
       "693067                  1543658400                   44.09   \n",
       "693068                  1543658400                   44.09   \n",
       "693069                  1543658400                   44.09   \n",
       "693070                  1543658400                   44.09   \n",
       "\n",
       "       apparentTemperatureMaxTime  \n",
       "0                      1544958000  \n",
       "1                      1543251600  \n",
       "5                      1545080400  \n",
       "7                      1543788000  \n",
       "8                      1543852800  \n",
       "...                           ...  \n",
       "693066                 1543690800  \n",
       "693067                 1543690800  \n",
       "693068                 1543690800  \n",
       "693069                 1543690800  \n",
       "693070                 1543690800  \n",
       "\n",
       "[484270 rows x 57 columns]"
      ]
     },
     "execution_count": 16,
     "metadata": {},
     "output_type": "execute_result"
    }
   ],
   "source": [
    "uber_dataset"
   ]
  },
  {
   "cell_type": "code",
   "execution_count": 17,
   "metadata": {},
   "outputs": [
    {
     "data": {
      "text/plain": [
       "(484270, 57)"
      ]
     },
     "execution_count": 17,
     "metadata": {},
     "output_type": "execute_result"
    }
   ],
   "source": [
    "uber_dataset.shape"
   ]
  },
  {
   "cell_type": "code",
   "execution_count": 18,
   "metadata": {},
   "outputs": [
    {
     "name": "stdout",
     "output_type": "stream",
     "text": [
      "<class 'pandas.core.frame.DataFrame'>\n",
      "Int64Index: 484270 entries, 0 to 693070\n",
      "Data columns (total 57 columns):\n",
      " #   Column                       Non-Null Count   Dtype  \n",
      "---  ------                       --------------   -----  \n",
      " 0   id                           484270 non-null  object \n",
      " 1   timestamp                    484270 non-null  float64\n",
      " 2   hour                         484270 non-null  int64  \n",
      " 3   day                          484270 non-null  int64  \n",
      " 4   month                        484270 non-null  int64  \n",
      " 5   datetime                     484270 non-null  object \n",
      " 6   timezone                     484270 non-null  object \n",
      " 7   source                       484270 non-null  object \n",
      " 8   destination                  484270 non-null  object \n",
      " 9   cab_type                     484270 non-null  object \n",
      " 10  product_id                   484270 non-null  object \n",
      " 11  name                         484270 non-null  object \n",
      " 12  price                        429175 non-null  float64\n",
      " 13  distance                     484270 non-null  float64\n",
      " 14  surge_multiplier             484270 non-null  float64\n",
      " 15  latitude                     484270 non-null  float64\n",
      " 16  longitude                    484270 non-null  float64\n",
      " 17  temperature                  484270 non-null  float64\n",
      " 18  apparentTemperature          484270 non-null  float64\n",
      " 19  short_summary                484270 non-null  object \n",
      " 20  long_summary                 484270 non-null  object \n",
      " 21  precipIntensity              484270 non-null  float64\n",
      " 22  precipProbability            484270 non-null  float64\n",
      " 23  humidity                     484270 non-null  float64\n",
      " 24  windSpeed                    484270 non-null  float64\n",
      " 25  windGust                     484270 non-null  float64\n",
      " 26  windGustTime                 484270 non-null  int64  \n",
      " 27  visibility                   484270 non-null  float64\n",
      " 28  temperatureHigh              484270 non-null  float64\n",
      " 29  temperatureHighTime          484270 non-null  int64  \n",
      " 30  temperatureLow               484270 non-null  float64\n",
      " 31  temperatureLowTime           484270 non-null  int64  \n",
      " 32  apparentTemperatureHigh      484270 non-null  float64\n",
      " 33  apparentTemperatureHighTime  484270 non-null  int64  \n",
      " 34  apparentTemperatureLow       484270 non-null  float64\n",
      " 35  apparentTemperatureLowTime   484270 non-null  int64  \n",
      " 36  icon                         484270 non-null  object \n",
      " 37  dewPoint                     484270 non-null  float64\n",
      " 38  pressure                     484270 non-null  float64\n",
      " 39  windBearing                  484270 non-null  int64  \n",
      " 40  cloudCover                   484270 non-null  float64\n",
      " 41  uvIndex                      484270 non-null  int64  \n",
      " 42  visibility.1                 484270 non-null  float64\n",
      " 43  ozone                        484270 non-null  float64\n",
      " 44  sunriseTime                  484270 non-null  int64  \n",
      " 45  sunsetTime                   484270 non-null  int64  \n",
      " 46  moonPhase                    484270 non-null  float64\n",
      " 47  precipIntensityMax           484270 non-null  float64\n",
      " 48  uvIndexTime                  484270 non-null  int64  \n",
      " 49  temperatureMin               484270 non-null  float64\n",
      " 50  temperatureMinTime           484270 non-null  int64  \n",
      " 51  temperatureMax               484270 non-null  float64\n",
      " 52  temperatureMaxTime           484270 non-null  int64  \n",
      " 53  apparentTemperatureMin       484270 non-null  float64\n",
      " 54  apparentTemperatureMinTime   484270 non-null  int64  \n",
      " 55  apparentTemperatureMax       484270 non-null  float64\n",
      " 56  apparentTemperatureMaxTime   484270 non-null  int64  \n",
      "dtypes: float64(29), int64(17), object(11)\n",
      "memory usage: 214.3+ MB\n"
     ]
    }
   ],
   "source": [
    "uber_dataset.info()"
   ]
  },
  {
   "cell_type": "code",
   "execution_count": 19,
   "metadata": {},
   "outputs": [
    {
     "data": {
      "text/html": [
       "<div>\n",
       "<style scoped>\n",
       "    .dataframe tbody tr th:only-of-type {\n",
       "        vertical-align: middle;\n",
       "    }\n",
       "\n",
       "    .dataframe tbody tr th {\n",
       "        vertical-align: top;\n",
       "    }\n",
       "\n",
       "    .dataframe thead th {\n",
       "        text-align: right;\n",
       "    }\n",
       "</style>\n",
       "<table border=\"1\" class=\"dataframe\">\n",
       "  <thead>\n",
       "    <tr style=\"text-align: right;\">\n",
       "      <th></th>\n",
       "      <th>timestamp</th>\n",
       "      <th>hour</th>\n",
       "      <th>day</th>\n",
       "      <th>month</th>\n",
       "      <th>price</th>\n",
       "      <th>distance</th>\n",
       "      <th>surge_multiplier</th>\n",
       "      <th>latitude</th>\n",
       "      <th>longitude</th>\n",
       "      <th>temperature</th>\n",
       "      <th>...</th>\n",
       "      <th>precipIntensityMax</th>\n",
       "      <th>uvIndexTime</th>\n",
       "      <th>temperatureMin</th>\n",
       "      <th>temperatureMinTime</th>\n",
       "      <th>temperatureMax</th>\n",
       "      <th>temperatureMaxTime</th>\n",
       "      <th>apparentTemperatureMin</th>\n",
       "      <th>apparentTemperatureMinTime</th>\n",
       "      <th>apparentTemperatureMax</th>\n",
       "      <th>apparentTemperatureMaxTime</th>\n",
       "    </tr>\n",
       "  </thead>\n",
       "  <tbody>\n",
       "    <tr>\n",
       "      <th>count</th>\n",
       "      <td>4.842700e+05</td>\n",
       "      <td>484270.000000</td>\n",
       "      <td>484270.000000</td>\n",
       "      <td>484270.000000</td>\n",
       "      <td>429175.000000</td>\n",
       "      <td>484270.000000</td>\n",
       "      <td>484270.000000</td>\n",
       "      <td>484270.000000</td>\n",
       "      <td>484270.000000</td>\n",
       "      <td>484270.000000</td>\n",
       "      <td>...</td>\n",
       "      <td>484270.000000</td>\n",
       "      <td>4.842700e+05</td>\n",
       "      <td>484270.000000</td>\n",
       "      <td>4.842700e+05</td>\n",
       "      <td>484270.000000</td>\n",
       "      <td>4.842700e+05</td>\n",
       "      <td>484270.000000</td>\n",
       "      <td>4.842700e+05</td>\n",
       "      <td>484270.000000</td>\n",
       "      <td>4.842700e+05</td>\n",
       "    </tr>\n",
       "    <tr>\n",
       "      <th>mean</th>\n",
       "      <td>1.544046e+09</td>\n",
       "      <td>11.612468</td>\n",
       "      <td>17.798575</td>\n",
       "      <td>11.586675</td>\n",
       "      <td>16.507173</td>\n",
       "      <td>2.189989</td>\n",
       "      <td>1.007866</td>\n",
       "      <td>42.338129</td>\n",
       "      <td>-71.066153</td>\n",
       "      <td>39.578334</td>\n",
       "      <td>...</td>\n",
       "      <td>0.037367</td>\n",
       "      <td>1.544044e+09</td>\n",
       "      <td>33.452696</td>\n",
       "      <td>1.544042e+09</td>\n",
       "      <td>45.256184</td>\n",
       "      <td>1.544048e+09</td>\n",
       "      <td>29.723604</td>\n",
       "      <td>1.544048e+09</td>\n",
       "      <td>41.990599</td>\n",
       "      <td>1.544048e+09</td>\n",
       "    </tr>\n",
       "    <tr>\n",
       "      <th>std</th>\n",
       "      <td>6.892775e+05</td>\n",
       "      <td>6.946253</td>\n",
       "      <td>9.978886</td>\n",
       "      <td>0.492431</td>\n",
       "      <td>8.804381</td>\n",
       "      <td>1.150467</td>\n",
       "      <td>0.068317</td>\n",
       "      <td>0.047878</td>\n",
       "      <td>0.020308</td>\n",
       "      <td>6.727917</td>\n",
       "      <td>...</td>\n",
       "      <td>0.055203</td>\n",
       "      <td>6.912933e+05</td>\n",
       "      <td>6.473043</td>\n",
       "      <td>6.902981e+05</td>\n",
       "      <td>5.647237</td>\n",
       "      <td>6.902169e+05</td>\n",
       "      <td>7.118150</td>\n",
       "      <td>6.872623e+05</td>\n",
       "      <td>6.938157</td>\n",
       "      <td>6.911578e+05</td>\n",
       "    </tr>\n",
       "    <tr>\n",
       "      <th>min</th>\n",
       "      <td>1.543204e+09</td>\n",
       "      <td>0.000000</td>\n",
       "      <td>1.000000</td>\n",
       "      <td>11.000000</td>\n",
       "      <td>2.500000</td>\n",
       "      <td>0.020000</td>\n",
       "      <td>1.000000</td>\n",
       "      <td>42.214800</td>\n",
       "      <td>-71.105400</td>\n",
       "      <td>18.910000</td>\n",
       "      <td>...</td>\n",
       "      <td>0.000000</td>\n",
       "      <td>1.543162e+09</td>\n",
       "      <td>15.630000</td>\n",
       "      <td>1.543122e+09</td>\n",
       "      <td>33.510000</td>\n",
       "      <td>1.543154e+09</td>\n",
       "      <td>11.810000</td>\n",
       "      <td>1.543136e+09</td>\n",
       "      <td>28.950000</td>\n",
       "      <td>1.543187e+09</td>\n",
       "    </tr>\n",
       "    <tr>\n",
       "      <th>25%</th>\n",
       "      <td>1.543444e+09</td>\n",
       "      <td>6.000000</td>\n",
       "      <td>13.000000</td>\n",
       "      <td>11.000000</td>\n",
       "      <td>9.000000</td>\n",
       "      <td>1.280000</td>\n",
       "      <td>1.000000</td>\n",
       "      <td>42.350300</td>\n",
       "      <td>-71.081000</td>\n",
       "      <td>36.450000</td>\n",
       "      <td>...</td>\n",
       "      <td>0.000000</td>\n",
       "      <td>1.543421e+09</td>\n",
       "      <td>30.170000</td>\n",
       "      <td>1.543399e+09</td>\n",
       "      <td>42.570000</td>\n",
       "      <td>1.543439e+09</td>\n",
       "      <td>27.760000</td>\n",
       "      <td>1.543399e+09</td>\n",
       "      <td>36.570000</td>\n",
       "      <td>1.543439e+09</td>\n",
       "    </tr>\n",
       "    <tr>\n",
       "      <th>50%</th>\n",
       "      <td>1.543737e+09</td>\n",
       "      <td>12.000000</td>\n",
       "      <td>17.000000</td>\n",
       "      <td>12.000000</td>\n",
       "      <td>15.500000</td>\n",
       "      <td>2.170000</td>\n",
       "      <td>1.000000</td>\n",
       "      <td>42.351900</td>\n",
       "      <td>-71.063100</td>\n",
       "      <td>40.490000</td>\n",
       "      <td>...</td>\n",
       "      <td>0.000400</td>\n",
       "      <td>1.543770e+09</td>\n",
       "      <td>34.240000</td>\n",
       "      <td>1.543727e+09</td>\n",
       "      <td>44.660000</td>\n",
       "      <td>1.543788e+09</td>\n",
       "      <td>30.130000</td>\n",
       "      <td>1.543745e+09</td>\n",
       "      <td>40.950000</td>\n",
       "      <td>1.543788e+09</td>\n",
       "    </tr>\n",
       "    <tr>\n",
       "      <th>75%</th>\n",
       "      <td>1.544828e+09</td>\n",
       "      <td>18.000000</td>\n",
       "      <td>28.000000</td>\n",
       "      <td>12.000000</td>\n",
       "      <td>22.500000</td>\n",
       "      <td>2.880000</td>\n",
       "      <td>1.000000</td>\n",
       "      <td>42.364700</td>\n",
       "      <td>-71.054200</td>\n",
       "      <td>43.580000</td>\n",
       "      <td>...</td>\n",
       "      <td>0.091600</td>\n",
       "      <td>1.544807e+09</td>\n",
       "      <td>38.880000</td>\n",
       "      <td>1.544789e+09</td>\n",
       "      <td>46.910000</td>\n",
       "      <td>1.544814e+09</td>\n",
       "      <td>35.710000</td>\n",
       "      <td>1.544789e+09</td>\n",
       "      <td>44.120000</td>\n",
       "      <td>1.544818e+09</td>\n",
       "    </tr>\n",
       "    <tr>\n",
       "      <th>max</th>\n",
       "      <td>1.545161e+09</td>\n",
       "      <td>23.000000</td>\n",
       "      <td>30.000000</td>\n",
       "      <td>12.000000</td>\n",
       "      <td>89.500000</td>\n",
       "      <td>7.860000</td>\n",
       "      <td>2.000000</td>\n",
       "      <td>42.366100</td>\n",
       "      <td>-71.033000</td>\n",
       "      <td>57.220000</td>\n",
       "      <td>...</td>\n",
       "      <td>0.145900</td>\n",
       "      <td>1.545152e+09</td>\n",
       "      <td>43.100000</td>\n",
       "      <td>1.545192e+09</td>\n",
       "      <td>57.870000</td>\n",
       "      <td>1.545109e+09</td>\n",
       "      <td>40.050000</td>\n",
       "      <td>1.545134e+09</td>\n",
       "      <td>57.200000</td>\n",
       "      <td>1.545109e+09</td>\n",
       "    </tr>\n",
       "  </tbody>\n",
       "</table>\n",
       "<p>8 rows × 46 columns</p>\n",
       "</div>"
      ],
      "text/plain": [
       "          timestamp           hour            day          month  \\\n",
       "count  4.842700e+05  484270.000000  484270.000000  484270.000000   \n",
       "mean   1.544046e+09      11.612468      17.798575      11.586675   \n",
       "std    6.892775e+05       6.946253       9.978886       0.492431   \n",
       "min    1.543204e+09       0.000000       1.000000      11.000000   \n",
       "25%    1.543444e+09       6.000000      13.000000      11.000000   \n",
       "50%    1.543737e+09      12.000000      17.000000      12.000000   \n",
       "75%    1.544828e+09      18.000000      28.000000      12.000000   \n",
       "max    1.545161e+09      23.000000      30.000000      12.000000   \n",
       "\n",
       "               price       distance  surge_multiplier       latitude  \\\n",
       "count  429175.000000  484270.000000     484270.000000  484270.000000   \n",
       "mean       16.507173       2.189989          1.007866      42.338129   \n",
       "std         8.804381       1.150467          0.068317       0.047878   \n",
       "min         2.500000       0.020000          1.000000      42.214800   \n",
       "25%         9.000000       1.280000          1.000000      42.350300   \n",
       "50%        15.500000       2.170000          1.000000      42.351900   \n",
       "75%        22.500000       2.880000          1.000000      42.364700   \n",
       "max        89.500000       7.860000          2.000000      42.366100   \n",
       "\n",
       "           longitude    temperature  ...  precipIntensityMax   uvIndexTime  \\\n",
       "count  484270.000000  484270.000000  ...       484270.000000  4.842700e+05   \n",
       "mean      -71.066153      39.578334  ...            0.037367  1.544044e+09   \n",
       "std         0.020308       6.727917  ...            0.055203  6.912933e+05   \n",
       "min       -71.105400      18.910000  ...            0.000000  1.543162e+09   \n",
       "25%       -71.081000      36.450000  ...            0.000000  1.543421e+09   \n",
       "50%       -71.063100      40.490000  ...            0.000400  1.543770e+09   \n",
       "75%       -71.054200      43.580000  ...            0.091600  1.544807e+09   \n",
       "max       -71.033000      57.220000  ...            0.145900  1.545152e+09   \n",
       "\n",
       "       temperatureMin  temperatureMinTime  temperatureMax  temperatureMaxTime  \\\n",
       "count   484270.000000        4.842700e+05   484270.000000        4.842700e+05   \n",
       "mean        33.452696        1.544042e+09       45.256184        1.544048e+09   \n",
       "std          6.473043        6.902981e+05        5.647237        6.902169e+05   \n",
       "min         15.630000        1.543122e+09       33.510000        1.543154e+09   \n",
       "25%         30.170000        1.543399e+09       42.570000        1.543439e+09   \n",
       "50%         34.240000        1.543727e+09       44.660000        1.543788e+09   \n",
       "75%         38.880000        1.544789e+09       46.910000        1.544814e+09   \n",
       "max         43.100000        1.545192e+09       57.870000        1.545109e+09   \n",
       "\n",
       "       apparentTemperatureMin  apparentTemperatureMinTime  \\\n",
       "count           484270.000000                4.842700e+05   \n",
       "mean                29.723604                1.544048e+09   \n",
       "std                  7.118150                6.872623e+05   \n",
       "min                 11.810000                1.543136e+09   \n",
       "25%                 27.760000                1.543399e+09   \n",
       "50%                 30.130000                1.543745e+09   \n",
       "75%                 35.710000                1.544789e+09   \n",
       "max                 40.050000                1.545134e+09   \n",
       "\n",
       "       apparentTemperatureMax  apparentTemperatureMaxTime  \n",
       "count           484270.000000                4.842700e+05  \n",
       "mean                41.990599                1.544048e+09  \n",
       "std                  6.938157                6.911578e+05  \n",
       "min                 28.950000                1.543187e+09  \n",
       "25%                 36.570000                1.543439e+09  \n",
       "50%                 40.950000                1.543788e+09  \n",
       "75%                 44.120000                1.544818e+09  \n",
       "max                 57.200000                1.545109e+09  \n",
       "\n",
       "[8 rows x 46 columns]"
      ]
     },
     "execution_count": 19,
     "metadata": {},
     "output_type": "execute_result"
    }
   ],
   "source": [
    "uber_dataset.describe()"
   ]
  },
  {
   "cell_type": "code",
   "execution_count": 20,
   "metadata": {},
   "outputs": [
    {
     "data": {
      "text/plain": [
       "id                                 0\n",
       "timestamp                          0\n",
       "hour                               0\n",
       "day                                0\n",
       "month                              0\n",
       "datetime                           0\n",
       "timezone                           0\n",
       "source                             0\n",
       "destination                        0\n",
       "cab_type                           0\n",
       "product_id                         0\n",
       "name                               0\n",
       "price                          55095\n",
       "distance                           0\n",
       "surge_multiplier                   0\n",
       "latitude                           0\n",
       "longitude                          0\n",
       "temperature                        0\n",
       "apparentTemperature                0\n",
       "short_summary                      0\n",
       "long_summary                       0\n",
       "precipIntensity                    0\n",
       "precipProbability                  0\n",
       "humidity                           0\n",
       "windSpeed                          0\n",
       "windGust                           0\n",
       "windGustTime                       0\n",
       "visibility                         0\n",
       "temperatureHigh                    0\n",
       "temperatureHighTime                0\n",
       "temperatureLow                     0\n",
       "temperatureLowTime                 0\n",
       "apparentTemperatureHigh            0\n",
       "apparentTemperatureHighTime        0\n",
       "apparentTemperatureLow             0\n",
       "apparentTemperatureLowTime         0\n",
       "icon                               0\n",
       "dewPoint                           0\n",
       "pressure                           0\n",
       "windBearing                        0\n",
       "cloudCover                         0\n",
       "uvIndex                            0\n",
       "visibility.1                       0\n",
       "ozone                              0\n",
       "sunriseTime                        0\n",
       "sunsetTime                         0\n",
       "moonPhase                          0\n",
       "precipIntensityMax                 0\n",
       "uvIndexTime                        0\n",
       "temperatureMin                     0\n",
       "temperatureMinTime                 0\n",
       "temperatureMax                     0\n",
       "temperatureMaxTime                 0\n",
       "apparentTemperatureMin             0\n",
       "apparentTemperatureMinTime         0\n",
       "apparentTemperatureMax             0\n",
       "apparentTemperatureMaxTime         0\n",
       "dtype: int64"
      ]
     },
     "execution_count": 20,
     "metadata": {},
     "output_type": "execute_result"
    }
   ],
   "source": [
    "uber_dataset.isnull().sum()"
   ]
  },
  {
   "cell_type": "markdown",
   "metadata": {},
   "source": [
    "## 3. Feature Engineering"
   ]
  },
  {
   "cell_type": "code",
   "execution_count": 21,
   "metadata": {},
   "outputs": [],
   "source": [
    "import matplotlib.pyplot as plt\n",
    "import numpy as np\n",
    "%matplotlib inline\n",
    "import seaborn as sns\n",
    "import pandas as pd"
   ]
  },
  {
   "cell_type": "code",
   "execution_count": 22,
   "metadata": {},
   "outputs": [
    {
     "data": {
      "text/plain": [
       "<AxesSubplot:xlabel='price', ylabel='name'>"
      ]
     },
     "execution_count": 22,
     "metadata": {},
     "output_type": "execute_result"
    },
    {
     "data": {
      "image/png": "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\n",
      "text/plain": [
       "<Figure size 432x288 with 1 Axes>"
      ]
     },
     "metadata": {
      "needs_background": "light"
     },
     "output_type": "display_data"
    }
   ],
   "source": [
    "sns.stripplot(data=uber_dataset, x='price', y='name')\n",
    "#Strip Plots"
   ]
  },
  {
   "cell_type": "code",
   "execution_count": 23,
   "metadata": {},
   "outputs": [
    {
     "data": {
      "text/plain": [
       "<AxesSubplot:xlabel='price', ylabel='icon'>"
      ]
     },
     "execution_count": 23,
     "metadata": {},
     "output_type": "execute_result"
    },
    {
     "data": {
      "image/png": "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\n",
      "text/plain": [
       "<Figure size 432x288 with 1 Axes>"
      ]
     },
     "metadata": {
      "needs_background": "light"
     },
     "output_type": "display_data"
    }
   ],
   "source": [
    "sns.stripplot(data=uber_dataset, x='price', y='icon')"
   ]
  },
  {
   "cell_type": "code",
   "execution_count": 24,
   "metadata": {},
   "outputs": [
    {
     "data": {
      "text/plain": [
       "<AxesSubplot:xlabel='surge_multiplier', ylabel='source'>"
      ]
     },
     "execution_count": 24,
     "metadata": {},
     "output_type": "execute_result"
    },
    {
     "data": {
      "image/png": "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\n",
      "text/plain": [
       "<Figure size 432x288 with 1 Axes>"
      ]
     },
     "metadata": {
      "needs_background": "light"
     },
     "output_type": "display_data"
    }
   ],
   "source": [
    "sns.stripplot(data=uber_dataset, x='surge_multiplier', y='source')"
   ]
  },
  {
   "cell_type": "code",
   "execution_count": 25,
   "metadata": {},
   "outputs": [
    {
     "data": {
      "text/plain": [
       "<AxesSubplot:xlabel='surge_multiplier', ylabel='hour'>"
      ]
     },
     "execution_count": 25,
     "metadata": {},
     "output_type": "execute_result"
    },
    {
     "data": {
      "image/png": "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\n",
      "text/plain": [
       "<Figure size 432x288 with 1 Axes>"
      ]
     },
     "metadata": {
      "needs_background": "light"
     },
     "output_type": "display_data"
    }
   ],
   "source": [
    "sns.stripplot(data=uber_dataset, x='surge_multiplier', y='hour')"
   ]
  },
  {
   "cell_type": "code",
   "execution_count": 26,
   "metadata": {},
   "outputs": [
    {
     "data": {
      "text/plain": [
       "0    1.544953e+09\n",
       "1    1.543284e+09\n",
       "5    1.545071e+09\n",
       "7    1.543780e+09\n",
       "8    1.543818e+09\n",
       "Name: timestamp, dtype: float64"
      ]
     },
     "execution_count": 26,
     "metadata": {},
     "output_type": "execute_result"
    }
   ],
   "source": [
    "#Converting Timestamp to Datetime value\n",
    "uber_dataset['timestamp'].head()"
   ]
  },
  {
   "cell_type": "code",
   "execution_count": 27,
   "metadata": {},
   "outputs": [
    {
     "name": "stdout",
     "output_type": "stream",
     "text": [
      "dt_object = 2018-12-16 15:06:40\n",
      "dt_object = 2018-11-27 07:30:00\n",
      "dt_object = 2018-12-17 23:53:20\n",
      "dt_object = 2018-12-03 01:16:40\n",
      "dt_object = 2018-12-03 11:50:00\n"
     ]
    }
   ],
   "source": [
    "from datetime import datetime\n",
    "timestamp1 = 1.544953e+09    \n",
    "timestamp2 = 1.543284e+09\n",
    "timestamp3 = 1.545071e+09\n",
    "timestamp4 = 1.543780e+09\n",
    "timestamp5 = 1.543818e+09\n",
    "dt_object1 = datetime.fromtimestamp(timestamp1)\n",
    "dt_object2 = datetime.fromtimestamp(timestamp2)\n",
    "dt_object3 = datetime.fromtimestamp(timestamp3)\n",
    "dt_object4 = datetime.fromtimestamp(timestamp4)\n",
    "dt_object5 = datetime.fromtimestamp(timestamp5)\n",
    "\n",
    "print(\"dt_object =\", dt_object1)\n",
    "print(\"dt_object =\", dt_object2)\n",
    "print(\"dt_object =\", dt_object3)\n",
    "print(\"dt_object =\", dt_object4)\n",
    "print(\"dt_object =\", dt_object5)"
   ]
  },
  {
   "cell_type": "code",
   "execution_count": 28,
   "metadata": {},
   "outputs": [
    {
     "data": {
      "text/plain": [
       "<AxesSubplot:>"
      ]
     },
     "execution_count": 28,
     "metadata": {},
     "output_type": "execute_result"
    },
    {
     "data": {
      "image/png": "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\n",
      "text/plain": [
       "<Figure size 720x360 with 1 Axes>"
      ]
     },
     "metadata": {
      "needs_background": "light"
     },
     "output_type": "display_data"
    }
   ],
   "source": [
    "# november and december month of 2018\n",
    "uber_dataset['month'].value_counts().plot(kind='bar', figsize=(10,5), color='blue')\n",
    "# bar plots"
   ]
  },
  {
   "cell_type": "code",
   "execution_count": 29,
   "metadata": {},
   "outputs": [
    {
     "data": {
      "text/plain": [
       "<AxesSubplot:>"
      ]
     },
     "execution_count": 29,
     "metadata": {},
     "output_type": "execute_result"
    },
    {
     "data": {
      "image/png": "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\n",
      "text/plain": [
       "<Figure size 720x360 with 1 Axes>"
      ]
     },
     "metadata": {
      "needs_background": "light"
     },
     "output_type": "display_data"
    }
   ],
   "source": [
    "uber_dataset['name'].value_counts().plot(kind='bar', figsize=(10,5), color='green')"
   ]
  },
  {
   "cell_type": "code",
   "execution_count": 30,
   "metadata": {},
   "outputs": [
    {
     "data": {
      "text/plain": [
       "<AxesSubplot:>"
      ]
     },
     "execution_count": 30,
     "metadata": {},
     "output_type": "execute_result"
    },
    {
     "data": {
      "image/png": "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\n",
      "text/plain": [
       "<Figure size 720x360 with 1 Axes>"
      ]
     },
     "metadata": {
      "needs_background": "light"
     },
     "output_type": "display_data"
    }
   ],
   "source": [
    "uber_dataset['icon'].value_counts().plot(kind='bar', figsize=(10,5), color='red')"
   ]
  },
  {
   "cell_type": "code",
   "execution_count": 31,
   "metadata": {},
   "outputs": [
    {
     "data": {
      "text/plain": [
       "<AxesSubplot:>"
      ]
     },
     "execution_count": 31,
     "metadata": {},
     "output_type": "execute_result"
    },
    {
     "data": {
      "image/png": "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\n",
      "text/plain": [
       "<Figure size 720x360 with 1 Axes>"
      ]
     },
     "metadata": {
      "needs_background": "light"
     },
     "output_type": "display_data"
    }
   ],
   "source": [
    "uber_dataset['source'].value_counts().plot(kind='bar', figsize=(10,5), color= 'pink')"
   ]
  },
  {
   "cell_type": "code",
   "execution_count": 32,
   "metadata": {},
   "outputs": [
    {
     "data": {
      "text/plain": [
       "<AxesSubplot:>"
      ]
     },
     "execution_count": 32,
     "metadata": {},
     "output_type": "execute_result"
    },
    {
     "data": {
      "image/png": "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\n",
      "text/plain": [
       "<Figure size 720x360 with 1 Axes>"
      ]
     },
     "metadata": {
      "needs_background": "light"
     },
     "output_type": "display_data"
    }
   ],
   "source": [
    "uber_dataset['uvIndex'].value_counts().plot(kind='bar', figsize=(10,5), color='brown')"
   ]
  },
  {
   "cell_type": "code",
   "execution_count": 33,
   "metadata": {},
   "outputs": [
    {
     "data": {
      "text/plain": [
       "<AxesSubplot:>"
      ]
     },
     "execution_count": 33,
     "metadata": {},
     "output_type": "execute_result"
    },
    {
     "data": {
      "image/png": "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\n",
      "text/plain": [
       "<Figure size 720x360 with 1 Axes>"
      ]
     },
     "metadata": {
      "needs_background": "light"
     },
     "output_type": "display_data"
    }
   ],
   "source": [
    "uber_dataset['moonPhase'].value_counts().plot(kind='bar', figsize=(10,5), color='orange')"
   ]
  },
  {
   "cell_type": "code",
   "execution_count": 34,
   "metadata": {},
   "outputs": [
    {
     "data": {
      "text/plain": [
       "<AxesSubplot:>"
      ]
     },
     "execution_count": 34,
     "metadata": {},
     "output_type": "execute_result"
    },
    {
     "data": {
      "image/png": "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\n",
      "text/plain": [
       "<Figure size 720x360 with 1 Axes>"
      ]
     },
     "metadata": {
      "needs_background": "light"
     },
     "output_type": "display_data"
    }
   ],
   "source": [
    "uber_dataset['precipProbability'].value_counts().plot(kind='bar', figsize=(10,5), color='violet')"
   ]
  },
  {
   "cell_type": "code",
   "execution_count": 35,
   "metadata": {},
   "outputs": [],
   "source": [
    "#Label Encoding\n",
    "# Import label encoder \n",
    "from sklearn import preprocessing \n",
    "  \n",
    "# label_encoder object knows how to understand word labels. \n",
    "label_encoder = preprocessing.LabelEncoder() "
   ]
  },
  {
   "cell_type": "code",
   "execution_count": 36,
   "metadata": {},
   "outputs": [
    {
     "data": {
      "text/plain": [
       "id                              object\n",
       "timestamp                      float64\n",
       "hour                             int64\n",
       "day                              int64\n",
       "month                            int64\n",
       "datetime                        object\n",
       "timezone                        object\n",
       "source                          object\n",
       "destination                     object\n",
       "cab_type                        object\n",
       "product_id                      object\n",
       "name                            object\n",
       "price                          float64\n",
       "distance                       float64\n",
       "surge_multiplier               float64\n",
       "latitude                       float64\n",
       "longitude                      float64\n",
       "temperature                    float64\n",
       "apparentTemperature            float64\n",
       "short_summary                   object\n",
       "long_summary                    object\n",
       "precipIntensity                float64\n",
       "precipProbability              float64\n",
       "humidity                       float64\n",
       "windSpeed                      float64\n",
       "windGust                       float64\n",
       "windGustTime                     int64\n",
       "visibility                     float64\n",
       "temperatureHigh                float64\n",
       "temperatureHighTime              int64\n",
       "temperatureLow                 float64\n",
       "temperatureLowTime               int64\n",
       "apparentTemperatureHigh        float64\n",
       "apparentTemperatureHighTime      int64\n",
       "apparentTemperatureLow         float64\n",
       "apparentTemperatureLowTime       int64\n",
       "icon                            object\n",
       "dewPoint                       float64\n",
       "pressure                       float64\n",
       "windBearing                      int64\n",
       "cloudCover                     float64\n",
       "uvIndex                          int64\n",
       "visibility.1                   float64\n",
       "ozone                          float64\n",
       "sunriseTime                      int64\n",
       "sunsetTime                       int64\n",
       "moonPhase                      float64\n",
       "precipIntensityMax             float64\n",
       "uvIndexTime                      int64\n",
       "temperatureMin                 float64\n",
       "temperatureMinTime               int64\n",
       "temperatureMax                 float64\n",
       "temperatureMaxTime               int64\n",
       "apparentTemperatureMin         float64\n",
       "apparentTemperatureMinTime       int64\n",
       "apparentTemperatureMax         float64\n",
       "apparentTemperatureMaxTime       int64\n",
       "dtype: object"
      ]
     },
     "execution_count": 36,
     "metadata": {},
     "output_type": "execute_result"
    }
   ],
   "source": [
    "uber_dataset.dtypes"
   ]
  },
  {
   "cell_type": "code",
   "execution_count": 37,
   "metadata": {},
   "outputs": [],
   "source": [
    "uber_dataset1 = uber_dataset.drop(['cab_type'], axis = 1)"
   ]
  },
  {
   "cell_type": "code",
   "execution_count": 38,
   "metadata": {},
   "outputs": [
    {
     "data": {
      "text/plain": [
       "id                              object\n",
       "timestamp                      float64\n",
       "hour                             int64\n",
       "day                              int64\n",
       "month                            int64\n",
       "datetime                        object\n",
       "timezone                        object\n",
       "source                          object\n",
       "destination                     object\n",
       "product_id                      object\n",
       "name                            object\n",
       "price                          float64\n",
       "distance                       float64\n",
       "surge_multiplier               float64\n",
       "latitude                       float64\n",
       "longitude                      float64\n",
       "temperature                    float64\n",
       "apparentTemperature            float64\n",
       "short_summary                   object\n",
       "long_summary                    object\n",
       "precipIntensity                float64\n",
       "precipProbability              float64\n",
       "humidity                       float64\n",
       "windSpeed                      float64\n",
       "windGust                       float64\n",
       "windGustTime                     int64\n",
       "visibility                     float64\n",
       "temperatureHigh                float64\n",
       "temperatureHighTime              int64\n",
       "temperatureLow                 float64\n",
       "temperatureLowTime               int64\n",
       "apparentTemperatureHigh        float64\n",
       "apparentTemperatureHighTime      int64\n",
       "apparentTemperatureLow         float64\n",
       "apparentTemperatureLowTime       int64\n",
       "icon                            object\n",
       "dewPoint                       float64\n",
       "pressure                       float64\n",
       "windBearing                      int64\n",
       "cloudCover                     float64\n",
       "uvIndex                          int64\n",
       "visibility.1                   float64\n",
       "ozone                          float64\n",
       "sunriseTime                      int64\n",
       "sunsetTime                       int64\n",
       "moonPhase                      float64\n",
       "precipIntensityMax             float64\n",
       "uvIndexTime                      int64\n",
       "temperatureMin                 float64\n",
       "temperatureMinTime               int64\n",
       "temperatureMax                 float64\n",
       "temperatureMaxTime               int64\n",
       "apparentTemperatureMin         float64\n",
       "apparentTemperatureMinTime       int64\n",
       "apparentTemperatureMax         float64\n",
       "apparentTemperatureMaxTime       int64\n",
       "dtype: object"
      ]
     },
     "execution_count": 38,
     "metadata": {},
     "output_type": "execute_result"
    }
   ],
   "source": [
    "uber_dataset1.dtypes"
   ]
  },
  {
   "cell_type": "code",
   "execution_count": 39,
   "metadata": {},
   "outputs": [],
   "source": [
    "uber_dataset = uber_dataset1"
   ]
  },
  {
   "cell_type": "code",
   "execution_count": 40,
   "metadata": {},
   "outputs": [],
   "source": [
    "uber_dataset['id']= label_encoder.fit_transform(uber_dataset['id']) \n",
    "uber_dataset['datetime']= label_encoder.fit_transform(uber_dataset['datetime']) \n",
    "uber_dataset['timezone']= label_encoder.fit_transform(uber_dataset['timezone'])\n",
    "uber_dataset['destination']= label_encoder.fit_transform(uber_dataset['destination']) \n",
    "uber_dataset['product_id']= label_encoder.fit_transform(uber_dataset['product_id'])\n",
    "uber_dataset['short_summary']= label_encoder.fit_transform(uber_dataset['short_summary'])\n",
    "uber_dataset['long_summary']= label_encoder.fit_transform(uber_dataset['long_summary'])"
   ]
  },
  {
   "cell_type": "code",
   "execution_count": 41,
   "metadata": {},
   "outputs": [
    {
     "name": "stdout",
     "output_type": "stream",
     "text": [
      "Class mapping of Name: \n",
      "Black --> 0\n",
      "Black SUV --> 1\n",
      "Lux --> 2\n",
      "Lux Black --> 3\n",
      "Shared --> 4\n",
      "Taxi --> 5\n",
      "UberPool --> 6\n",
      "UberX --> 7\n",
      "UberXL --> 8\n"
     ]
    }
   ],
   "source": [
    "uber_dataset['name']= label_encoder.fit_transform(uber_dataset['name'])\n",
    "\n",
    "print(\"Class mapping of Name: \")\n",
    "for i, item in enumerate(label_encoder.classes_):\n",
    "    print(item, \"-->\", i)"
   ]
  },
  {
   "cell_type": "code",
   "execution_count": 42,
   "metadata": {},
   "outputs": [
    {
     "name": "stdout",
     "output_type": "stream",
     "text": [
      "Class mapping of Source: \n",
      "Back Bay --> 0\n",
      "Beacon Hill --> 1\n",
      "Boston University --> 2\n",
      "Fenway --> 3\n",
      "Financial District --> 4\n",
      "Haymarket Square --> 5\n",
      "North End --> 6\n",
      "North Station --> 7\n",
      "Northeastern University --> 8\n",
      "South Station --> 9\n",
      "Theatre District --> 10\n",
      "West End --> 11\n"
     ]
    }
   ],
   "source": [
    "uber_dataset['source']= label_encoder.fit_transform(uber_dataset['source'])\n",
    "\n",
    "print(\"Class mapping of Source: \")\n",
    "for i, item in enumerate(label_encoder.classes_):\n",
    "    print(item, \"-->\", i)"
   ]
  },
  {
   "cell_type": "code",
   "execution_count": 44,
   "metadata": {},
   "outputs": [
    {
     "name": "stdout",
     "output_type": "stream",
     "text": [
      "Class mapping of Icon: \n",
      " clear-day  --> 0\n",
      " clear-night  --> 1\n",
      " cloudy  --> 2\n",
      " fog  --> 3\n",
      " partly-cloudy-day  --> 4\n",
      " partly-cloudy-night  --> 5\n",
      " rain  --> 6\n"
     ]
    }
   ],
   "source": [
    "uber_dataset['icon']= label_encoder.fit_transform(uber_dataset['icon'])\n",
    "\n",
    "print(\"Class mapping of Icon: \")\n",
    "for i, item in enumerate(label_encoder.classes_):\n",
    "    print(item, \"-->\", i)"
   ]
  },
  {
   "cell_type": "code",
   "execution_count": 45,
   "metadata": {},
   "outputs": [
    {
     "data": {
      "text/plain": [
       "id                               int32\n",
       "timestamp                      float64\n",
       "hour                             int64\n",
       "day                              int64\n",
       "month                            int64\n",
       "datetime                         int32\n",
       "timezone                         int32\n",
       "source                           int32\n",
       "destination                      int64\n",
       "product_id                       int32\n",
       "name                             int32\n",
       "price                          float64\n",
       "distance                       float64\n",
       "surge_multiplier               float64\n",
       "latitude                       float64\n",
       "longitude                      float64\n",
       "temperature                    float64\n",
       "apparentTemperature            float64\n",
       "short_summary                    int32\n",
       "long_summary                     int32\n",
       "precipIntensity                float64\n",
       "precipProbability              float64\n",
       "humidity                       float64\n",
       "windSpeed                      float64\n",
       "windGust                       float64\n",
       "windGustTime                     int64\n",
       "visibility                     float64\n",
       "temperatureHigh                float64\n",
       "temperatureHighTime              int64\n",
       "temperatureLow                 float64\n",
       "temperatureLowTime               int64\n",
       "apparentTemperatureHigh        float64\n",
       "apparentTemperatureHighTime      int64\n",
       "apparentTemperatureLow         float64\n",
       "apparentTemperatureLowTime       int64\n",
       "icon                             int32\n",
       "dewPoint                       float64\n",
       "pressure                       float64\n",
       "windBearing                      int64\n",
       "cloudCover                     float64\n",
       "uvIndex                          int64\n",
       "visibility.1                   float64\n",
       "ozone                          float64\n",
       "sunriseTime                      int64\n",
       "sunsetTime                       int64\n",
       "moonPhase                      float64\n",
       "precipIntensityMax             float64\n",
       "uvIndexTime                      int64\n",
       "temperatureMin                 float64\n",
       "temperatureMinTime               int64\n",
       "temperatureMax                 float64\n",
       "temperatureMaxTime               int64\n",
       "apparentTemperatureMin         float64\n",
       "apparentTemperatureMinTime       int64\n",
       "apparentTemperatureMax         float64\n",
       "apparentTemperatureMaxTime       int64\n",
       "dtype: object"
      ]
     },
     "execution_count": 45,
     "metadata": {},
     "output_type": "execute_result"
    }
   ],
   "source": [
    "uber_dataset.dtypes"
   ]
  },
  {
   "cell_type": "code",
   "execution_count": 46,
   "metadata": {},
   "outputs": [
    {
     "data": {
      "text/html": [
       "<div>\n",
       "<style scoped>\n",
       "    .dataframe tbody tr th:only-of-type {\n",
       "        vertical-align: middle;\n",
       "    }\n",
       "\n",
       "    .dataframe tbody tr th {\n",
       "        vertical-align: top;\n",
       "    }\n",
       "\n",
       "    .dataframe thead th {\n",
       "        text-align: right;\n",
       "    }\n",
       "</style>\n",
       "<table border=\"1\" class=\"dataframe\">\n",
       "  <thead>\n",
       "    <tr style=\"text-align: right;\">\n",
       "      <th></th>\n",
       "      <th>id</th>\n",
       "      <th>timestamp</th>\n",
       "      <th>hour</th>\n",
       "      <th>day</th>\n",
       "      <th>month</th>\n",
       "      <th>datetime</th>\n",
       "      <th>timezone</th>\n",
       "      <th>source</th>\n",
       "      <th>destination</th>\n",
       "      <th>product_id</th>\n",
       "      <th>...</th>\n",
       "      <th>precipIntensityMax</th>\n",
       "      <th>uvIndexTime</th>\n",
       "      <th>temperatureMin</th>\n",
       "      <th>temperatureMinTime</th>\n",
       "      <th>temperatureMax</th>\n",
       "      <th>temperatureMaxTime</th>\n",
       "      <th>apparentTemperatureMin</th>\n",
       "      <th>apparentTemperatureMinTime</th>\n",
       "      <th>apparentTemperatureMax</th>\n",
       "      <th>apparentTemperatureMaxTime</th>\n",
       "    </tr>\n",
       "  </thead>\n",
       "  <tbody>\n",
       "    <tr>\n",
       "      <th>0</th>\n",
       "      <td>125325</td>\n",
       "      <td>1.544953e+09</td>\n",
       "      <td>9</td>\n",
       "      <td>16</td>\n",
       "      <td>12</td>\n",
       "      <td>25348</td>\n",
       "      <td>0</td>\n",
       "      <td>5</td>\n",
       "      <td>7</td>\n",
       "      <td>6</td>\n",
       "      <td>...</td>\n",
       "      <td>0.1276</td>\n",
       "      <td>1544979600</td>\n",
       "      <td>39.89</td>\n",
       "      <td>1545012000</td>\n",
       "      <td>43.68</td>\n",
       "      <td>1544968800</td>\n",
       "      <td>33.73</td>\n",
       "      <td>1545012000</td>\n",
       "      <td>38.07</td>\n",
       "      <td>1544958000</td>\n",
       "    </tr>\n",
       "    <tr>\n",
       "      <th>1</th>\n",
       "      <td>143414</td>\n",
       "      <td>1.543284e+09</td>\n",
       "      <td>2</td>\n",
       "      <td>27</td>\n",
       "      <td>11</td>\n",
       "      <td>961</td>\n",
       "      <td>0</td>\n",
       "      <td>5</td>\n",
       "      <td>7</td>\n",
       "      <td>8</td>\n",
       "      <td>...</td>\n",
       "      <td>0.1300</td>\n",
       "      <td>1543251600</td>\n",
       "      <td>40.49</td>\n",
       "      <td>1543233600</td>\n",
       "      <td>47.30</td>\n",
       "      <td>1543251600</td>\n",
       "      <td>36.20</td>\n",
       "      <td>1543291200</td>\n",
       "      <td>43.92</td>\n",
       "      <td>1543251600</td>\n",
       "    </tr>\n",
       "    <tr>\n",
       "      <th>5</th>\n",
       "      <td>467281</td>\n",
       "      <td>1.545071e+09</td>\n",
       "      <td>18</td>\n",
       "      <td>17</td>\n",
       "      <td>12</td>\n",
       "      <td>28795</td>\n",
       "      <td>0</td>\n",
       "      <td>5</td>\n",
       "      <td>7</td>\n",
       "      <td>7</td>\n",
       "      <td>...</td>\n",
       "      <td>0.0221</td>\n",
       "      <td>1545066000</td>\n",
       "      <td>34.19</td>\n",
       "      <td>1545048000</td>\n",
       "      <td>40.66</td>\n",
       "      <td>1545022800</td>\n",
       "      <td>27.39</td>\n",
       "      <td>1545044400</td>\n",
       "      <td>34.97</td>\n",
       "      <td>1545080400</td>\n",
       "    </tr>\n",
       "    <tr>\n",
       "      <th>7</th>\n",
       "      <td>134861</td>\n",
       "      <td>1.543780e+09</td>\n",
       "      <td>19</td>\n",
       "      <td>2</td>\n",
       "      <td>12</td>\n",
       "      <td>13449</td>\n",
       "      <td>0</td>\n",
       "      <td>0</td>\n",
       "      <td>8</td>\n",
       "      <td>7</td>\n",
       "      <td>...</td>\n",
       "      <td>0.0916</td>\n",
       "      <td>1543770000</td>\n",
       "      <td>36.32</td>\n",
       "      <td>1543726800</td>\n",
       "      <td>50.80</td>\n",
       "      <td>1543788000</td>\n",
       "      <td>35.84</td>\n",
       "      <td>1543748400</td>\n",
       "      <td>50.13</td>\n",
       "      <td>1543788000</td>\n",
       "    </tr>\n",
       "    <tr>\n",
       "      <th>8</th>\n",
       "      <td>150668</td>\n",
       "      <td>1.543818e+09</td>\n",
       "      <td>6</td>\n",
       "      <td>3</td>\n",
       "      <td>12</td>\n",
       "      <td>14512</td>\n",
       "      <td>0</td>\n",
       "      <td>0</td>\n",
       "      <td>8</td>\n",
       "      <td>6</td>\n",
       "      <td>...</td>\n",
       "      <td>0.0004</td>\n",
       "      <td>1543852800</td>\n",
       "      <td>43.09</td>\n",
       "      <td>1543896000</td>\n",
       "      <td>57.02</td>\n",
       "      <td>1543852800</td>\n",
       "      <td>39.90</td>\n",
       "      <td>1543896000</td>\n",
       "      <td>56.35</td>\n",
       "      <td>1543852800</td>\n",
       "    </tr>\n",
       "  </tbody>\n",
       "</table>\n",
       "<p>5 rows × 56 columns</p>\n",
       "</div>"
      ],
      "text/plain": [
       "       id     timestamp  hour  day  month  datetime  timezone  source  \\\n",
       "0  125325  1.544953e+09     9   16     12     25348         0       5   \n",
       "1  143414  1.543284e+09     2   27     11       961         0       5   \n",
       "5  467281  1.545071e+09    18   17     12     28795         0       5   \n",
       "7  134861  1.543780e+09    19    2     12     13449         0       0   \n",
       "8  150668  1.543818e+09     6    3     12     14512         0       0   \n",
       "\n",
       "   destination  product_id  ...  precipIntensityMax  uvIndexTime  \\\n",
       "0            7           6  ...              0.1276   1544979600   \n",
       "1            7           8  ...              0.1300   1543251600   \n",
       "5            7           7  ...              0.0221   1545066000   \n",
       "7            8           7  ...              0.0916   1543770000   \n",
       "8            8           6  ...              0.0004   1543852800   \n",
       "\n",
       "   temperatureMin  temperatureMinTime  temperatureMax  temperatureMaxTime  \\\n",
       "0           39.89          1545012000           43.68          1544968800   \n",
       "1           40.49          1543233600           47.30          1543251600   \n",
       "5           34.19          1545048000           40.66          1545022800   \n",
       "7           36.32          1543726800           50.80          1543788000   \n",
       "8           43.09          1543896000           57.02          1543852800   \n",
       "\n",
       "   apparentTemperatureMin  apparentTemperatureMinTime  apparentTemperatureMax  \\\n",
       "0                   33.73                  1545012000                   38.07   \n",
       "1                   36.20                  1543291200                   43.92   \n",
       "5                   27.39                  1545044400                   34.97   \n",
       "7                   35.84                  1543748400                   50.13   \n",
       "8                   39.90                  1543896000                   56.35   \n",
       "\n",
       "   apparentTemperatureMaxTime  \n",
       "0                  1544958000  \n",
       "1                  1543251600  \n",
       "5                  1545080400  \n",
       "7                  1543788000  \n",
       "8                  1543852800  \n",
       "\n",
       "[5 rows x 56 columns]"
      ]
     },
     "execution_count": 46,
     "metadata": {},
     "output_type": "execute_result"
    }
   ],
   "source": [
    "uber_dataset.head()"
   ]
  },
  {
   "cell_type": "code",
   "execution_count": 47,
   "metadata": {},
   "outputs": [
    {
     "data": {
      "text/plain": [
       "id                                 0\n",
       "timestamp                          0\n",
       "hour                               0\n",
       "day                                0\n",
       "month                              0\n",
       "datetime                           0\n",
       "timezone                           0\n",
       "source                             0\n",
       "destination                        0\n",
       "product_id                         0\n",
       "name                               0\n",
       "price                          55095\n",
       "distance                           0\n",
       "surge_multiplier                   0\n",
       "latitude                           0\n",
       "longitude                          0\n",
       "temperature                        0\n",
       "apparentTemperature                0\n",
       "short_summary                      0\n",
       "long_summary                       0\n",
       "precipIntensity                    0\n",
       "precipProbability                  0\n",
       "humidity                           0\n",
       "windSpeed                          0\n",
       "windGust                           0\n",
       "windGustTime                       0\n",
       "visibility                         0\n",
       "temperatureHigh                    0\n",
       "temperatureHighTime                0\n",
       "temperatureLow                     0\n",
       "temperatureLowTime                 0\n",
       "apparentTemperatureHigh            0\n",
       "apparentTemperatureHighTime        0\n",
       "apparentTemperatureLow             0\n",
       "apparentTemperatureLowTime         0\n",
       "icon                               0\n",
       "dewPoint                           0\n",
       "pressure                           0\n",
       "windBearing                        0\n",
       "cloudCover                         0\n",
       "uvIndex                            0\n",
       "visibility.1                       0\n",
       "ozone                              0\n",
       "sunriseTime                        0\n",
       "sunsetTime                         0\n",
       "moonPhase                          0\n",
       "precipIntensityMax                 0\n",
       "uvIndexTime                        0\n",
       "temperatureMin                     0\n",
       "temperatureMinTime                 0\n",
       "temperatureMax                     0\n",
       "temperatureMaxTime                 0\n",
       "apparentTemperatureMin             0\n",
       "apparentTemperatureMinTime         0\n",
       "apparentTemperatureMax             0\n",
       "apparentTemperatureMaxTime         0\n",
       "dtype: int64"
      ]
     },
     "execution_count": 47,
     "metadata": {},
     "output_type": "execute_result"
    }
   ],
   "source": [
    "#Filling NAN Values\n",
    "uber_dataset.isnull().sum()"
   ]
  },
  {
   "cell_type": "code",
   "execution_count": 48,
   "metadata": {},
   "outputs": [
    {
     "data": {
      "text/plain": [
       "15.5"
      ]
     },
     "execution_count": 48,
     "metadata": {},
     "output_type": "execute_result"
    }
   ],
   "source": [
    "uber_dataset['price'].median()"
   ]
  },
  {
   "cell_type": "code",
   "execution_count": 49,
   "metadata": {},
   "outputs": [],
   "source": [
    "uber_dataset[\"price\"].fillna(15.5, inplace = True) "
   ]
  },
  {
   "cell_type": "code",
   "execution_count": 50,
   "metadata": {},
   "outputs": [
    {
     "data": {
      "text/plain": [
       "id                             0\n",
       "timestamp                      0\n",
       "hour                           0\n",
       "day                            0\n",
       "month                          0\n",
       "datetime                       0\n",
       "timezone                       0\n",
       "source                         0\n",
       "destination                    0\n",
       "product_id                     0\n",
       "name                           0\n",
       "price                          0\n",
       "distance                       0\n",
       "surge_multiplier               0\n",
       "latitude                       0\n",
       "longitude                      0\n",
       "temperature                    0\n",
       "apparentTemperature            0\n",
       "short_summary                  0\n",
       "long_summary                   0\n",
       "precipIntensity                0\n",
       "precipProbability              0\n",
       "humidity                       0\n",
       "windSpeed                      0\n",
       "windGust                       0\n",
       "windGustTime                   0\n",
       "visibility                     0\n",
       "temperatureHigh                0\n",
       "temperatureHighTime            0\n",
       "temperatureLow                 0\n",
       "temperatureLowTime             0\n",
       "apparentTemperatureHigh        0\n",
       "apparentTemperatureHighTime    0\n",
       "apparentTemperatureLow         0\n",
       "apparentTemperatureLowTime     0\n",
       "icon                           0\n",
       "dewPoint                       0\n",
       "pressure                       0\n",
       "windBearing                    0\n",
       "cloudCover                     0\n",
       "uvIndex                        0\n",
       "visibility.1                   0\n",
       "ozone                          0\n",
       "sunriseTime                    0\n",
       "sunsetTime                     0\n",
       "moonPhase                      0\n",
       "precipIntensityMax             0\n",
       "uvIndexTime                    0\n",
       "temperatureMin                 0\n",
       "temperatureMinTime             0\n",
       "temperatureMax                 0\n",
       "temperatureMaxTime             0\n",
       "apparentTemperatureMin         0\n",
       "apparentTemperatureMinTime     0\n",
       "apparentTemperatureMax         0\n",
       "apparentTemperatureMaxTime     0\n",
       "dtype: int64"
      ]
     },
     "execution_count": 50,
     "metadata": {},
     "output_type": "execute_result"
    }
   ],
   "source": [
    "uber_dataset.isnull().sum()"
   ]
  },
  {
   "cell_type": "code",
   "execution_count": 51,
   "metadata": {},
   "outputs": [
    {
     "data": {
      "text/plain": [
       "dtype('float64')"
      ]
     },
     "execution_count": 51,
     "metadata": {},
     "output_type": "execute_result"
    }
   ],
   "source": [
    "uber_dataset['price'].dtype"
   ]
  },
  {
   "cell_type": "code",
   "execution_count": 52,
   "metadata": {},
   "outputs": [],
   "source": [
    "uber_dataset['price'] = uber_dataset['price'].astype(int)"
   ]
  },
  {
   "cell_type": "code",
   "execution_count": 53,
   "metadata": {},
   "outputs": [
    {
     "data": {
      "text/plain": [
       "0     5\n",
       "1    11\n",
       "5    16\n",
       "7    16\n",
       "8     3\n",
       "Name: price, dtype: int32"
      ]
     },
     "execution_count": 53,
     "metadata": {},
     "output_type": "execute_result"
    }
   ],
   "source": [
    "uber_dataset['price'].head()"
   ]
  },
  {
   "cell_type": "code",
   "execution_count": 54,
   "metadata": {},
   "outputs": [],
   "source": [
    "#RFE (Recursive Feature Elimination)\n",
    "import numpy as np\n",
    "from sklearn.feature_selection import SelectKBest\n",
    "from sklearn.feature_selection import chi2"
   ]
  },
  {
   "cell_type": "code",
   "execution_count": 55,
   "metadata": {},
   "outputs": [],
   "source": [
    "from sklearn.model_selection import train_test_split\n",
    "from sklearn.metrics import accuracy_score"
   ]
  },
  {
   "cell_type": "code",
   "execution_count": 56,
   "metadata": {},
   "outputs": [],
   "source": [
    "from sklearn.linear_model import LinearRegression\n",
    "from sklearn.linear_model import LogisticRegression\n",
    "from sklearn.tree import DecisionTreeRegressor\n",
    "from sklearn.ensemble import RandomForestRegressor"
   ]
  },
  {
   "cell_type": "code",
   "execution_count": 57,
   "metadata": {},
   "outputs": [],
   "source": [
    "from sklearn.feature_selection import RFE"
   ]
  },
  {
   "cell_type": "code",
   "execution_count": 58,
   "metadata": {},
   "outputs": [],
   "source": [
    "X = uber_dataset.drop('price', axis = 1)\n",
    "y = uber_dataset['price']"
   ]
  },
  {
   "cell_type": "code",
   "execution_count": 59,
   "metadata": {},
   "outputs": [
    {
     "data": {
      "text/html": [
       "<div>\n",
       "<style scoped>\n",
       "    .dataframe tbody tr th:only-of-type {\n",
       "        vertical-align: middle;\n",
       "    }\n",
       "\n",
       "    .dataframe tbody tr th {\n",
       "        vertical-align: top;\n",
       "    }\n",
       "\n",
       "    .dataframe thead th {\n",
       "        text-align: right;\n",
       "    }\n",
       "</style>\n",
       "<table border=\"1\" class=\"dataframe\">\n",
       "  <thead>\n",
       "    <tr style=\"text-align: right;\">\n",
       "      <th></th>\n",
       "      <th>id</th>\n",
       "      <th>timestamp</th>\n",
       "      <th>hour</th>\n",
       "      <th>day</th>\n",
       "      <th>month</th>\n",
       "      <th>datetime</th>\n",
       "      <th>timezone</th>\n",
       "      <th>source</th>\n",
       "      <th>destination</th>\n",
       "      <th>product_id</th>\n",
       "      <th>...</th>\n",
       "      <th>precipIntensityMax</th>\n",
       "      <th>uvIndexTime</th>\n",
       "      <th>temperatureMin</th>\n",
       "      <th>temperatureMinTime</th>\n",
       "      <th>temperatureMax</th>\n",
       "      <th>temperatureMaxTime</th>\n",
       "      <th>apparentTemperatureMin</th>\n",
       "      <th>apparentTemperatureMinTime</th>\n",
       "      <th>apparentTemperatureMax</th>\n",
       "      <th>apparentTemperatureMaxTime</th>\n",
       "    </tr>\n",
       "  </thead>\n",
       "  <tbody>\n",
       "    <tr>\n",
       "      <th>0</th>\n",
       "      <td>125325</td>\n",
       "      <td>1.544953e+09</td>\n",
       "      <td>9</td>\n",
       "      <td>16</td>\n",
       "      <td>12</td>\n",
       "      <td>25348</td>\n",
       "      <td>0</td>\n",
       "      <td>5</td>\n",
       "      <td>7</td>\n",
       "      <td>6</td>\n",
       "      <td>...</td>\n",
       "      <td>0.1276</td>\n",
       "      <td>1544979600</td>\n",
       "      <td>39.89</td>\n",
       "      <td>1545012000</td>\n",
       "      <td>43.68</td>\n",
       "      <td>1544968800</td>\n",
       "      <td>33.73</td>\n",
       "      <td>1545012000</td>\n",
       "      <td>38.07</td>\n",
       "      <td>1544958000</td>\n",
       "    </tr>\n",
       "    <tr>\n",
       "      <th>1</th>\n",
       "      <td>143414</td>\n",
       "      <td>1.543284e+09</td>\n",
       "      <td>2</td>\n",
       "      <td>27</td>\n",
       "      <td>11</td>\n",
       "      <td>961</td>\n",
       "      <td>0</td>\n",
       "      <td>5</td>\n",
       "      <td>7</td>\n",
       "      <td>8</td>\n",
       "      <td>...</td>\n",
       "      <td>0.1300</td>\n",
       "      <td>1543251600</td>\n",
       "      <td>40.49</td>\n",
       "      <td>1543233600</td>\n",
       "      <td>47.30</td>\n",
       "      <td>1543251600</td>\n",
       "      <td>36.20</td>\n",
       "      <td>1543291200</td>\n",
       "      <td>43.92</td>\n",
       "      <td>1543251600</td>\n",
       "    </tr>\n",
       "    <tr>\n",
       "      <th>5</th>\n",
       "      <td>467281</td>\n",
       "      <td>1.545071e+09</td>\n",
       "      <td>18</td>\n",
       "      <td>17</td>\n",
       "      <td>12</td>\n",
       "      <td>28795</td>\n",
       "      <td>0</td>\n",
       "      <td>5</td>\n",
       "      <td>7</td>\n",
       "      <td>7</td>\n",
       "      <td>...</td>\n",
       "      <td>0.0221</td>\n",
       "      <td>1545066000</td>\n",
       "      <td>34.19</td>\n",
       "      <td>1545048000</td>\n",
       "      <td>40.66</td>\n",
       "      <td>1545022800</td>\n",
       "      <td>27.39</td>\n",
       "      <td>1545044400</td>\n",
       "      <td>34.97</td>\n",
       "      <td>1545080400</td>\n",
       "    </tr>\n",
       "    <tr>\n",
       "      <th>7</th>\n",
       "      <td>134861</td>\n",
       "      <td>1.543780e+09</td>\n",
       "      <td>19</td>\n",
       "      <td>2</td>\n",
       "      <td>12</td>\n",
       "      <td>13449</td>\n",
       "      <td>0</td>\n",
       "      <td>0</td>\n",
       "      <td>8</td>\n",
       "      <td>7</td>\n",
       "      <td>...</td>\n",
       "      <td>0.0916</td>\n",
       "      <td>1543770000</td>\n",
       "      <td>36.32</td>\n",
       "      <td>1543726800</td>\n",
       "      <td>50.80</td>\n",
       "      <td>1543788000</td>\n",
       "      <td>35.84</td>\n",
       "      <td>1543748400</td>\n",
       "      <td>50.13</td>\n",
       "      <td>1543788000</td>\n",
       "    </tr>\n",
       "    <tr>\n",
       "      <th>8</th>\n",
       "      <td>150668</td>\n",
       "      <td>1.543818e+09</td>\n",
       "      <td>6</td>\n",
       "      <td>3</td>\n",
       "      <td>12</td>\n",
       "      <td>14512</td>\n",
       "      <td>0</td>\n",
       "      <td>0</td>\n",
       "      <td>8</td>\n",
       "      <td>6</td>\n",
       "      <td>...</td>\n",
       "      <td>0.0004</td>\n",
       "      <td>1543852800</td>\n",
       "      <td>43.09</td>\n",
       "      <td>1543896000</td>\n",
       "      <td>57.02</td>\n",
       "      <td>1543852800</td>\n",
       "      <td>39.90</td>\n",
       "      <td>1543896000</td>\n",
       "      <td>56.35</td>\n",
       "      <td>1543852800</td>\n",
       "    </tr>\n",
       "  </tbody>\n",
       "</table>\n",
       "<p>5 rows × 55 columns</p>\n",
       "</div>"
      ],
      "text/plain": [
       "       id     timestamp  hour  day  month  datetime  timezone  source  \\\n",
       "0  125325  1.544953e+09     9   16     12     25348         0       5   \n",
       "1  143414  1.543284e+09     2   27     11       961         0       5   \n",
       "5  467281  1.545071e+09    18   17     12     28795         0       5   \n",
       "7  134861  1.543780e+09    19    2     12     13449         0       0   \n",
       "8  150668  1.543818e+09     6    3     12     14512         0       0   \n",
       "\n",
       "   destination  product_id  ...  precipIntensityMax  uvIndexTime  \\\n",
       "0            7           6  ...              0.1276   1544979600   \n",
       "1            7           8  ...              0.1300   1543251600   \n",
       "5            7           7  ...              0.0221   1545066000   \n",
       "7            8           7  ...              0.0916   1543770000   \n",
       "8            8           6  ...              0.0004   1543852800   \n",
       "\n",
       "   temperatureMin  temperatureMinTime  temperatureMax  temperatureMaxTime  \\\n",
       "0           39.89          1545012000           43.68          1544968800   \n",
       "1           40.49          1543233600           47.30          1543251600   \n",
       "5           34.19          1545048000           40.66          1545022800   \n",
       "7           36.32          1543726800           50.80          1543788000   \n",
       "8           43.09          1543896000           57.02          1543852800   \n",
       "\n",
       "   apparentTemperatureMin  apparentTemperatureMinTime  apparentTemperatureMax  \\\n",
       "0                   33.73                  1545012000                   38.07   \n",
       "1                   36.20                  1543291200                   43.92   \n",
       "5                   27.39                  1545044400                   34.97   \n",
       "7                   35.84                  1543748400                   50.13   \n",
       "8                   39.90                  1543896000                   56.35   \n",
       "\n",
       "   apparentTemperatureMaxTime  \n",
       "0                  1544958000  \n",
       "1                  1543251600  \n",
       "5                  1545080400  \n",
       "7                  1543788000  \n",
       "8                  1543852800  \n",
       "\n",
       "[5 rows x 55 columns]"
      ]
     },
     "execution_count": 59,
     "metadata": {},
     "output_type": "execute_result"
    }
   ],
   "source": [
    "X.head()"
   ]
  },
  {
   "cell_type": "code",
   "execution_count": 60,
   "metadata": {},
   "outputs": [
    {
     "data": {
      "text/plain": [
       "0     5\n",
       "1    11\n",
       "5    16\n",
       "7    16\n",
       "8     3\n",
       "Name: price, dtype: int32"
      ]
     },
     "execution_count": 60,
     "metadata": {},
     "output_type": "execute_result"
    }
   ],
   "source": [
    "y.head()"
   ]
  },
  {
   "cell_type": "code",
   "execution_count": 61,
   "metadata": {},
   "outputs": [
    {
     "data": {
      "text/plain": [
       "(484270, 55)"
      ]
     },
     "execution_count": 61,
     "metadata": {},
     "output_type": "execute_result"
    }
   ],
   "source": [
    "X.shape"
   ]
  },
  {
   "cell_type": "code",
   "execution_count": 62,
   "metadata": {},
   "outputs": [
    {
     "data": {
      "text/plain": [
       "(484270,)"
      ]
     },
     "execution_count": 62,
     "metadata": {},
     "output_type": "execute_result"
    }
   ],
   "source": [
    "y.shape"
   ]
  },
  {
   "cell_type": "code",
   "execution_count": 64,
   "metadata": {},
   "outputs": [
    {
     "data": {
      "text/plain": [
       "<AxesSubplot:>"
      ]
     },
     "execution_count": 64,
     "metadata": {},
     "output_type": "execute_result"
    },
    {
     "data": {
      "image/png": "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\n",
      "text/plain": [
       "<Figure size 2160x576 with 1 Axes>"
      ]
     },
     "metadata": {
      "needs_background": "light"
     },
     "output_type": "display_data"
    }
   ],
   "source": [
    "y.value_counts().plot(kind='bar',figsize=(30,8),color='green')"
   ]
  },
  {
   "cell_type": "code",
   "execution_count": 65,
   "metadata": {},
   "outputs": [],
   "source": [
    "#Training accuracy in 56 features\n",
    "X_train, X_test, y_train, y_test = train_test_split(X, y, test_size = 0.2, random_state = 42)"
   ]
  },
  {
   "cell_type": "code",
   "execution_count": 66,
   "metadata": {},
   "outputs": [
    {
     "data": {
      "text/plain": [
       "(387416, 55)"
      ]
     },
     "execution_count": 66,
     "metadata": {},
     "output_type": "execute_result"
    }
   ],
   "source": [
    "X_train.shape"
   ]
  },
  {
   "cell_type": "code",
   "execution_count": 67,
   "metadata": {},
   "outputs": [
    {
     "data": {
      "text/plain": [
       "(96854, 55)"
      ]
     },
     "execution_count": 67,
     "metadata": {},
     "output_type": "execute_result"
    }
   ],
   "source": [
    "X_test.shape"
   ]
  },
  {
   "cell_type": "code",
   "execution_count": 68,
   "metadata": {},
   "outputs": [
    {
     "data": {
      "text/plain": [
       "(387416,)"
      ]
     },
     "execution_count": 68,
     "metadata": {},
     "output_type": "execute_result"
    }
   ],
   "source": [
    "y_train.shape"
   ]
  },
  {
   "cell_type": "code",
   "execution_count": 69,
   "metadata": {},
   "outputs": [
    {
     "data": {
      "text/plain": [
       "(96854,)"
      ]
     },
     "execution_count": 69,
     "metadata": {},
     "output_type": "execute_result"
    }
   ],
   "source": [
    "y_test.shape"
   ]
  },
  {
   "cell_type": "code",
   "execution_count": 70,
   "metadata": {},
   "outputs": [],
   "source": [
    "#Creating model\n",
    "reg = LinearRegression()\n",
    "#Fitting training data\n",
    "reg = reg.fit(X_train, y_train)"
   ]
  },
  {
   "cell_type": "code",
   "execution_count": 71,
   "metadata": {},
   "outputs": [
    {
     "data": {
      "text/plain": [
       "0.5000291000368842"
      ]
     },
     "execution_count": 71,
     "metadata": {},
     "output_type": "execute_result"
    }
   ],
   "source": [
    "reg.score(X_train, y_train)"
   ]
  },
  {
   "cell_type": "code",
   "execution_count": 72,
   "metadata": {},
   "outputs": [
    {
     "name": "stderr",
     "output_type": "stream",
     "text": [
      "C:\\ProgramData\\Anaconda3\\lib\\site-packages\\sklearn\\utils\\validation.py:67: FutureWarning: Pass n_features_to_select=40 as keyword args. From version 0.25 passing these as positional arguments will result in an error\n",
      "  warnings.warn(\"Pass {} as keyword args. From version 0.25 \"\n"
     ]
    },
    {
     "name": "stdout",
     "output_type": "stream",
     "text": [
      "Fitting estimator with 55 features.\n",
      "Fitting estimator with 54 features.\n",
      "Fitting estimator with 53 features.\n",
      "Fitting estimator with 52 features.\n",
      "Fitting estimator with 51 features.\n",
      "Fitting estimator with 50 features.\n",
      "Fitting estimator with 49 features.\n",
      "Fitting estimator with 48 features.\n",
      "Fitting estimator with 47 features.\n",
      "Fitting estimator with 46 features.\n",
      "Fitting estimator with 45 features.\n",
      "Fitting estimator with 44 features.\n",
      "Fitting estimator with 43 features.\n",
      "Fitting estimator with 42 features.\n",
      "Fitting estimator with 41 features.\n"
     ]
    }
   ],
   "source": [
    "#Training accuracy in 40 features\n",
    "rfe = RFE(reg, 40, verbose=1)\n",
    "rfe = rfe.fit(X, y)"
   ]
  },
  {
   "cell_type": "code",
   "execution_count": 73,
   "metadata": {},
   "outputs": [
    {
     "data": {
      "text/plain": [
       "array([False, False,  True,  True,  True, False, False,  True,  True,\n",
       "        True,  True,  True,  True,  True,  True,  True,  True,  True,\n",
       "        True,  True,  True,  True,  True,  True, False,  True,  True,\n",
       "       False,  True, False,  True, False,  True, False,  True,  True,\n",
       "        True, False,  True,  True,  True,  True,  True,  True,  True,\n",
       "        True, False,  True, False,  True, False,  True, False,  True,\n",
       "       False])"
      ]
     },
     "execution_count": 73,
     "metadata": {},
     "output_type": "execute_result"
    }
   ],
   "source": [
    "rfe.support_"
   ]
  },
  {
   "cell_type": "code",
   "execution_count": 74,
   "metadata": {},
   "outputs": [],
   "source": [
    "XX = X[X.columns[rfe.support_]]"
   ]
  },
  {
   "cell_type": "code",
   "execution_count": 75,
   "metadata": {},
   "outputs": [
    {
     "data": {
      "text/html": [
       "<div>\n",
       "<style scoped>\n",
       "    .dataframe tbody tr th:only-of-type {\n",
       "        vertical-align: middle;\n",
       "    }\n",
       "\n",
       "    .dataframe tbody tr th {\n",
       "        vertical-align: top;\n",
       "    }\n",
       "\n",
       "    .dataframe thead th {\n",
       "        text-align: right;\n",
       "    }\n",
       "</style>\n",
       "<table border=\"1\" class=\"dataframe\">\n",
       "  <thead>\n",
       "    <tr style=\"text-align: right;\">\n",
       "      <th></th>\n",
       "      <th>hour</th>\n",
       "      <th>day</th>\n",
       "      <th>month</th>\n",
       "      <th>source</th>\n",
       "      <th>destination</th>\n",
       "      <th>product_id</th>\n",
       "      <th>name</th>\n",
       "      <th>distance</th>\n",
       "      <th>surge_multiplier</th>\n",
       "      <th>latitude</th>\n",
       "      <th>...</th>\n",
       "      <th>visibility.1</th>\n",
       "      <th>ozone</th>\n",
       "      <th>sunriseTime</th>\n",
       "      <th>sunsetTime</th>\n",
       "      <th>moonPhase</th>\n",
       "      <th>precipIntensityMax</th>\n",
       "      <th>temperatureMin</th>\n",
       "      <th>temperatureMax</th>\n",
       "      <th>apparentTemperatureMin</th>\n",
       "      <th>apparentTemperatureMax</th>\n",
       "    </tr>\n",
       "  </thead>\n",
       "  <tbody>\n",
       "    <tr>\n",
       "      <th>0</th>\n",
       "      <td>9</td>\n",
       "      <td>16</td>\n",
       "      <td>12</td>\n",
       "      <td>5</td>\n",
       "      <td>7</td>\n",
       "      <td>6</td>\n",
       "      <td>4</td>\n",
       "      <td>0.44</td>\n",
       "      <td>1.0</td>\n",
       "      <td>42.2148</td>\n",
       "      <td>...</td>\n",
       "      <td>10.000</td>\n",
       "      <td>303.8</td>\n",
       "      <td>1544962084</td>\n",
       "      <td>1544994864</td>\n",
       "      <td>0.30</td>\n",
       "      <td>0.1276</td>\n",
       "      <td>39.89</td>\n",
       "      <td>43.68</td>\n",
       "      <td>33.73</td>\n",
       "      <td>38.07</td>\n",
       "    </tr>\n",
       "    <tr>\n",
       "      <th>1</th>\n",
       "      <td>2</td>\n",
       "      <td>27</td>\n",
       "      <td>11</td>\n",
       "      <td>5</td>\n",
       "      <td>7</td>\n",
       "      <td>8</td>\n",
       "      <td>2</td>\n",
       "      <td>0.44</td>\n",
       "      <td>1.0</td>\n",
       "      <td>42.2148</td>\n",
       "      <td>...</td>\n",
       "      <td>4.786</td>\n",
       "      <td>291.1</td>\n",
       "      <td>1543232969</td>\n",
       "      <td>1543266992</td>\n",
       "      <td>0.64</td>\n",
       "      <td>0.1300</td>\n",
       "      <td>40.49</td>\n",
       "      <td>47.30</td>\n",
       "      <td>36.20</td>\n",
       "      <td>43.92</td>\n",
       "    </tr>\n",
       "    <tr>\n",
       "      <th>5</th>\n",
       "      <td>18</td>\n",
       "      <td>17</td>\n",
       "      <td>12</td>\n",
       "      <td>5</td>\n",
       "      <td>7</td>\n",
       "      <td>7</td>\n",
       "      <td>3</td>\n",
       "      <td>0.44</td>\n",
       "      <td>1.0</td>\n",
       "      <td>42.2148</td>\n",
       "      <td>...</td>\n",
       "      <td>8.325</td>\n",
       "      <td>335.8</td>\n",
       "      <td>1545048523</td>\n",
       "      <td>1545081282</td>\n",
       "      <td>0.33</td>\n",
       "      <td>0.0221</td>\n",
       "      <td>34.19</td>\n",
       "      <td>40.66</td>\n",
       "      <td>27.39</td>\n",
       "      <td>34.97</td>\n",
       "    </tr>\n",
       "    <tr>\n",
       "      <th>7</th>\n",
       "      <td>19</td>\n",
       "      <td>2</td>\n",
       "      <td>12</td>\n",
       "      <td>0</td>\n",
       "      <td>8</td>\n",
       "      <td>7</td>\n",
       "      <td>3</td>\n",
       "      <td>1.08</td>\n",
       "      <td>1.0</td>\n",
       "      <td>42.3503</td>\n",
       "      <td>...</td>\n",
       "      <td>3.052</td>\n",
       "      <td>282.5</td>\n",
       "      <td>1543751798</td>\n",
       "      <td>1543785242</td>\n",
       "      <td>0.86</td>\n",
       "      <td>0.0916</td>\n",
       "      <td>36.32</td>\n",
       "      <td>50.80</td>\n",
       "      <td>35.84</td>\n",
       "      <td>50.13</td>\n",
       "    </tr>\n",
       "    <tr>\n",
       "      <th>8</th>\n",
       "      <td>6</td>\n",
       "      <td>3</td>\n",
       "      <td>12</td>\n",
       "      <td>0</td>\n",
       "      <td>8</td>\n",
       "      <td>6</td>\n",
       "      <td>4</td>\n",
       "      <td>1.08</td>\n",
       "      <td>1.0</td>\n",
       "      <td>42.3503</td>\n",
       "      <td>...</td>\n",
       "      <td>1.413</td>\n",
       "      <td>290.9</td>\n",
       "      <td>1543838259</td>\n",
       "      <td>1543871628</td>\n",
       "      <td>0.89</td>\n",
       "      <td>0.0004</td>\n",
       "      <td>43.09</td>\n",
       "      <td>57.02</td>\n",
       "      <td>39.90</td>\n",
       "      <td>56.35</td>\n",
       "    </tr>\n",
       "  </tbody>\n",
       "</table>\n",
       "<p>5 rows × 40 columns</p>\n",
       "</div>"
      ],
      "text/plain": [
       "   hour  day  month  source  destination  product_id  name  distance  \\\n",
       "0     9   16     12       5            7           6     4      0.44   \n",
       "1     2   27     11       5            7           8     2      0.44   \n",
       "5    18   17     12       5            7           7     3      0.44   \n",
       "7    19    2     12       0            8           7     3      1.08   \n",
       "8     6    3     12       0            8           6     4      1.08   \n",
       "\n",
       "   surge_multiplier  latitude  ...  visibility.1  ozone  sunriseTime  \\\n",
       "0               1.0   42.2148  ...        10.000  303.8   1544962084   \n",
       "1               1.0   42.2148  ...         4.786  291.1   1543232969   \n",
       "5               1.0   42.2148  ...         8.325  335.8   1545048523   \n",
       "7               1.0   42.3503  ...         3.052  282.5   1543751798   \n",
       "8               1.0   42.3503  ...         1.413  290.9   1543838259   \n",
       "\n",
       "   sunsetTime  moonPhase  precipIntensityMax  temperatureMin  temperatureMax  \\\n",
       "0  1544994864       0.30              0.1276           39.89           43.68   \n",
       "1  1543266992       0.64              0.1300           40.49           47.30   \n",
       "5  1545081282       0.33              0.0221           34.19           40.66   \n",
       "7  1543785242       0.86              0.0916           36.32           50.80   \n",
       "8  1543871628       0.89              0.0004           43.09           57.02   \n",
       "\n",
       "   apparentTemperatureMin  apparentTemperatureMax  \n",
       "0                   33.73                   38.07  \n",
       "1                   36.20                   43.92  \n",
       "5                   27.39                   34.97  \n",
       "7                   35.84                   50.13  \n",
       "8                   39.90                   56.35  \n",
       "\n",
       "[5 rows x 40 columns]"
      ]
     },
     "execution_count": 75,
     "metadata": {},
     "output_type": "execute_result"
    }
   ],
   "source": [
    "XX.head()"
   ]
  },
  {
   "cell_type": "code",
   "execution_count": 76,
   "metadata": {},
   "outputs": [],
   "source": [
    "X_train, X_test, y_train, y_test = train_test_split(XX, y, test_size = 0.3, random_state = 10)"
   ]
  },
  {
   "cell_type": "code",
   "execution_count": 77,
   "metadata": {},
   "outputs": [
    {
     "data": {
      "text/plain": [
       "(338989, 40)"
      ]
     },
     "execution_count": 77,
     "metadata": {},
     "output_type": "execute_result"
    }
   ],
   "source": [
    "X_train.shape"
   ]
  },
  {
   "cell_type": "code",
   "execution_count": 78,
   "metadata": {},
   "outputs": [],
   "source": [
    "#Creating model\n",
    "reg1 = LinearRegression()\n",
    "#Fitting training data\n",
    "reg1 = reg1.fit(X_train, y_train)"
   ]
  },
  {
   "cell_type": "code",
   "execution_count": 79,
   "metadata": {},
   "outputs": [
    {
     "data": {
      "text/plain": [
       "0.4991573232762512"
      ]
     },
     "execution_count": 79,
     "metadata": {},
     "output_type": "execute_result"
    }
   ],
   "source": [
    "reg1.score(X_train, y_train)"
   ]
  },
  {
   "cell_type": "code",
   "execution_count": 80,
   "metadata": {},
   "outputs": [
    {
     "name": "stderr",
     "output_type": "stream",
     "text": [
      "C:\\ProgramData\\Anaconda3\\lib\\site-packages\\sklearn\\utils\\validation.py:67: FutureWarning: Pass n_features_to_select=15 as keyword args. From version 0.25 passing these as positional arguments will result in an error\n",
      "  warnings.warn(\"Pass {} as keyword args. From version 0.25 \"\n"
     ]
    },
    {
     "name": "stdout",
     "output_type": "stream",
     "text": [
      "Fitting estimator with 55 features.\n",
      "Fitting estimator with 54 features.\n",
      "Fitting estimator with 53 features.\n",
      "Fitting estimator with 52 features.\n",
      "Fitting estimator with 51 features.\n",
      "Fitting estimator with 50 features.\n",
      "Fitting estimator with 49 features.\n",
      "Fitting estimator with 48 features.\n",
      "Fitting estimator with 47 features.\n",
      "Fitting estimator with 46 features.\n",
      "Fitting estimator with 45 features.\n",
      "Fitting estimator with 44 features.\n",
      "Fitting estimator with 43 features.\n",
      "Fitting estimator with 42 features.\n",
      "Fitting estimator with 41 features.\n",
      "Fitting estimator with 40 features.\n",
      "Fitting estimator with 39 features.\n",
      "Fitting estimator with 38 features.\n",
      "Fitting estimator with 37 features.\n",
      "Fitting estimator with 36 features.\n",
      "Fitting estimator with 35 features.\n",
      "Fitting estimator with 34 features.\n",
      "Fitting estimator with 33 features.\n",
      "Fitting estimator with 32 features.\n",
      "Fitting estimator with 31 features.\n",
      "Fitting estimator with 30 features.\n",
      "Fitting estimator with 29 features.\n",
      "Fitting estimator with 28 features.\n",
      "Fitting estimator with 27 features.\n",
      "Fitting estimator with 26 features.\n",
      "Fitting estimator with 25 features.\n",
      "Fitting estimator with 24 features.\n",
      "Fitting estimator with 23 features.\n",
      "Fitting estimator with 22 features.\n",
      "Fitting estimator with 21 features.\n",
      "Fitting estimator with 20 features.\n",
      "Fitting estimator with 19 features.\n",
      "Fitting estimator with 18 features.\n",
      "Fitting estimator with 17 features.\n",
      "Fitting estimator with 16 features.\n"
     ]
    }
   ],
   "source": [
    "#Training accuracy in 15 features\n",
    "rfe = RFE(reg, 15, verbose=1)\n",
    "rfe = rfe.fit(X, y)"
   ]
  },
  {
   "cell_type": "code",
   "execution_count": 81,
   "metadata": {},
   "outputs": [],
   "source": [
    "XX = X[X.columns[rfe.support_]]"
   ]
  },
  {
   "cell_type": "code",
   "execution_count": 82,
   "metadata": {},
   "outputs": [
    {
     "data": {
      "text/html": [
       "<div>\n",
       "<style scoped>\n",
       "    .dataframe tbody tr th:only-of-type {\n",
       "        vertical-align: middle;\n",
       "    }\n",
       "\n",
       "    .dataframe tbody tr th {\n",
       "        vertical-align: top;\n",
       "    }\n",
       "\n",
       "    .dataframe thead th {\n",
       "        text-align: right;\n",
       "    }\n",
       "</style>\n",
       "<table border=\"1\" class=\"dataframe\">\n",
       "  <thead>\n",
       "    <tr style=\"text-align: right;\">\n",
       "      <th></th>\n",
       "      <th>source</th>\n",
       "      <th>product_id</th>\n",
       "      <th>name</th>\n",
       "      <th>distance</th>\n",
       "      <th>surge_multiplier</th>\n",
       "      <th>latitude</th>\n",
       "      <th>longitude</th>\n",
       "      <th>precipIntensity</th>\n",
       "      <th>humidity</th>\n",
       "      <th>temperatureHigh</th>\n",
       "      <th>apparentTemperatureHigh</th>\n",
       "      <th>moonPhase</th>\n",
       "      <th>precipIntensityMax</th>\n",
       "      <th>temperatureMax</th>\n",
       "      <th>apparentTemperatureMax</th>\n",
       "    </tr>\n",
       "  </thead>\n",
       "  <tbody>\n",
       "    <tr>\n",
       "      <th>0</th>\n",
       "      <td>5</td>\n",
       "      <td>6</td>\n",
       "      <td>4</td>\n",
       "      <td>0.44</td>\n",
       "      <td>1.0</td>\n",
       "      <td>42.2148</td>\n",
       "      <td>-71.033</td>\n",
       "      <td>0.0000</td>\n",
       "      <td>0.68</td>\n",
       "      <td>43.68</td>\n",
       "      <td>37.95</td>\n",
       "      <td>0.30</td>\n",
       "      <td>0.1276</td>\n",
       "      <td>43.68</td>\n",
       "      <td>38.07</td>\n",
       "    </tr>\n",
       "    <tr>\n",
       "      <th>1</th>\n",
       "      <td>5</td>\n",
       "      <td>8</td>\n",
       "      <td>2</td>\n",
       "      <td>0.44</td>\n",
       "      <td>1.0</td>\n",
       "      <td>42.2148</td>\n",
       "      <td>-71.033</td>\n",
       "      <td>0.1299</td>\n",
       "      <td>0.94</td>\n",
       "      <td>47.30</td>\n",
       "      <td>43.92</td>\n",
       "      <td>0.64</td>\n",
       "      <td>0.1300</td>\n",
       "      <td>47.30</td>\n",
       "      <td>43.92</td>\n",
       "    </tr>\n",
       "    <tr>\n",
       "      <th>5</th>\n",
       "      <td>5</td>\n",
       "      <td>7</td>\n",
       "      <td>3</td>\n",
       "      <td>0.44</td>\n",
       "      <td>1.0</td>\n",
       "      <td>42.2148</td>\n",
       "      <td>-71.033</td>\n",
       "      <td>0.0000</td>\n",
       "      <td>0.84</td>\n",
       "      <td>40.61</td>\n",
       "      <td>34.97</td>\n",
       "      <td>0.33</td>\n",
       "      <td>0.0221</td>\n",
       "      <td>40.66</td>\n",
       "      <td>34.97</td>\n",
       "    </tr>\n",
       "    <tr>\n",
       "      <th>7</th>\n",
       "      <td>0</td>\n",
       "      <td>7</td>\n",
       "      <td>3</td>\n",
       "      <td>1.08</td>\n",
       "      <td>1.0</td>\n",
       "      <td>42.3503</td>\n",
       "      <td>-71.081</td>\n",
       "      <td>0.0246</td>\n",
       "      <td>0.93</td>\n",
       "      <td>50.80</td>\n",
       "      <td>50.13</td>\n",
       "      <td>0.86</td>\n",
       "      <td>0.0916</td>\n",
       "      <td>50.80</td>\n",
       "      <td>50.13</td>\n",
       "    </tr>\n",
       "    <tr>\n",
       "      <th>8</th>\n",
       "      <td>0</td>\n",
       "      <td>6</td>\n",
       "      <td>4</td>\n",
       "      <td>1.08</td>\n",
       "      <td>1.0</td>\n",
       "      <td>42.3503</td>\n",
       "      <td>-71.081</td>\n",
       "      <td>0.0000</td>\n",
       "      <td>0.96</td>\n",
       "      <td>57.02</td>\n",
       "      <td>56.35</td>\n",
       "      <td>0.89</td>\n",
       "      <td>0.0004</td>\n",
       "      <td>57.02</td>\n",
       "      <td>56.35</td>\n",
       "    </tr>\n",
       "  </tbody>\n",
       "</table>\n",
       "</div>"
      ],
      "text/plain": [
       "   source  product_id  name  distance  surge_multiplier  latitude  longitude  \\\n",
       "0       5           6     4      0.44               1.0   42.2148    -71.033   \n",
       "1       5           8     2      0.44               1.0   42.2148    -71.033   \n",
       "5       5           7     3      0.44               1.0   42.2148    -71.033   \n",
       "7       0           7     3      1.08               1.0   42.3503    -71.081   \n",
       "8       0           6     4      1.08               1.0   42.3503    -71.081   \n",
       "\n",
       "   precipIntensity  humidity  temperatureHigh  apparentTemperatureHigh  \\\n",
       "0           0.0000      0.68            43.68                    37.95   \n",
       "1           0.1299      0.94            47.30                    43.92   \n",
       "5           0.0000      0.84            40.61                    34.97   \n",
       "7           0.0246      0.93            50.80                    50.13   \n",
       "8           0.0000      0.96            57.02                    56.35   \n",
       "\n",
       "   moonPhase  precipIntensityMax  temperatureMax  apparentTemperatureMax  \n",
       "0       0.30              0.1276           43.68                   38.07  \n",
       "1       0.64              0.1300           47.30                   43.92  \n",
       "5       0.33              0.0221           40.66                   34.97  \n",
       "7       0.86              0.0916           50.80                   50.13  \n",
       "8       0.89              0.0004           57.02                   56.35  "
      ]
     },
     "execution_count": 82,
     "metadata": {},
     "output_type": "execute_result"
    }
   ],
   "source": [
    "XX.head()"
   ]
  },
  {
   "cell_type": "code",
   "execution_count": 83,
   "metadata": {},
   "outputs": [],
   "source": [
    "X_train, X_test, y_train, y_test = train_test_split(XX, y, test_size = 0.3, random_state = 10,)"
   ]
  },
  {
   "cell_type": "code",
   "execution_count": 84,
   "metadata": {},
   "outputs": [
    {
     "data": {
      "text/plain": [
       "(338989, 15)"
      ]
     },
     "execution_count": 84,
     "metadata": {},
     "output_type": "execute_result"
    }
   ],
   "source": [
    "X_train.shape"
   ]
  },
  {
   "cell_type": "code",
   "execution_count": 85,
   "metadata": {},
   "outputs": [],
   "source": [
    "#Creating model\n",
    "reg1 = LinearRegression()\n",
    "#Fitting training data\n",
    "reg1 = reg1.fit(X_train, y_train)"
   ]
  },
  {
   "cell_type": "code",
   "execution_count": 86,
   "metadata": {},
   "outputs": [
    {
     "data": {
      "text/plain": [
       "0.49910986183109274"
      ]
     },
     "execution_count": 86,
     "metadata": {},
     "output_type": "execute_result"
    }
   ],
   "source": [
    "reg1.score(X_train, y_train)"
   ]
  },
  {
   "cell_type": "code",
   "execution_count": 87,
   "metadata": {},
   "outputs": [
    {
     "name": "stderr",
     "output_type": "stream",
     "text": [
      "C:\\ProgramData\\Anaconda3\\lib\\site-packages\\sklearn\\utils\\validation.py:67: FutureWarning: Pass n_features_to_select=25 as keyword args. From version 0.25 passing these as positional arguments will result in an error\n",
      "  warnings.warn(\"Pass {} as keyword args. From version 0.25 \"\n"
     ]
    },
    {
     "name": "stdout",
     "output_type": "stream",
     "text": [
      "Fitting estimator with 55 features.\n",
      "Fitting estimator with 54 features.\n",
      "Fitting estimator with 53 features.\n",
      "Fitting estimator with 52 features.\n",
      "Fitting estimator with 51 features.\n",
      "Fitting estimator with 50 features.\n",
      "Fitting estimator with 49 features.\n",
      "Fitting estimator with 48 features.\n",
      "Fitting estimator with 47 features.\n",
      "Fitting estimator with 46 features.\n",
      "Fitting estimator with 45 features.\n",
      "Fitting estimator with 44 features.\n",
      "Fitting estimator with 43 features.\n",
      "Fitting estimator with 42 features.\n",
      "Fitting estimator with 41 features.\n",
      "Fitting estimator with 40 features.\n",
      "Fitting estimator with 39 features.\n",
      "Fitting estimator with 38 features.\n",
      "Fitting estimator with 37 features.\n",
      "Fitting estimator with 36 features.\n",
      "Fitting estimator with 35 features.\n",
      "Fitting estimator with 34 features.\n",
      "Fitting estimator with 33 features.\n",
      "Fitting estimator with 32 features.\n",
      "Fitting estimator with 31 features.\n",
      "Fitting estimator with 30 features.\n",
      "Fitting estimator with 29 features.\n",
      "Fitting estimator with 28 features.\n",
      "Fitting estimator with 27 features.\n",
      "Fitting estimator with 26 features.\n"
     ]
    }
   ],
   "source": [
    "#Training accuracy in 25 features\n",
    "rfe = RFE(reg, 25, verbose=1)\n",
    "rfe = rfe.fit(X, y)"
   ]
  },
  {
   "cell_type": "code",
   "execution_count": 88,
   "metadata": {},
   "outputs": [],
   "source": [
    "XX = X[X.columns[rfe.support_]]"
   ]
  },
  {
   "cell_type": "code",
   "execution_count": 89,
   "metadata": {},
   "outputs": [
    {
     "data": {
      "text/html": [
       "<div>\n",
       "<style scoped>\n",
       "    .dataframe tbody tr th:only-of-type {\n",
       "        vertical-align: middle;\n",
       "    }\n",
       "\n",
       "    .dataframe tbody tr th {\n",
       "        vertical-align: top;\n",
       "    }\n",
       "\n",
       "    .dataframe thead th {\n",
       "        text-align: right;\n",
       "    }\n",
       "</style>\n",
       "<table border=\"1\" class=\"dataframe\">\n",
       "  <thead>\n",
       "    <tr style=\"text-align: right;\">\n",
       "      <th></th>\n",
       "      <th>day</th>\n",
       "      <th>month</th>\n",
       "      <th>source</th>\n",
       "      <th>destination</th>\n",
       "      <th>product_id</th>\n",
       "      <th>name</th>\n",
       "      <th>distance</th>\n",
       "      <th>surge_multiplier</th>\n",
       "      <th>latitude</th>\n",
       "      <th>longitude</th>\n",
       "      <th>...</th>\n",
       "      <th>temperatureHigh</th>\n",
       "      <th>apparentTemperatureHigh</th>\n",
       "      <th>icon</th>\n",
       "      <th>dewPoint</th>\n",
       "      <th>moonPhase</th>\n",
       "      <th>precipIntensityMax</th>\n",
       "      <th>temperatureMin</th>\n",
       "      <th>temperatureMax</th>\n",
       "      <th>apparentTemperatureMin</th>\n",
       "      <th>apparentTemperatureMax</th>\n",
       "    </tr>\n",
       "  </thead>\n",
       "  <tbody>\n",
       "    <tr>\n",
       "      <th>0</th>\n",
       "      <td>16</td>\n",
       "      <td>12</td>\n",
       "      <td>5</td>\n",
       "      <td>7</td>\n",
       "      <td>6</td>\n",
       "      <td>4</td>\n",
       "      <td>0.44</td>\n",
       "      <td>1.0</td>\n",
       "      <td>42.2148</td>\n",
       "      <td>-71.033</td>\n",
       "      <td>...</td>\n",
       "      <td>43.68</td>\n",
       "      <td>37.95</td>\n",
       "      <td>5</td>\n",
       "      <td>32.70</td>\n",
       "      <td>0.30</td>\n",
       "      <td>0.1276</td>\n",
       "      <td>39.89</td>\n",
       "      <td>43.68</td>\n",
       "      <td>33.73</td>\n",
       "      <td>38.07</td>\n",
       "    </tr>\n",
       "    <tr>\n",
       "      <th>1</th>\n",
       "      <td>27</td>\n",
       "      <td>11</td>\n",
       "      <td>5</td>\n",
       "      <td>7</td>\n",
       "      <td>8</td>\n",
       "      <td>2</td>\n",
       "      <td>0.44</td>\n",
       "      <td>1.0</td>\n",
       "      <td>42.2148</td>\n",
       "      <td>-71.033</td>\n",
       "      <td>...</td>\n",
       "      <td>47.30</td>\n",
       "      <td>43.92</td>\n",
       "      <td>6</td>\n",
       "      <td>41.83</td>\n",
       "      <td>0.64</td>\n",
       "      <td>0.1300</td>\n",
       "      <td>40.49</td>\n",
       "      <td>47.30</td>\n",
       "      <td>36.20</td>\n",
       "      <td>43.92</td>\n",
       "    </tr>\n",
       "    <tr>\n",
       "      <th>5</th>\n",
       "      <td>17</td>\n",
       "      <td>12</td>\n",
       "      <td>5</td>\n",
       "      <td>7</td>\n",
       "      <td>7</td>\n",
       "      <td>3</td>\n",
       "      <td>0.44</td>\n",
       "      <td>1.0</td>\n",
       "      <td>42.2148</td>\n",
       "      <td>-71.033</td>\n",
       "      <td>...</td>\n",
       "      <td>40.61</td>\n",
       "      <td>34.97</td>\n",
       "      <td>2</td>\n",
       "      <td>34.41</td>\n",
       "      <td>0.33</td>\n",
       "      <td>0.0221</td>\n",
       "      <td>34.19</td>\n",
       "      <td>40.66</td>\n",
       "      <td>27.39</td>\n",
       "      <td>34.97</td>\n",
       "    </tr>\n",
       "    <tr>\n",
       "      <th>7</th>\n",
       "      <td>2</td>\n",
       "      <td>12</td>\n",
       "      <td>0</td>\n",
       "      <td>8</td>\n",
       "      <td>7</td>\n",
       "      <td>3</td>\n",
       "      <td>1.08</td>\n",
       "      <td>1.0</td>\n",
       "      <td>42.3503</td>\n",
       "      <td>-71.081</td>\n",
       "      <td>...</td>\n",
       "      <td>50.80</td>\n",
       "      <td>50.13</td>\n",
       "      <td>6</td>\n",
       "      <td>48.02</td>\n",
       "      <td>0.86</td>\n",
       "      <td>0.0916</td>\n",
       "      <td>36.32</td>\n",
       "      <td>50.80</td>\n",
       "      <td>35.84</td>\n",
       "      <td>50.13</td>\n",
       "    </tr>\n",
       "    <tr>\n",
       "      <th>8</th>\n",
       "      <td>3</td>\n",
       "      <td>12</td>\n",
       "      <td>0</td>\n",
       "      <td>8</td>\n",
       "      <td>6</td>\n",
       "      <td>4</td>\n",
       "      <td>1.08</td>\n",
       "      <td>1.0</td>\n",
       "      <td>42.3503</td>\n",
       "      <td>-71.081</td>\n",
       "      <td>...</td>\n",
       "      <td>57.02</td>\n",
       "      <td>56.35</td>\n",
       "      <td>3</td>\n",
       "      <td>44.50</td>\n",
       "      <td>0.89</td>\n",
       "      <td>0.0004</td>\n",
       "      <td>43.09</td>\n",
       "      <td>57.02</td>\n",
       "      <td>39.90</td>\n",
       "      <td>56.35</td>\n",
       "    </tr>\n",
       "  </tbody>\n",
       "</table>\n",
       "<p>5 rows × 25 columns</p>\n",
       "</div>"
      ],
      "text/plain": [
       "   day  month  source  destination  product_id  name  distance  \\\n",
       "0   16     12       5            7           6     4      0.44   \n",
       "1   27     11       5            7           8     2      0.44   \n",
       "5   17     12       5            7           7     3      0.44   \n",
       "7    2     12       0            8           7     3      1.08   \n",
       "8    3     12       0            8           6     4      1.08   \n",
       "\n",
       "   surge_multiplier  latitude  longitude  ...  temperatureHigh  \\\n",
       "0               1.0   42.2148    -71.033  ...            43.68   \n",
       "1               1.0   42.2148    -71.033  ...            47.30   \n",
       "5               1.0   42.2148    -71.033  ...            40.61   \n",
       "7               1.0   42.3503    -71.081  ...            50.80   \n",
       "8               1.0   42.3503    -71.081  ...            57.02   \n",
       "\n",
       "   apparentTemperatureHigh  icon  dewPoint  moonPhase  precipIntensityMax  \\\n",
       "0                    37.95     5     32.70       0.30              0.1276   \n",
       "1                    43.92     6     41.83       0.64              0.1300   \n",
       "5                    34.97     2     34.41       0.33              0.0221   \n",
       "7                    50.13     6     48.02       0.86              0.0916   \n",
       "8                    56.35     3     44.50       0.89              0.0004   \n",
       "\n",
       "   temperatureMin  temperatureMax  apparentTemperatureMin  \\\n",
       "0           39.89           43.68                   33.73   \n",
       "1           40.49           47.30                   36.20   \n",
       "5           34.19           40.66                   27.39   \n",
       "7           36.32           50.80                   35.84   \n",
       "8           43.09           57.02                   39.90   \n",
       "\n",
       "   apparentTemperatureMax  \n",
       "0                   38.07  \n",
       "1                   43.92  \n",
       "5                   34.97  \n",
       "7                   50.13  \n",
       "8                   56.35  \n",
       "\n",
       "[5 rows x 25 columns]"
      ]
     },
     "execution_count": 89,
     "metadata": {},
     "output_type": "execute_result"
    }
   ],
   "source": [
    "XX.head()"
   ]
  },
  {
   "cell_type": "code",
   "execution_count": 90,
   "metadata": {},
   "outputs": [],
   "source": [
    "X_train, X_test, y_train, y_test = train_test_split(XX, y, test_size = 0.3, random_state = 20,)"
   ]
  },
  {
   "cell_type": "code",
   "execution_count": 91,
   "metadata": {},
   "outputs": [
    {
     "data": {
      "text/plain": [
       "(338989, 25)"
      ]
     },
     "execution_count": 91,
     "metadata": {},
     "output_type": "execute_result"
    }
   ],
   "source": [
    "X_train.shape"
   ]
  },
  {
   "cell_type": "code",
   "execution_count": 92,
   "metadata": {},
   "outputs": [],
   "source": [
    "#Creating model\n",
    "reg1 = LinearRegression()\n",
    "#Fitting training data\n",
    "reg1 = reg1.fit(X_train, y_train)\n",
    "#Y prediction\n",
    "Y_pred = reg1.predict(X_test)"
   ]
  },
  {
   "cell_type": "code",
   "execution_count": 93,
   "metadata": {},
   "outputs": [
    {
     "data": {
      "text/plain": [
       "0.4982694098693732"
      ]
     },
     "execution_count": 93,
     "metadata": {},
     "output_type": "execute_result"
    }
   ],
   "source": [
    "reg1.score(X_train, y_train)"
   ]
  },
  {
   "cell_type": "code",
   "execution_count": 94,
   "metadata": {},
   "outputs": [
    {
     "data": {
      "text/plain": [
       "Index(['day', 'month', 'source', 'destination', 'product_id', 'name',\n",
       "       'distance', 'surge_multiplier', 'latitude', 'longitude',\n",
       "       'apparentTemperature', 'long_summary', 'precipIntensity', 'humidity',\n",
       "       'windSpeed', 'temperatureHigh', 'apparentTemperatureHigh', 'icon',\n",
       "       'dewPoint', 'moonPhase', 'precipIntensityMax', 'temperatureMin',\n",
       "       'temperatureMax', 'apparentTemperatureMin', 'apparentTemperatureMax'],\n",
       "      dtype='object')"
      ]
     },
     "execution_count": 94,
     "metadata": {},
     "output_type": "execute_result"
    }
   ],
   "source": [
    "#Since we find the accuracy for k = 56 , 40 , 25 and 15.\n",
    "#Hence we noticed that the when k = 56 we get the maximum training accuracy in Linear Regression Model\n",
    "XX.columns"
   ]
  },
  {
   "cell_type": "code",
   "execution_count": 97,
   "metadata": {},
   "outputs": [],
   "source": [
    "#Drop Useless Features\n",
    "features_drop = ['latitude', 'longitude', 'apparentTemperature',\n",
    "       'long_summary', 'precipIntensity', 'humidity', 'windSpeed',\n",
    "       'temperatureHigh', 'apparentTemperatureHigh', 'dewPoint','precipIntensityMax',\n",
    "       'temperatureMax', 'apparentTemperatureMax', 'distance', 'moonPhase']\n",
    "new_uber = XX.drop(features_drop, axis=1)"
   ]
  },
  {
   "cell_type": "code",
   "execution_count": 98,
   "metadata": {},
   "outputs": [
    {
     "data": {
      "text/html": [
       "<div>\n",
       "<style scoped>\n",
       "    .dataframe tbody tr th:only-of-type {\n",
       "        vertical-align: middle;\n",
       "    }\n",
       "\n",
       "    .dataframe tbody tr th {\n",
       "        vertical-align: top;\n",
       "    }\n",
       "\n",
       "    .dataframe thead th {\n",
       "        text-align: right;\n",
       "    }\n",
       "</style>\n",
       "<table border=\"1\" class=\"dataframe\">\n",
       "  <thead>\n",
       "    <tr style=\"text-align: right;\">\n",
       "      <th></th>\n",
       "      <th>day</th>\n",
       "      <th>month</th>\n",
       "      <th>source</th>\n",
       "      <th>destination</th>\n",
       "      <th>product_id</th>\n",
       "      <th>name</th>\n",
       "      <th>surge_multiplier</th>\n",
       "      <th>icon</th>\n",
       "      <th>temperatureMin</th>\n",
       "      <th>apparentTemperatureMin</th>\n",
       "    </tr>\n",
       "  </thead>\n",
       "  <tbody>\n",
       "    <tr>\n",
       "      <th>0</th>\n",
       "      <td>16</td>\n",
       "      <td>12</td>\n",
       "      <td>5</td>\n",
       "      <td>7</td>\n",
       "      <td>6</td>\n",
       "      <td>4</td>\n",
       "      <td>1.0</td>\n",
       "      <td>5</td>\n",
       "      <td>39.89</td>\n",
       "      <td>33.73</td>\n",
       "    </tr>\n",
       "    <tr>\n",
       "      <th>1</th>\n",
       "      <td>27</td>\n",
       "      <td>11</td>\n",
       "      <td>5</td>\n",
       "      <td>7</td>\n",
       "      <td>8</td>\n",
       "      <td>2</td>\n",
       "      <td>1.0</td>\n",
       "      <td>6</td>\n",
       "      <td>40.49</td>\n",
       "      <td>36.20</td>\n",
       "    </tr>\n",
       "    <tr>\n",
       "      <th>5</th>\n",
       "      <td>17</td>\n",
       "      <td>12</td>\n",
       "      <td>5</td>\n",
       "      <td>7</td>\n",
       "      <td>7</td>\n",
       "      <td>3</td>\n",
       "      <td>1.0</td>\n",
       "      <td>2</td>\n",
       "      <td>34.19</td>\n",
       "      <td>27.39</td>\n",
       "    </tr>\n",
       "    <tr>\n",
       "      <th>7</th>\n",
       "      <td>2</td>\n",
       "      <td>12</td>\n",
       "      <td>0</td>\n",
       "      <td>8</td>\n",
       "      <td>7</td>\n",
       "      <td>3</td>\n",
       "      <td>1.0</td>\n",
       "      <td>6</td>\n",
       "      <td>36.32</td>\n",
       "      <td>35.84</td>\n",
       "    </tr>\n",
       "    <tr>\n",
       "      <th>8</th>\n",
       "      <td>3</td>\n",
       "      <td>12</td>\n",
       "      <td>0</td>\n",
       "      <td>8</td>\n",
       "      <td>6</td>\n",
       "      <td>4</td>\n",
       "      <td>1.0</td>\n",
       "      <td>3</td>\n",
       "      <td>43.09</td>\n",
       "      <td>39.90</td>\n",
       "    </tr>\n",
       "  </tbody>\n",
       "</table>\n",
       "</div>"
      ],
      "text/plain": [
       "   day  month  source  destination  product_id  name  surge_multiplier  icon  \\\n",
       "0   16     12       5            7           6     4               1.0     5   \n",
       "1   27     11       5            7           8     2               1.0     6   \n",
       "5   17     12       5            7           7     3               1.0     2   \n",
       "7    2     12       0            8           7     3               1.0     6   \n",
       "8    3     12       0            8           6     4               1.0     3   \n",
       "\n",
       "   temperatureMin  apparentTemperatureMin  \n",
       "0           39.89                   33.73  \n",
       "1           40.49                   36.20  \n",
       "5           34.19                   27.39  \n",
       "7           36.32                   35.84  \n",
       "8           43.09                   39.90  "
      ]
     },
     "execution_count": 98,
     "metadata": {},
     "output_type": "execute_result"
    }
   ],
   "source": [
    "new_uber.head()"
   ]
  },
  {
   "cell_type": "code",
   "execution_count": 100,
   "metadata": {},
   "outputs": [],
   "source": [
    "new_uber = new_uber.drop(['day', 'apparentTemperatureMin', 'temperatureMin' ], axis=1)"
   ]
  },
  {
   "cell_type": "code",
   "execution_count": 101,
   "metadata": {},
   "outputs": [
    {
     "data": {
      "text/html": [
       "<div>\n",
       "<style scoped>\n",
       "    .dataframe tbody tr th:only-of-type {\n",
       "        vertical-align: middle;\n",
       "    }\n",
       "\n",
       "    .dataframe tbody tr th {\n",
       "        vertical-align: top;\n",
       "    }\n",
       "\n",
       "    .dataframe thead th {\n",
       "        text-align: right;\n",
       "    }\n",
       "</style>\n",
       "<table border=\"1\" class=\"dataframe\">\n",
       "  <thead>\n",
       "    <tr style=\"text-align: right;\">\n",
       "      <th></th>\n",
       "      <th>month</th>\n",
       "      <th>source</th>\n",
       "      <th>destination</th>\n",
       "      <th>product_id</th>\n",
       "      <th>name</th>\n",
       "      <th>surge_multiplier</th>\n",
       "      <th>icon</th>\n",
       "    </tr>\n",
       "  </thead>\n",
       "  <tbody>\n",
       "    <tr>\n",
       "      <th>0</th>\n",
       "      <td>12</td>\n",
       "      <td>5</td>\n",
       "      <td>7</td>\n",
       "      <td>6</td>\n",
       "      <td>4</td>\n",
       "      <td>1.0</td>\n",
       "      <td>5</td>\n",
       "    </tr>\n",
       "    <tr>\n",
       "      <th>1</th>\n",
       "      <td>11</td>\n",
       "      <td>5</td>\n",
       "      <td>7</td>\n",
       "      <td>8</td>\n",
       "      <td>2</td>\n",
       "      <td>1.0</td>\n",
       "      <td>6</td>\n",
       "    </tr>\n",
       "    <tr>\n",
       "      <th>5</th>\n",
       "      <td>12</td>\n",
       "      <td>5</td>\n",
       "      <td>7</td>\n",
       "      <td>7</td>\n",
       "      <td>3</td>\n",
       "      <td>1.0</td>\n",
       "      <td>2</td>\n",
       "    </tr>\n",
       "    <tr>\n",
       "      <th>7</th>\n",
       "      <td>12</td>\n",
       "      <td>0</td>\n",
       "      <td>8</td>\n",
       "      <td>7</td>\n",
       "      <td>3</td>\n",
       "      <td>1.0</td>\n",
       "      <td>6</td>\n",
       "    </tr>\n",
       "    <tr>\n",
       "      <th>8</th>\n",
       "      <td>12</td>\n",
       "      <td>0</td>\n",
       "      <td>8</td>\n",
       "      <td>6</td>\n",
       "      <td>4</td>\n",
       "      <td>1.0</td>\n",
       "      <td>3</td>\n",
       "    </tr>\n",
       "  </tbody>\n",
       "</table>\n",
       "</div>"
      ],
      "text/plain": [
       "   month  source  destination  product_id  name  surge_multiplier  icon\n",
       "0     12       5            7           6     4               1.0     5\n",
       "1     11       5            7           8     2               1.0     6\n",
       "5     12       5            7           7     3               1.0     2\n",
       "7     12       0            8           7     3               1.0     6\n",
       "8     12       0            8           6     4               1.0     3"
      ]
     },
     "execution_count": 101,
     "metadata": {},
     "output_type": "execute_result"
    }
   ],
   "source": [
    "new_uber.head()"
   ]
  },
  {
   "cell_type": "code",
   "execution_count": 102,
   "metadata": {},
   "outputs": [
    {
     "data": {
      "text/plain": [
       "0     5\n",
       "1    11\n",
       "5    16\n",
       "7    16\n",
       "8     3\n",
       "Name: price, dtype: int32"
      ]
     },
     "execution_count": 102,
     "metadata": {},
     "output_type": "execute_result"
    }
   ],
   "source": [
    "y.head()"
   ]
  },
  {
   "cell_type": "markdown",
   "metadata": {},
   "source": [
    "## 4. Modeling"
   ]
  },
  {
   "cell_type": "code",
   "execution_count": 103,
   "metadata": {},
   "outputs": [
    {
     "data": {
      "text/plain": [
       "(484270, 7)"
      ]
     },
     "execution_count": 103,
     "metadata": {},
     "output_type": "execute_result"
    }
   ],
   "source": [
    "new_uber.shape"
   ]
  },
  {
   "cell_type": "code",
   "execution_count": 104,
   "metadata": {},
   "outputs": [
    {
     "data": {
      "text/plain": [
       "(484270,)"
      ]
     },
     "execution_count": 104,
     "metadata": {},
     "output_type": "execute_result"
    }
   ],
   "source": [
    "y.shape"
   ]
  },
  {
   "cell_type": "code",
   "execution_count": 105,
   "metadata": {},
   "outputs": [],
   "source": [
    "# Using Skicit-learn to split data into training and testing sets\n",
    "from sklearn.model_selection import train_test_split\n",
    "# Split the data into training and testing sets\n",
    "xx_train, xx_test, yy_train, yy_test = train_test_split(new_uber, y, test_size = 0.2, random_state = 42)"
   ]
  },
  {
   "cell_type": "code",
   "execution_count": 106,
   "metadata": {},
   "outputs": [
    {
     "data": {
      "text/plain": [
       "(387416, 7)"
      ]
     },
     "execution_count": 106,
     "metadata": {},
     "output_type": "execute_result"
    }
   ],
   "source": [
    "xx_train.shape"
   ]
  },
  {
   "cell_type": "code",
   "execution_count": 107,
   "metadata": {},
   "outputs": [
    {
     "data": {
      "text/plain": [
       "(96854, 7)"
      ]
     },
     "execution_count": 107,
     "metadata": {},
     "output_type": "execute_result"
    }
   ],
   "source": [
    "xx_test.shape"
   ]
  },
  {
   "cell_type": "code",
   "execution_count": 108,
   "metadata": {},
   "outputs": [
    {
     "data": {
      "text/plain": [
       "(387416,)"
      ]
     },
     "execution_count": 108,
     "metadata": {},
     "output_type": "execute_result"
    }
   ],
   "source": [
    "yy_train.shape"
   ]
  },
  {
   "cell_type": "code",
   "execution_count": 109,
   "metadata": {},
   "outputs": [
    {
     "data": {
      "text/plain": [
       "(96854,)"
      ]
     },
     "execution_count": 109,
     "metadata": {},
     "output_type": "execute_result"
    }
   ],
   "source": [
    "yy_test.shape"
   ]
  },
  {
   "cell_type": "code",
   "execution_count": 110,
   "metadata": {},
   "outputs": [],
   "source": [
    "from sklearn.linear_model import LinearRegression\n",
    "from sklearn.linear_model import LogisticRegression\n",
    "from sklearn.tree import DecisionTreeRegressor\n",
    "from sklearn.ensemble import RandomForestRegressor "
   ]
  },
  {
   "cell_type": "code",
   "execution_count": 111,
   "metadata": {},
   "outputs": [
    {
     "data": {
      "text/plain": [
       "0.3772012797216848"
      ]
     },
     "execution_count": 111,
     "metadata": {},
     "output_type": "execute_result"
    }
   ],
   "source": [
    "#4.1 Linear regression\n",
    "linear = LinearRegression()\n",
    "linear.fit(xx_train, yy_train)\n",
    "linear.score(xx_test, yy_test)"
   ]
  },
  {
   "cell_type": "code",
   "execution_count": 112,
   "metadata": {},
   "outputs": [
    {
     "data": {
      "text/plain": [
       "0.9435791533112988"
      ]
     },
     "execution_count": 112,
     "metadata": {},
     "output_type": "execute_result"
    }
   ],
   "source": [
    "#4.2 Decision Tree\n",
    "decision = DecisionTreeRegressor(random_state = 0)  \n",
    "decision.fit(xx_train , yy_train) \n",
    "decision.score(xx_test, yy_test)"
   ]
  },
  {
   "cell_type": "code",
   "execution_count": 113,
   "metadata": {},
   "outputs": [
    {
     "data": {
      "text/plain": [
       "0.9440639812608885"
      ]
     },
     "execution_count": 113,
     "metadata": {},
     "output_type": "execute_result"
    }
   ],
   "source": [
    "#4.3 Random Forest\n",
    "random = RandomForestRegressor(n_estimators = 100, random_state = 0) \n",
    "random.fit(xx_train , yy_train)  \n",
    "random.score(xx_test, yy_test)"
   ]
  },
  {
   "cell_type": "code",
   "execution_count": 114,
   "metadata": {},
   "outputs": [
    {
     "data": {
      "text/plain": [
       "GradientBoostingRegressor(max_depth=5, n_estimators=400)"
      ]
     },
     "execution_count": 114,
     "metadata": {},
     "output_type": "execute_result"
    }
   ],
   "source": [
    "#4.4 Gradient Boosting Regressor\n",
    "from sklearn import ensemble\n",
    "clf = ensemble.GradientBoostingRegressor(n_estimators = 400, max_depth = 5)\n",
    "clf.fit(xx_train, yy_train)"
   ]
  },
  {
   "cell_type": "code",
   "execution_count": 115,
   "metadata": {},
   "outputs": [
    {
     "data": {
      "text/plain": [
       "0.9441962630012726"
      ]
     },
     "execution_count": 115,
     "metadata": {},
     "output_type": "execute_result"
    }
   ],
   "source": [
    "clf.score(xx_test, yy_test)"
   ]
  },
  {
   "cell_type": "code",
   "execution_count": 116,
   "metadata": {},
   "outputs": [
    {
     "data": {
      "text/plain": [
       "array([0.3833385 , 0.37996767, 0.37605439, 0.38217482, 0.37513891])"
      ]
     },
     "execution_count": 116,
     "metadata": {},
     "output_type": "execute_result"
    }
   ],
   "source": [
    "#K fold Crossvalidation\n",
    "from sklearn.model_selection import ShuffleSplit\n",
    "from sklearn.model_selection import cross_val_score\n",
    "cv=ShuffleSplit(n_splits=5,test_size=0.2,random_state=0)\n",
    "cross_val_score(LinearRegression(),xx_test,yy_test,cv=cv)"
   ]
  },
  {
   "cell_type": "markdown",
   "metadata": {},
   "source": [
    "## 5. Testing"
   ]
  },
  {
   "cell_type": "code",
   "execution_count": 117,
   "metadata": {},
   "outputs": [
    {
     "data": {
      "text/plain": [
       "array([-1.20937559e-04, -5.19888787e-02, -1.10446177e-01, -5.85273358e-01,\n",
       "       -1.79214999e+00,  2.52173032e+01,  3.56047212e-03])"
      ]
     },
     "execution_count": 117,
     "metadata": {},
     "output_type": "execute_result"
    }
   ],
   "source": [
    "#Linear regression\n",
    "linear.coef_"
   ]
  },
  {
   "cell_type": "code",
   "execution_count": 118,
   "metadata": {},
   "outputs": [
    {
     "data": {
      "text/plain": [
       "array([24.20816622, 11.10349145, 13.22312095, ..., 13.75379603,\n",
       "       12.56904679, 14.12549165])"
      ]
     },
     "execution_count": 118,
     "metadata": {},
     "output_type": "execute_result"
    }
   ],
   "source": [
    "prediction = linear.predict(xx_test)\n",
    "prediction"
   ]
  },
  {
   "cell_type": "code",
   "execution_count": 119,
   "metadata": {},
   "outputs": [],
   "source": [
    "prediction=  prediction.astype(int)"
   ]
  },
  {
   "cell_type": "code",
   "execution_count": 120,
   "metadata": {},
   "outputs": [
    {
     "name": "stdout",
     "output_type": "stream",
     "text": [
      "MAE :   5.1733433828236315\n",
      "MSE :   43.13706196956243\n",
      "RMAE :   6.567881086740413\n"
     ]
    }
   ],
   "source": [
    "from sklearn import metrics\n",
    "print('MAE :',\" \", metrics.mean_absolute_error(yy_test,prediction))\n",
    "print('MSE :',\" \", metrics.mean_squared_error(yy_test,prediction))\n",
    "print('RMAE :',\" \", np.sqrt(metrics.mean_squared_error(yy_test,prediction)))"
   ]
  },
  {
   "cell_type": "code",
   "execution_count": 121,
   "metadata": {},
   "outputs": [
    {
     "name": "stderr",
     "output_type": "stream",
     "text": [
      "C:\\ProgramData\\Anaconda3\\lib\\site-packages\\seaborn\\distributions.py:2551: FutureWarning: `distplot` is a deprecated function and will be removed in a future version. Please adapt your code to use either `displot` (a figure-level function with similar flexibility) or `histplot` (an axes-level function for histograms).\n",
      "  warnings.warn(msg, FutureWarning)\n"
     ]
    },
    {
     "data": {
      "text/plain": [
       "<AxesSubplot:xlabel='price', ylabel='Density'>"
      ]
     },
     "execution_count": 121,
     "metadata": {},
     "output_type": "execute_result"
    },
    {
     "data": {
      "image/png": "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\n",
      "text/plain": [
       "<Figure size 432x288 with 1 Axes>"
      ]
     },
     "metadata": {
      "needs_background": "light"
     },
     "output_type": "display_data"
    }
   ],
   "source": [
    "sns.distplot(yy_test - prediction,bins=50)"
   ]
  },
  {
   "cell_type": "code",
   "execution_count": 122,
   "metadata": {},
   "outputs": [],
   "source": [
    "#Random Forest\n",
    "predictions = random.predict(xx_test)"
   ]
  },
  {
   "cell_type": "code",
   "execution_count": 123,
   "metadata": {},
   "outputs": [
    {
     "name": "stderr",
     "output_type": "stream",
     "text": [
      "C:\\ProgramData\\Anaconda3\\lib\\site-packages\\seaborn\\_decorators.py:36: FutureWarning: Pass the following variables as keyword args: x, y. From version 0.12, the only valid positional argument will be `data`, and passing other arguments without an explicit keyword will result in an error or misinterpretation.\n",
      "  warnings.warn(\n"
     ]
    },
    {
     "data": {
      "text/plain": [
       "Text(0, 0.5, 'Predicted Y')"
      ]
     },
     "execution_count": 123,
     "metadata": {},
     "output_type": "execute_result"
    },
    {
     "data": {
      "image/png": "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\n",
      "text/plain": [
       "<Figure size 432x288 with 1 Axes>"
      ]
     },
     "metadata": {
      "needs_background": "light"
     },
     "output_type": "display_data"
    }
   ],
   "source": [
    "sns.regplot(yy_test,predictions)\n",
    "plt.xlabel('Y Test')\n",
    "plt.ylabel('Predicted Y')"
   ]
  },
  {
   "cell_type": "code",
   "execution_count": 124,
   "metadata": {},
   "outputs": [
    {
     "name": "stdout",
     "output_type": "stream",
     "text": [
      "MAE :   1.1520959517047011\n",
      "MSE :   3.8195149130280264\n",
      "RMAE :   1.9543579285862727\n"
     ]
    }
   ],
   "source": [
    "from sklearn import metrics\n",
    "print('MAE :',\" \", metrics.mean_absolute_error(yy_test,predictions))\n",
    "print('MSE :',\" \", metrics.mean_squared_error(yy_test,predictions))\n",
    "print('RMAE :',\" \", np.sqrt(metrics.mean_squared_error(yy_test,predictions)))"
   ]
  },
  {
   "cell_type": "code",
   "execution_count": 125,
   "metadata": {},
   "outputs": [
    {
     "name": "stderr",
     "output_type": "stream",
     "text": [
      "C:\\ProgramData\\Anaconda3\\lib\\site-packages\\seaborn\\distributions.py:2551: FutureWarning: `distplot` is a deprecated function and will be removed in a future version. Please adapt your code to use either `displot` (a figure-level function with similar flexibility) or `histplot` (an axes-level function for histograms).\n",
      "  warnings.warn(msg, FutureWarning)\n"
     ]
    },
    {
     "data": {
      "text/plain": [
       "<AxesSubplot:xlabel='price', ylabel='Density'>"
      ]
     },
     "execution_count": 125,
     "metadata": {},
     "output_type": "execute_result"
    },
    {
     "data": {
      "image/png": "iVBORw0KGgoAAAANSUhEUgAAAYIAAAEGCAYAAABo25JHAAAAOXRFWHRTb2Z0d2FyZQBNYXRwbG90bGliIHZlcnNpb24zLjMuMiwgaHR0cHM6Ly9tYXRwbG90bGliLm9yZy8vihELAAAACXBIWXMAAAsTAAALEwEAmpwYAAAfiUlEQVR4nO3de3Scd33n8fd3LrpZ8lWyA5Ydm8QEDIsTUJJywil0yyUJWbIpsE0oC7TQkLbpQtvtEmBPDt12T8t2D4dSAiaHzSEt0NAWkrqsIQToFigQrIQ4cW7EuThWbLB8kWzd5/LdP55n5NFkJM3I81jzPPN5naOjmed5ZvRNosxHv+tj7o6IiLSu1HIXICIiy0tBICLS4hQEIiItTkEgItLiFAQiIi0us9wF1Ku3t9e3bNmy3GWIiMTKfffdd9Td+6qdi10QbNmyhcHBweUuQ0QkVszswHzn1DUkItLiFAQiIi1OQSAi0uIUBCIiLU5BICLS4hQEIiItTkEgItLiFAQiIi1OQSB1u/mf9vGROx9a7jJEpEFit7JYlt9jh0+RLxaXuwwRaRAFgdQtVyxSKOrOdiJJoa4hqVuh6OQKCgKRpFAQSN1yBSdfUNeQSFIoCKRuhWKRvLqGRBJDQSB1yxecnFoEIomhIJC65YpF8hojEEkMBYHUrVBwTR8VSRAFgdQtV3SNEYgkSKRBYGaXm9njZrbfzG6qcv51ZjZqZg+EXzdHWY80RqHo6hoSSZDIFpSZWRq4BXgDMATsMbNd7v5IxaXfd/eroqpDGi9XKGqwWCRBomwRXALsd/en3H0GuAO4OsKfJ2dJQV1DIokSZRBsBA6WPR8Kj1V6tZntNbNvmNnLqr2RmV1vZoNmNjg8PBxFrVKHfMEpFB13hYFIEkQZBFblWOUnx/3Aue6+A/hr4K5qb+Tut7r7gLsP9PX1NbZKqVtpxpC2mRBJhiiDYAjYVPa8HzhUfoG7n3T3sfDxbiBrZr0R1iRnqFh0Sr1CmkIqkgxRBsEeYJuZbTWzNuBaYFf5BWZ2jplZ+PiSsJ5jEdYkZ6h8bEAtApFkiGzWkLvnzexG4G4gDdzm7g+b2Q3h+Z3A24DfMbM8MAlc6+p4bmrlrQBtPCeSDJHejyDs7tldcWxn2eNPA5+OsgZprPIWgWYOiSSDVhZLXcoXkmktgUgyKAikLnO7htQiEEkCBYHUpfzDX7OGRJJBQSB1KWjWkEjiKAikLuXjAuoaEkkGBYHUZc46AnUNiSSCgkDqMmeMQC0CkURQEEhd5swaUotAJBEUBFKXOQvK1CIQSQQFgdRF00dFkkdBIHUp//DX9FGRZFAQSF00WCySPAoCqUuhqK4hkaRREEhdyheUqWtIJBkUBFKXOS0C7T4qkggKAqlLbs7KYrUIRJJAQSB1KegOZSKJoyCQuuQ0a0gkcRQEUpeCNp0TSRwFgdQlr22oRRJHQSB1yWvWkEjiKAikLnNuXq9ZQyKJoCCQupRaBGZqEYgkhYJA6lL68O/IpLWyWCQhFARSl1J3UEc2NWcGkYjEl4JA6lIoFkmnjGw6pU3nRBJCQSB1yRd8NgjUNSSSDAoCqUu+6GRTRiZtGiwWSQgFgdQlXwi6hjIp0/RRkYRQEEhd8kUnm04FYwRqEYgkQqRBYGaXm9njZrbfzG5a4LqLzaxgZm+Lsh45c/mCk0mXuobUIhBJgsiCwMzSwC3AFcB24Doz2z7PdR8H7o6qFmmcfNHJpFKkUyl1DYkkRJQtgkuA/e7+lLvPAHcAV1e57veBrwJHIqxFGiRfLJJJG9mUBotFkiLKINgIHCx7PhQem2VmG4FrgJ0LvZGZXW9mg2Y2ODw83PBCpXb5YjB9VF1DIskRZRBYlWOVnxyfBD7k7oWF3sjdb3X3AXcf6Ovra1R9sgT5QpFsKhgs1v0IRJIhE+F7DwGbyp73A4cqrhkA7jAzgF7gSjPLu/tdEdYlZ6BQahGk1CIQSYoog2APsM3MtgLPAdcC7yi/wN23lh6b2ReArysEmluu4GTTRiadIqcxApFEiCwI3D1vZjcSzAZKA7e5+8NmdkN4fsFxAWlOpRZBNm1zblIjIvEVZYsAd98N7K44VjUA3P09UdYijZErFMmkU2RSWlAmkhRaWSx1KRSdTDhrSJvOiSSDgkDqkis6mXSKbErbUIskhYJA6lIoFmdbBLoxjUgyKAikLvlC0DWk+xGIJIeCQOoSDBaX1hGoa0gkCRQEUpdCadO5tO5HIJIUCgKpSy7chjqr6aMiiaEgkLqUTx8tOhTVKhCJPQWB1CXYhjrYdA7QxnMiCaAgkLrkSy2CVLC5rDaeE4k/BYHUJZg+miITtggUBCLxpyCQuszeoSwdtAjUNSQSfwoCqUtpQVkmpRaBSFIoCKRm7n56jKDUItAUUpHYUxBIzUp7CwWzhsLBYk0fFYk9BYHUrPShn57TNaQWgUjcRXpjGkmWUhDse26U505MArBr7yFesKqTd1y6eTlLE5EzoBaB1KwQDgynzEiH6wi0FbVI/CkIpGalqaKplJGyIAi0xYRI/CkIpGalv/7T5S0C5YBI7CkIpGalqaIpg3CsmKIrCUTiTkEgNSuUzRpKm8YIRJJCQSA1y5UNFpemjyoIROJPQSA1y5cNFqe1oEwkMRQEUrPSvkJpg+zsNtRaUCYSdzUFgZl91czebGYKjhZW+us/lbLT21CrRSASe7V+sH8WeAfwhJn9hZm9JMKapEkVSl1DZdNH1SIQib+agsDdv+3uvwG8EngGuMfMfmhmv2lm2SgLlOZRGixOp+x015BaBCKxV3NXj5mtA94DvA/4KfBXBMFwTySVSdMpzRBKmbqGRJKkpk3nzOxrwEuAvwX+g7sfDk99xcwGoypOmsvkTAGAbNpIGRjqGhJJglpbBJ939+3u/uelEDCzdgB3H5jvRWZ2uZk9bmb7zeymKuevNrMHzewBMxs0s9cs6Z9CzorRyRwAndk0ZsHNaXSHMpH4qzUI/qzKsR8t9AIzSwO3AFcA24HrzGx7xWXfAXa4+4XAbwGfr7EeWQYjpSBoSwOQSaXUNSSSAAt2DZnZOcBGoNPMLiLoDQBYCXQt8t6XAPvd/anwve4ArgYeKV3g7mNl168A9KnSxEotgo5sGARpm11kJiLxtdgYwZsIBoj7gU+UHT8FfGSR124EDpY9HwIurbzIzK4B/hxYD7y52huZ2fXA9QCbN+sGKMvl5GSOjmxqdgvqTEpdQyJJsGAQuPvtwO1m9lZ3/2qd721Vjj3vU8Pd7wTuNLNfBv4UeH2Va24FbgUYGBjQJ88yGZ3M0Rm2BkBdQyJJsVjX0Dvd/YvAFjP7w8rz7v6JKi8rGQI2lT3vBw7Nd7G7f8/MzjOzXnc/ukjdsgyeFwRp06whkQRYbLB4Rfi9G+ip8rWQPcA2M9tqZm3AtcCu8gvM7HyzoJ/BzF4JtAHH6vonkLNmdDJHR1t5i8DUIhBJgMW6hj4Xfv+Tet/Y3fNmdiNwN5AGbnP3h83shvD8TuCtwLvMLAdMAr/urjudNKvRyRxdc1oE6hoSSYJaF5T9L4IppJPAN4EdwAfDbqN5uftuYHfFsZ1ljz8OfLzOmmWZjE7mWLPu9GSxTMqYyhWWsSIRaYRa1xG80d1PAlcR9P2/GPjjyKqSpuPujE5UDhara0gkCWoNgtLGclcCf+fuxyOqR5rUVK7ITKFYMVic0vRRkQSoqWsI+Gcze4yga+h3zawPmIquLGk2s4vJnjdYrFlDInFX6zbUNwGvBgbcPQeME6wSlhZRvs9QifYaEkmGWlsEAC8lWE9Q/pq/aXA90qRGK/YZAi0oE0mKWmcN/S1wHvAAUJom4igIWkYpCLqyp39ltNeQSDLU2iIYALZrjn/rqt4iCLqG9GshEm+1zhraB5wTZSHS3EYmZoDKMYIUDqh3SCTeam0R9AKPmNlPgOnSQXd/SyRVSdM5OZnDDNqzp/92yOgG9iKJUGsQfCzKIqT5jU7m6GnPzG5BDaeDIKcmgUis1RQE7v6vZnYusM3dv21mXQT7B0mLGJ3MsaorO+dY6Qb2BQWBSKzVNEZgZr8N/CPwufDQRuCuiGqSJjQ6mWNVZ0UQqGtIJBFqHSz+PeAy4CSAuz9BcEcxaRFVgyBsEahrSCTeag2CaXefKT0JF5Xp//4WMjKRY3VX25xjpRZBQauLRWKt1iD4VzP7CMFN7N8A/APwz9GVJc3m+MQM61ZUBEE67BrSojKRWKs1CG4ChoGHgPcT3GPgv0dVlDSXfKHIyESONc9rEYRdQ2oRiMRarbOGimZ2F3CXuw9HW5I0m5FwVfHayhZBqWtILQKRWFuwRWCBj5nZUeAx4HEzGzazm89OedIMTowHw0PPC4Kwa0gtApF4W6xr6IMEs4Uudvd17r4WuBS4zMz+IOripDkcmycIsmHXkHYgFYm3xYLgXcB17v506YC7PwW8MzwnLaDUIqgcI0in1TUkkgSLBUHW3Y9WHgzHCbJVrpcEOh5uOLeuu/oYgbqGROJtsSCYWeI5SZDjY8F/6tUVW0xk0+oaEkmCxWYN7TCzk1WOG9ARQT3ShI5PzNDdnqE9M3d7qfTsgjJ1DYnE2YJB4O7aWE44MT7zvIFi0O6jIklR64IyaWHHxmdYUyUIzGz2LmUiEl8KAlnUiYkZ1nZVnxuQTplmDYnEnIJAFnViPMfaFe1Vz2XSKXUNicScgkAWdWx8mrUrqrcIsuoaEok9BYEsaHKmwFSuWHWMAIJtJrT7qEi8KQhkQbOLyeYLglRKLQKRmIs0CMzscjN73Mz2m9lNVc7/hpk9GH790Mx2RFmP1K+0mKxye4kStQhE4i+yIDCzNHALcAWwHbjOzLZXXPY08Fp3fwXwp8CtUdUjS1NqEVRbRwDBWgKtLBaJtyhbBJcA+939qfA2l3cAV5df4O4/dPcT4dMfA/0R1iNLMDJR2l5CXUMiSRVlEGwEDpY9HwqPzee9wDeqnTCz681s0MwGh4d1X5yzaWQiuClN5T5DJeoaEom/KIPAqhyr+qejmf0KQRB8qNp5d7/V3QfcfaCvr6+BJcpiRsO7k63qrB4EbZkU0zkFgUic1XSryiUaAjaVPe8HDlVeZGavAD4PXOHuxyKsR5ZgdDJHV1t6dqfRSp3ZNJO5wlmuSkQaKcoWwR5gm5ltNbM24FpgV/kFZrYZ+Brwn939ZxHWIks0OpmbtzUA0NWWZnKmQFEDxiKxFVmLwN3zZnYjcDeQBm5z94fN7Ibw/E7gZmAd8BkzA8i7+0BUNUn9Fg+CDA6cms4veJ2INK8ou4Zw993A7opjO8sevw94X5Q1yJlZLAg624KdykcnFr5ORJqXVhbLghb7gO/KBkEwMqkb1onElYJAFlRri+BEOM1UROIn0q4hia8v3/ssEOw8enh0avZ5pVIQlBaeiUj8qEUg88oXi+QKTkd2/juWdrUFf0uU1huISPwoCGRekzPB+oDSX/3VdJbGCNQ1JBJbCgKZV2mhWOcCLYJ0ymjPpBQEIjGmIJB5TYUtgq4FWgSl85o1JBJfCgKZ10QNLQIIuo7UIhCJLwWBzGt2jGCRIOjKZjRrSCTGFAQyr9IYQcciXUOdbWlGNGtIJLYUBDKvWgaLIRgjGFXXkEhsKQhkXlMzBdoyKdKpareWOK3UInDXDqQicaQgkHlN5gqLtgYg2G+oUHTGpvNnoSoRaTQFgcxrYqaw6NRRgM5wdbFmDonEk4JA5jWZKyy4vURJV5tWF4vEmYJA5jU5U1vXUKe2ohaJNQWBzKvWrqHSNcfHFQQicaQgkKqK7oxP5+npWHyn8p6O4H4Fw6emoy5LRCKgIJCqxqfzONDdsfjtJzuyKdoyKQWBSEwpCKSq0lTQ7vbFWwRmxoaV7RxREIjEkoJAqhqbCoKgp4YgAFjf08EvTk5FWZKIRERBIFWdClsEtYwRAKzvUYtAJK4UBFJVqUVQS9cQwIaVahGIxJWCQKoam86TTRttmdp+Rfp62jk1lZ/dulpE4kNBIFWNTefpbs9gtvCGcyUbVnYAcOSUWgUicaMgkKpOTeVm1wfUYn1PO4DGCURiSEEgVZVaBLVavzIMgpMKApG4URBIVaem8nTXOGMIYENP0DWkAWOR+FEQyPPkCkUmZwp1tQhWd2VpS6fUNSQSQwoCeZ7j4zM4ta8hgGB1cV9PO0fUIhCJnUiDwMwuN7PHzWy/md1U5fxLzOxHZjZtZv81ylqkdqU9g+ppEUAwTqAWgUj8RBYEZpYGbgGuALYD15nZ9orLjgP/BfjfUdUh9RseCz7Ma91eomR9T7vGCERiKMoWwSXAfnd/yt1ngDuAq8svcPcj7r4H0K2tmshsi6CO6aMAG1d3MXRiUjexF4mZKINgI3Cw7PlQeKxuZna9mQ2a2eDw8HBDipP5DZ2YxICVnfW1CLb2djGZK/ALTSEViZUog6DaktQl/ano7re6+4C7D/T19Z1hWbKYZ4+Ns7orSyZV36/H1t5uAJ4+Oh5FWSISkfr+5KvPELCp7Hk/cCjCnycN8uzxCdasaKvrNV++91lOTAS3qvzKnoOzYfCOSzc3vD4RaawoWwR7gG1mttXM2oBrgV0R/jxpkGePT7CuziAAWNWZJZMyjo2pa0gkTiJrEbh73sxuBO4G0sBt7v6wmd0Qnt9pZucAg8BKoGhmHwS2u/vJqOqShY1N5zk6NsOrNq+p+7UpM9auaOOogkAkVqLsGsLddwO7K47tLHv8c4IuI2kSB49PALC2u31Jr+/tbp+dfioi8aCVxTLHgWNhEHTV3zUE0NvdxvHxGYqaQioSGwoCmWO2RbCEMQKAdd3tFIrOyISWhojEhYJA5jhwPJg62tmWXtLre8MuJY0TiMSHgkDmOHBsgs1ru5b8+t7uoCWhzedE4kNBIHMcPH5mQdDTkWVNV5ZnwrEGEWl+CgKZNTad58DxCc5f331G77Nl3QoOHBvXnkMiMaEgkFn7nhvFHXZsWn1G77OldwXjMwVNIxWJCQWBzNp7cASAHf2rz+h9tqxbAcCBo+oeEokDBYHM2js0wua1XUueOlrS293GivYMzxzT5nMicaAgkFl7D46ecbcQBLet3LKui6c1TiASCwoCAeDIqSmeG5nkwgYEAcB5fd2MTOS0JbVIDCgIBIAHD44CcOGmVQ15vws29ADw3ceONOT9RCQ6CgIBYM+B42TTxvYXNCYI1qxoY31PO//yuIJApNlFuvuoNL8v3/ssAF/fe5iNq7u486fPNey9L9jQw4+fPsbYdJ7udv2qiTQrtQiEiZk8h0YmOW/9ioa+7wXn9JArOD944mhD31dEGktBIDw1PI4D5/ed2YriSueuW8Hqriy7Hzrc0PcVkcZSEAhPDo/Rlk7Rv2bpewxVk04Zb/53L+Bbj/ycsel8Q99bRBpHQSA8OTzGlt4u0ilr+Htfc9FGpnJF7t7384a/t4g0hoKgxR0ameTo2MzsdM9Ge9W5a9i0tpO7HmjcILSINJaCoMUNHjhOJmUNWVFcjZlxzUX9/GD/UfYfGYvkZ4jImdGcvhY2lSvwwMERXvbClXS1RfOr8OV7n6W7PUMmZfzxP+zl7QObAHjHpZsj+XkiUj+1CFrY7ocOM5UrMrBlbaQ/p7s9w6Vb17F3aIRj2ppapOkoCFpUrlDk09/dz/qedl7U29j1A9W8ZlsvKTO+oy0nRJqOgqBF/f3gQZ46Os6bXnYOZo2fLVRpZUeWy87v5YGDIwyd0H0KRJqJgqAFDZ+a5pPffoKBc9fwknOimS1UzWtf3MeK9gy7Hzqs7alFmoiCoMVMzhR43+17GJvK87G3vOystAZKOrJp3vjSDTxzbIIvhXscicjyUxC0kKlcgfd/8T4efG6UT113ES/f2JidRuvxqi1r2La+m//5fx/lyWFNJxVpBgqCFvGFf3uGKz/1fb7/s2GuuXAjw6emZ3cePZtSZrz1lf20Z1P82md+yNfuH2JypnDW6xCR0yxufbUDAwM+ODi43GXEyth0nqs+9X0OHJvgba/q56LNa5a7JI6emubv7zvI0IlJ0ma8+JweXrutl5uufOlylyaSSGZ2n7sPVDunBWUJt//IGDd++X6ePT7Bf7p4Ezv6Vy93SQD09rTz/l8+jyeHx3jyyBiDB07w6OGT3H9whLe/qp8LN63mRX3dkex/JCJzRdoiMLPLgb8C0sDn3f0vKs5beP5KYAJ4j7vfv9B7qkWwMHdn+NQ0jxw+yTf3/Zy7HniOrrYMb9nxQl4c0X5CjTCTL7LnmePc/+wJDo9OAbCiLc2OTau5ZOtaXtTXTf+aTvrXdLK2q41MWr2aIvVYlhaBmaWBW4A3AEPAHjPb5e6PlF12BbAt/LoU+Gz4vWm4O+7gpccQPg+OU/G88rrggvnPe3Dyee/rZT+79DNmCgUmZ4pMzOSZzBWYyhWYmClweHSKJ4fHeGp4nMd+fpKpXBGAbNrY0b+aX33pBlZ1Zs/ev7QlaMukuOz8Xl593jqGT03z3IlJhkYmeProOD968hiVf66s6syypivLqs4sKzuz9HRkWNkRPm7P0J5NkUmlyKaNdCpFJm1k00YmlSKTMjLp4FhbOniezaSCx2kjm06RTaXIZoy0GUWHYvjfDMAAMzAs/B4cLD0/fY3NuRZj9vrSOSreq/J51WvP4kwvaQ1Rdg1dAux396cAzOwO4GqgPAiuBv7Gg2bJj81stZm9wN0bfieTb+47zB98Ze+cD1oqP9Cp8iEeEys7MvT2tLOjfzV9Pe2cs6qDjas6ac+ml7u0uqTM2LCygw0rO3jlucFYxky+yImJmfArx/h0nomZwmwgHh+fYSpfZCoMx1whZv/xlqgyKMoDB2a/Lfm9l/zaOn9yPT+r1SPwva/Zyh++8YKGv2+UQbAROFj2fIjn/7Vf7ZqNwJwgMLPrgevDp2Nm9vgiP7sXiNP9EeNWL6jmsyVuNcetXohRzX8UfrG0ms+d70SUQVAtvCv/VKvlGtz9VuDWmn+w2eB8fWHNKG71gmo+W+JWc9zqBdUM0a4jGAI2lT3vBw4t4RoREYlQlEGwB9hmZlvNrA24FthVcc0u4F0W+CVgNIrxARERmV9kXUPunjezG4G7CaaP3ubuD5vZDeH5ncBugqmj+wmmj/5mg358zd1ITSJu9YJqPlviVnPc6gXVHL+VxSIi0lhalSMi0uIUBCIiLS4xQWBmf2lmj5nZg2Z2p5mtLjv3YTPbb2aPm9mblrHMOczs7Wb2sJkVzWyg4lxT1gzB1iFhXfvN7KblrqcaM7vNzI6Y2b6yY2vN7B4zeyL8vvy774XMbJOZ/YuZPRr+TnwgPN7MNXeY2U/MbG9Y85+Ex5u2Zgh2PTCzn5rZ18PnzV7vM2b2kJk9YGaD4bGG1pyYIADuAV7u7q8AfgZ8GMDMthPMWHoZcDnwmXD7i2awD/g14HvlB5u55rKtQ64AtgPXhfU2my8Q/LsrdxPwHXffBnwnfN4s8sAfuftLgV8Cfi/899rMNU8D/97ddwAXApeHs/+auWaADwCPlj1v9noBfsXdLyxbO9DQmhMTBO7+LXfPh09/TLAmAYJtLO5w92l3f5pghtIly1FjJXd/1N2rrZJu2pop2zrE3WeA0tYhTcXdvwccrzh8NXB7+Ph24D+ezZoW4u6HSxsuuvspgg+qjTR3ze7upbsLZcMvp4lrNrN+4M3A58sON229C2hozYkJggq/BXwjfDzfNhbNrJlrbubaFrOhtE4l/L5+meupysy2ABcB99LkNYfdLA8AR4B73L3Za/4k8N+AYtmxZq4XgnD9lpndF263Aw2uOVb3IzCzbwPnVDn1UXf/p/CajxI0s79UelmV68/anNlaaq72sirHmmWebzPXFntm1g18Ffigu59s9p1G3b0AXBiOyd1pZi9f5pLmZWZXAUfc/T4ze90yl1OPy9z9kJmtB+4xs8ca/QNiFQTu/vqFzpvZu4GrgF/10wsklnUbi8Vqnkczb73RzLUt5hel3W3N7AUEf8U2DTPLEoTAl9z9a+Hhpq65xN1HzOz/EYzLNGvNlwFvMbMrgQ5gpZl9keatFwB3PxR+P2JmdxJ0zza05sR0DVlwE5wPAW9x94myU7uAa82s3cy2Etz74CfLUWMdmrnmWrYOaVa7gHeHj98NzNciO+ss+NP//wCPuvsnyk41c819pdl5ZtYJvB54jCat2d0/7O797r6F4Pf2u+7+Tpq0XgAzW2FmPaXHwBsJJpk0tubg5ifx/yIYUD0IPBB+7Sw791HgSeBx4IrlrrWsrmsI/sKeBn4B3N3sNYe1XUkwM+tJgi6uZa+pSo1/R7CdeS78d/xeYB3BDIsnwu9rl7vOsnpfQ9DF9mDZ7/CVTV7zK4CfhjXvA24OjzdtzWW1vw74erPXC7wI2Bt+PVz6/63RNWuLCRGRFpeYriEREVkaBYGISItTEIiItDgFgYhIi1MQiIi0OAWBSAOY2f8ws6UsHhRZdpo+KnKGzCztwVYLIrGkFoHIAsxsS3ifi9stuNfFP5pZV7hH/M1m9gPg7Wb2BTN7W/iai83sh+E+/T8xs55wc7a/NLM94fu8f5n/0URmKQhEFncBcKsH97o4CfxueHzK3V/j7neULgy33fgK8AEP9ul/PTBJsLJ51N0vBi4GfjvcPkRk2SkIRBZ30N3/LXz8RYLtICD4wK90AXDY3fcAuPtJD+6T8UbgXeGWzfcSbBGwLdKqRWoUq91HRZZJ5UBa6fl4lWutyvWl47/v7nc3sjCRRlCLQGRxm83s1eHj64AfLHDtY8ALzexigHB8IAPcDfxOuNU0ZvbicDdJkWWnIBBZ3KPAu83sQWAt8Nn5LvTg9p2/Dvy1me0luJd2B8GtER8B7jezfcDnUItcmoSmj4osILxt5NfdvWnvvCVyptQiEBFpcWoRiIi0OLUIRERanIJARKTFKQhERFqcgkBEpMUpCEREWtz/B8FYVwIoSrs7AAAAAElFTkSuQmCC\n",
      "text/plain": [
       "<Figure size 432x288 with 1 Axes>"
      ]
     },
     "metadata": {
      "needs_background": "light"
     },
     "output_type": "display_data"
    }
   ],
   "source": [
    "sns.distplot(yy_test - predictions,bins=50)"
   ]
  },
  {
   "cell_type": "markdown",
   "metadata": {},
   "source": [
    "## Price prediction function"
   ]
  },
  {
   "cell_type": "code",
   "execution_count": 126,
   "metadata": {},
   "outputs": [],
   "source": [
    "def predict_price(name,source,destination,surge_multiplier,icon):    \n",
    "    loc_index = np.where(new_uber.columns==name)[0]\n",
    "\n",
    "    x = np.zeros(len(new_uber.columns))\n",
    "    x[0] = source\n",
    "    x[1] = destination\n",
    "    x[2] = surge_multiplier\n",
    "    x[3] = icon\n",
    "    if loc_index >= 0:\n",
    "        x[loc_index] = 1\n",
    "\n",
    "    return random.predict([x])[0]"
   ]
  },
  {
   "cell_type": "code",
   "execution_count": 127,
   "metadata": {},
   "outputs": [],
   "source": [
    "pre= random.predict(xx_test)"
   ]
  },
  {
   <! ---  "cell_type": "markdown",
   "metadata": {},
   "source": [
    "### Follow these instructions before predicting the price:\n",
    "#### For cab_name: Black SUV --> 0 , Lux --> 1 , Shared --> 2 , Taxi --> 3 , UberPool --> 4 , UberX --> 5\n",
    "#### For Source: Back Bay --> 0 , Beacon Hill --> 1 , Boston University --> 2 , Fenway --> 3 , Financial District --> 4 , Haymarket Square --> 5 , North End --> 6 , North Station --> 7 , Northeastern University --> 8 , South Station --> 9 , Theatre District --> 10 , West End --> 11\n",
    "#### For destinstion: Back Bay --> 0 , Beacon Hill --> 1 , Boston University --> 2 , Fenway --> 3 , Financial District --> 4 , Haymarket Square --> 5 , North End --> 6 , North Station --> 7 , Northeastern University --> 8 , South Station --> 9 , Theatre District --> 10 , West End --> 11\n",
    "#### For Surge_multiplier : Enter Surge Multiplier value from 0 to 4\n",
    "#### for Icon: clear-day --> 0 , clear-night --> 1 , cloudy --> 2 , fog --> 3 , partly-cloudy-day --> 4 , partly-cloudy-night --> 5 , rain --> 6\n",
    "#### **predict_price(cab_name , source ,destination,  surge_multiplier , icon)**"
   ] ---> 
  },
  {
   "cell_type": "code",
   "execution_count": 128,
   "metadata": {},
   "outputs": [
    {
     "name": "stderr",
     "output_type": "stream",
     "text": [
      "<ipython-input-126-ce26a1f0c647>:9: DeprecationWarning: The truth value of an empty array is ambiguous. Returning False, but in future this will result in an error. Use `array.size > 0` to check that an array is not empty.\n",
      "  if loc_index >= 0:\n"
     ]
    },
    {
     "data": {
      "text/plain": [
       "18.642170329670336"
      ]
     },
     "execution_count": 128,
     "metadata": {},
     "output_type": "execute_result"
    }
   ],
   "source": [
    "predict_price(0,1,9,3,1)"
   ]
  },
  {
   "cell_type": "code",
   "execution_count": 130,
   "metadata": {},
   "outputs": [
    {
     "name": "stderr",
     "output_type": "stream",
     "text": [
      "<ipython-input-126-ce26a1f0c647>:9: DeprecationWarning: The truth value of an empty array is ambiguous. Returning False, but in future this will result in an error. Use `array.size > 0` to check that an array is not empty.\n",
      "  if loc_index >= 0:\n"
     ]
    },
    {
     "data": {
      "text/plain": [
       "18.475797632922635"
      ]
     },
     "execution_count": 130,
     "metadata": {},
     "output_type": "execute_result"
    }
   ],
   "source": [
    "predict_price(4,1,5,2,6)"
   ]
  },
  {
   "cell_type": "code",
   "execution_count": 131,
   "metadata": {},
   "outputs": [
    {
     "name": "stderr",
     "output_type": "stream",
     "text": [
      "<ipython-input-126-ce26a1f0c647>:9: DeprecationWarning: The truth value of an empty array is ambiguous. Returning False, but in future this will result in an error. Use `array.size > 0` to check that an array is not empty.\n",
      "  if loc_index >= 0:\n"
     ]
    },
    {
     "data": {
      "text/plain": [
       "20.77072757797758"
      ]
     },
     "execution_count": 131,
     "metadata": {},
     "output_type": "execute_result"
    }
   ],
   "source": [
    "predict_price(2,2,9,4,2)"
   ]
  },
  {
   "cell_type": "code",
   "execution_count": null,
   "metadata": {},
   "outputs": [],
   "source": []
  }
 ],
 "metadata": {
  "kernelspec": {
   "display_name": "Python 3",
   "language": "python",
   "name": "python3"
  },
  "language_info": {
   "codemirror_mode": {
    "name": "ipython",
    "version": 3
   },
   "file_extension": ".py",
   "mimetype": "text/x-python",
   "name": "python",
   "nbconvert_exporter": "python",
   "pygments_lexer": "ipython3",
   "version": "3.8.5"
  }
 },
 "nbformat": 4,
 "nbformat_minor": 4
}
